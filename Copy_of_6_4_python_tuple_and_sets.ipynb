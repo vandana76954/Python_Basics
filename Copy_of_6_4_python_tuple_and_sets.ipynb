{
  "cells": [
    {
      "cell_type": "markdown",
      "metadata": {
        "id": "98DOFGmPqhzL"
      },
      "source": [
        "## 6.4.1 Tuples\n",
        "\n",
        "In Python, `tuples` are similar to lists but they are immutable i.e. they cannot be changed. You would use the tuples to present data that shouldn't be changed, such as days of week or dates on  a calendar.\n",
        "\n",
        "In this section, we will get a brief overview of the following key topics:\n",
        "\n",
        "    1) Constructing Tuples\n",
        "    2) Basic Tuple Methods\n",
        "    3) Immutability\n",
        "    4) When to Use Tuples\n",
        "\n",
        "You'll have an intuition of how to use tuples based on what you've learned about lists. But, Tuples work very similar to lists but the  major difference is tuples are immutable.\n"
      ]
    },
    {
      "cell_type": "markdown",
      "metadata": {
        "id": "CbdyvNC4sbv_"
      },
      "source": [
        "### Constructing Tuples\n",
        "\n",
        "The construction of tuples use `()` with elements separated by commas where in the arguments will be passed within brackets. For example:"
      ]
    },
    {
      "cell_type": "code",
      "execution_count": null,
      "metadata": {
        "id": "pLDC1yC2qhzN"
      },
      "outputs": [],
      "source": [
        "# Can create a tuple with mixed types\n",
        "t = (1,2,3)"
      ]
    },
    {
      "cell_type": "code",
      "execution_count": null,
      "metadata": {
        "id": "kR98VVgqqhzS",
        "outputId": "deb8e516-5fdd-433a-e8d8-39b8e265829d"
      },
      "outputs": [
        {
          "data": {
            "text/plain": [
              "tuple"
            ]
          },
          "execution_count": 9,
          "metadata": {
            "tags": []
          },
          "output_type": "execute_result"
        }
      ],
      "source": [
        "# Check type just like a list\n",
        "type(t)"
      ]
    },
    {
      "cell_type": "code",
      "execution_count": null,
      "metadata": {
        "id": "MMjM5IdqqhzX"
      },
      "outputs": [],
      "source": [
        "# tuple with mixed data-type\n",
        "t = (1,2,3,\"iNeuron\",True,25.36)"
      ]
    },
    {
      "cell_type": "code",
      "execution_count": null,
      "metadata": {
        "id": "uC2vMP4cqhze"
      },
      "outputs": [],
      "source": [
        "# empty tiple\n",
        "t = ()"
      ]
    },
    {
      "cell_type": "code",
      "execution_count": null,
      "metadata": {
        "id": "SOghhN-sqhzl",
        "outputId": "73bf695b-7b60-4c08-dee0-88c0eb0eab54"
      },
      "outputs": [
        {
          "data": {
            "text/plain": [
              "['sdf', 'sf']"
            ]
          },
          "execution_count": 6,
          "metadata": {
            "tags": []
          },
          "output_type": "execute_result"
        }
      ],
      "source": [
        "# Can also mix object types\n",
        "t = ('one',2)\n",
        "\n",
        "# Show\n",
        "l = ['sdf','sf']\n",
        "l.sort()\n",
        "l"
      ]
    },
    {
      "cell_type": "markdown",
      "metadata": {
        "id": "1MLRjdSgqhzr"
      },
      "source": [
        "### Accessing value in tuples"
      ]
    },
    {
      "cell_type": "code",
      "execution_count": null,
      "metadata": {
        "id": "bGi3_UI3qhzt",
        "outputId": "7fb1fe83-3ad3-423a-f621-ae1e24836050"
      },
      "outputs": [
        {
          "data": {
            "text/plain": [
              "'one'"
            ]
          },
          "execution_count": 9,
          "metadata": {
            "tags": []
          },
          "output_type": "execute_result"
        }
      ],
      "source": [
        "# Use indexing just like we did in lists\n",
        "t[0]"
      ]
    },
    {
      "cell_type": "code",
      "execution_count": null,
      "metadata": {
        "id": "SEJbos8nqhzz",
        "outputId": "890945c0-11c2-49e4-be09-3843414718b2"
      },
      "outputs": [
        {
          "data": {
            "text/plain": [
              "2"
            ]
          },
          "execution_count": 10,
          "metadata": {
            "tags": []
          },
          "output_type": "execute_result"
        }
      ],
      "source": [
        "# Slicing just like a list\n",
        "t[-1]"
      ]
    },
    {
      "cell_type": "code",
      "execution_count": null,
      "metadata": {
        "id": "cz2NLxS8qhz9",
        "outputId": "5ae67c95-ff0c-46f9-afbf-99d3623dff1f"
      },
      "outputs": [
        {
          "data": {
            "text/plain": [
              "(2,)"
            ]
          },
          "execution_count": 11,
          "metadata": {
            "tags": []
          },
          "output_type": "execute_result"
        }
      ],
      "source": [
        "t[1:3]"
      ]
    },
    {
      "cell_type": "markdown",
      "metadata": {
        "id": "PkMaxqfIqh0D"
      },
      "source": [
        "### Updating elements in tuple\n",
        "\n",
        "Tuples are immutable so we cannot update or change the value of element in tuple. Instead we can take something from tuple and create new tuple out of it."
      ]
    },
    {
      "cell_type": "code",
      "execution_count": null,
      "metadata": {
        "id": "dPaAyQkGqh0E"
      },
      "outputs": [],
      "source": [
        "t1 = (10,20,2.5)\n",
        "t2 = (True,\"hi\")"
      ]
    },
    {
      "cell_type": "code",
      "execution_count": null,
      "metadata": {
        "id": "OxmgywCvqh0M",
        "outputId": "b563bdcf-f0cf-4cc7-dee9-c0eaaa2faf01"
      },
      "outputs": [
        {
          "ename": "TypeError",
          "evalue": "'tuple' object does not support item assignment",
          "output_type": "error",
          "traceback": [
            "\u001b[1;31m---------------------------------------------------------------------------\u001b[0m",
            "\u001b[1;31mTypeError\u001b[0m                                 Traceback (most recent call last)",
            "\u001b[1;32m<ipython-input-14-9fab6ec05e66>\u001b[0m in \u001b[0;36m<module>\u001b[1;34m\u001b[0m\n\u001b[0;32m      1\u001b[0m \u001b[1;31m# this opeation is not possible in tuple, however we can do this by converting to list\u001b[0m\u001b[1;33m\u001b[0m\u001b[1;33m\u001b[0m\u001b[1;33m\u001b[0m\u001b[0m\n\u001b[1;32m----> 2\u001b[1;33m \u001b[0mt1\u001b[0m\u001b[1;33m[\u001b[0m\u001b[1;36m0\u001b[0m\u001b[1;33m]\u001b[0m \u001b[1;33m=\u001b[0m \u001b[1;36m1\u001b[0m\u001b[1;33m\u001b[0m\u001b[1;33m\u001b[0m\u001b[0m\n\u001b[0m",
            "\u001b[1;31mTypeError\u001b[0m: 'tuple' object does not support item assignment"
          ]
        }
      ],
      "source": [
        "# this opeation is not possible in tuple, however we can do this by converting to list\n",
        "t1[0] = 1"
      ]
    },
    {
      "cell_type": "code",
      "execution_count": null,
      "metadata": {
        "id": "lHRwqttKqh0U",
        "outputId": "65ff5d9f-f437-47e5-fd15-af6b70ea2e72"
      },
      "outputs": [
        {
          "data": {
            "text/plain": [
              "(10, 20, 2.5, True, 'hi')"
            ]
          },
          "execution_count": 15,
          "metadata": {
            "tags": []
          },
          "output_type": "execute_result"
        }
      ],
      "source": [
        "# create new tuple from this 2 tuples\n",
        "t3 = t1 + t2 # Concatenation of tuple\n",
        "t3"
      ]
    },
    {
      "cell_type": "code",
      "execution_count": null,
      "metadata": {
        "id": "rTKXb2Asqh0c",
        "outputId": "624d19b6-e422-4b2c-d314-98ee247aa12a"
      },
      "outputs": [
        {
          "data": {
            "text/plain": [
              "[1, 20, 2.5]"
            ]
          },
          "execution_count": 16,
          "metadata": {
            "tags": []
          },
          "output_type": "execute_result"
        }
      ],
      "source": [
        "# Or we can convert to list and re assign\n",
        "t_list = list(t1)\n",
        "t_list[0] = 1\n",
        "t_list"
      ]
    },
    {
      "cell_type": "markdown",
      "metadata": {
        "id": "wTDOE3DLqh0l"
      },
      "source": [
        "### Basic Tuple Methods\n",
        "\n",
        "Tuples have built-in methods, but not as many as lists do. Let's see spme samples of tuple built-in methods:"
      ]
    },
    {
      "cell_type": "code",
      "execution_count": null,
      "metadata": {
        "id": "_bNbaNWrqh0m",
        "outputId": "11bfd6d2-924c-43ae-a5fa-1569998704da"
      },
      "outputs": [
        {
          "data": {
            "text/plain": [
              "2"
            ]
          },
          "execution_count": 18,
          "metadata": {
            "tags": []
          },
          "output_type": "execute_result"
        }
      ],
      "source": [
        "# Length of tuple\n",
        "len(t)"
      ]
    },
    {
      "cell_type": "code",
      "execution_count": null,
      "metadata": {
        "id": "zOfWVHRAqh0t",
        "outputId": "23daa8b7-c568-4071-9489-1d9d0b3aa16f"
      },
      "outputs": [
        {
          "data": {
            "text/plain": [
              "('one', 2, 'one', 2)"
            ]
          },
          "execution_count": 19,
          "metadata": {
            "tags": []
          },
          "output_type": "execute_result"
        }
      ],
      "source": [
        "# Repetition of tuple\n",
        "t * 2"
      ]
    },
    {
      "cell_type": "code",
      "execution_count": null,
      "metadata": {
        "id": "X1Z2Y0W0qh02",
        "outputId": "9160c3fd-2b58-470a-a31b-aad1c1225faf"
      },
      "outputs": [
        {
          "data": {
            "text/plain": [
              "False"
            ]
          },
          "execution_count": 20,
          "metadata": {
            "tags": []
          },
          "output_type": "execute_result"
        }
      ],
      "source": [
        "# Check if element is a member of a tuple\n",
        "3 in t"
      ]
    },
    {
      "cell_type": "code",
      "execution_count": null,
      "metadata": {
        "id": "z3KwWiMaqh07",
        "outputId": "750a253d-b9e4-4d26-94ba-9ab00644f519"
      },
      "outputs": [
        {
          "data": {
            "text/plain": [
              "89"
            ]
          },
          "execution_count": 22,
          "metadata": {
            "tags": []
          },
          "output_type": "execute_result"
        }
      ],
      "source": [
        "# max eleemnt of a tuple\n",
        "t = (1,5,89,45,4)\n",
        "max(t)"
      ]
    },
    {
      "cell_type": "code",
      "execution_count": null,
      "metadata": {
        "id": "uaGPAJV6qh1A",
        "outputId": "a81c21cb-06bc-425d-9b0a-975374dc05c7"
      },
      "outputs": [
        {
          "data": {
            "text/plain": [
              "'ineuron'"
            ]
          },
          "execution_count": 23,
          "metadata": {
            "tags": []
          },
          "output_type": "execute_result"
        }
      ],
      "source": [
        "t= (\"abc\",\"DS\",\"ineuron\")\n",
        "max(t)"
      ]
    },
    {
      "cell_type": "code",
      "execution_count": null,
      "metadata": {
        "id": "0WijAygVqh1J",
        "outputId": "fd29f537-cc29-48cb-c8ba-4528aab05f9c"
      },
      "outputs": [
        {
          "ename": "TypeError",
          "evalue": "'>' not supported between instances of 'str' and 'int'",
          "output_type": "error",
          "traceback": [
            "\u001b[1;31m---------------------------------------------------------------------------\u001b[0m",
            "\u001b[1;31mTypeError\u001b[0m                                 Traceback (most recent call last)",
            "\u001b[1;32m<ipython-input-25-5587d57aa41d>\u001b[0m in \u001b[0;36m<module>\u001b[1;34m\u001b[0m\n\u001b[0;32m      1\u001b[0m \u001b[0mt\u001b[0m \u001b[1;33m=\u001b[0m \u001b[1;33m(\u001b[0m\u001b[1;36m1\u001b[0m\u001b[1;33m,\u001b[0m\u001b[1;36m2\u001b[0m\u001b[1;33m,\u001b[0m\u001b[1;34m\"abc\"\u001b[0m\u001b[1;33m)\u001b[0m \u001b[1;31m# max() not supported for different data types at a given tuple\u001b[0m\u001b[1;33m\u001b[0m\u001b[1;33m\u001b[0m\u001b[0m\n\u001b[1;32m----> 2\u001b[1;33m \u001b[0mmax\u001b[0m\u001b[1;33m(\u001b[0m\u001b[0mt\u001b[0m\u001b[1;33m)\u001b[0m\u001b[1;33m\u001b[0m\u001b[1;33m\u001b[0m\u001b[0m\n\u001b[0m",
            "\u001b[1;31mTypeError\u001b[0m: '>' not supported between instances of 'str' and 'int'"
          ]
        }
      ],
      "source": [
        "t = (1,2,\"abc\") # max() not supported for different data types at a given tuple\n",
        "max(t)"
      ]
    },
    {
      "cell_type": "code",
      "execution_count": null,
      "metadata": {
        "id": "0RnJyBBoqh1P",
        "outputId": "881a5950-6666-4d28-eae2-9464c78d93d3"
      },
      "outputs": [
        {
          "data": {
            "text/plain": [
              "0"
            ]
          },
          "execution_count": 27,
          "metadata": {
            "tags": []
          },
          "output_type": "execute_result"
        }
      ],
      "source": [
        "# Use .index to enter a value and return the index\n",
        "t.index(1)"
      ]
    },
    {
      "cell_type": "code",
      "execution_count": null,
      "metadata": {
        "id": "W7rrCiNpqh1W",
        "outputId": "44356e90-f647-440b-df57-9fafae2481ec"
      },
      "outputs": [
        {
          "data": {
            "text/plain": [
              "1"
            ]
          },
          "execution_count": 29,
          "metadata": {
            "tags": []
          },
          "output_type": "execute_result"
        }
      ],
      "source": [
        "# Use .count to count the number of times a value appears\n",
        "t.count('abc')"
      ]
    },
    {
      "cell_type": "markdown",
      "metadata": {
        "id": "t0u2p7OQqh1d"
      },
      "source": [
        "### Immutability\n",
        "\n",
        "As tuples are immutable, it can't be stressed enough and add more into it. To drive that point home:"
      ]
    },
    {
      "cell_type": "code",
      "execution_count": null,
      "metadata": {
        "id": "xxkMDPmtqh1e",
        "outputId": "c2eed5bd-36da-41b6-82a0-9bac2852f4e8"
      },
      "outputs": [
        {
          "ename": "TypeError",
          "evalue": "'tuple' object does not support item assignment",
          "output_type": "error",
          "traceback": [
            "\u001b[1;31m---------------------------------------------------------------------------\u001b[0m",
            "\u001b[1;31mTypeError\u001b[0m                                 Traceback (most recent call last)",
            "\u001b[1;32m<ipython-input-30-1257c0aa9edd>\u001b[0m in \u001b[0;36m<module>\u001b[1;34m\u001b[0m\n\u001b[1;32m----> 1\u001b[1;33m \u001b[0mt\u001b[0m\u001b[1;33m[\u001b[0m\u001b[1;36m0\u001b[0m\u001b[1;33m]\u001b[0m\u001b[1;33m=\u001b[0m \u001b[1;34m'change'\u001b[0m\u001b[1;33m\u001b[0m\u001b[1;33m\u001b[0m\u001b[0m\n\u001b[0m",
            "\u001b[1;31mTypeError\u001b[0m: 'tuple' object does not support item assignment"
          ]
        }
      ],
      "source": [
        "t[0]= 'change'"
      ]
    },
    {
      "cell_type": "markdown",
      "metadata": {
        "id": "fAp_iIoDqh1j"
      },
      "source": [
        "Because tuple being immutable they can't grow. Once a tuple is made we can not add to it."
      ]
    },
    {
      "cell_type": "code",
      "execution_count": null,
      "metadata": {
        "id": "9Lq05VYgqh1l",
        "outputId": "80507095-e945-49be-8c5b-b53caf8c6d7d"
      },
      "outputs": [
        {
          "ename": "AttributeError",
          "evalue": "'tuple' object has no attribute 'append'",
          "output_type": "error",
          "traceback": [
            "\u001b[1;31m---------------------------------------------------------------------------\u001b[0m",
            "\u001b[1;31mAttributeError\u001b[0m                            Traceback (most recent call last)",
            "\u001b[1;32m<ipython-input-31-b75f5b09ac19>\u001b[0m in \u001b[0;36m<module>\u001b[1;34m\u001b[0m\n\u001b[1;32m----> 1\u001b[1;33m \u001b[0mt\u001b[0m\u001b[1;33m.\u001b[0m\u001b[0mappend\u001b[0m\u001b[1;33m(\u001b[0m\u001b[1;34m'nope'\u001b[0m\u001b[1;33m)\u001b[0m\u001b[1;33m\u001b[0m\u001b[1;33m\u001b[0m\u001b[0m\n\u001b[0m",
            "\u001b[1;31mAttributeError\u001b[0m: 'tuple' object has no attribute 'append'"
          ]
        }
      ],
      "source": [
        "t.append('nope')"
      ]
    },
    {
      "cell_type": "code",
      "execution_count": null,
      "metadata": {
        "id": "dCIdeoNIqh1r",
        "outputId": "a40c8c19-1bb0-4def-ba1d-a46e8cfddde1"
      },
      "outputs": [
        {
          "data": {
            "text/plain": [
              "2"
            ]
          },
          "execution_count": 32,
          "metadata": {
            "tags": []
          },
          "output_type": "execute_result"
        }
      ],
      "source": [
        "# min() of a tuple\n",
        "t = (5,9,2,8)\n",
        "min(t)"
      ]
    },
    {
      "cell_type": "code",
      "execution_count": null,
      "metadata": {
        "id": "qJ6jc_sNqh1x",
        "outputId": "eced1e0d-06a2-4328-c323-1b0c18dec54c"
      },
      "outputs": [
        {
          "data": {
            "text/plain": [
              "'False'"
            ]
          },
          "execution_count": 34,
          "metadata": {
            "tags": []
          },
          "output_type": "execute_result"
        }
      ],
      "source": [
        "# for min() all elements data type should be same in a tuple\n",
        "t = (\"True\",\"False\")\n",
        "min(t)"
      ]
    },
    {
      "cell_type": "code",
      "execution_count": null,
      "metadata": {
        "id": "aevZB7Imqh15"
      },
      "outputs": [],
      "source": [
        "# tuple() will be used to convert list object to tuple while list() will be used to convert list objects to tuple\n",
        "\n",
        "t = (1,2,3,4,5)\n",
        "\n",
        "t = list(t) # converting to list and can do every operation which we can do with list"
      ]
    },
    {
      "cell_type": "code",
      "execution_count": null,
      "metadata": {
        "id": "mWJDGNYCqh2A"
      },
      "outputs": [],
      "source": [
        "t[0] = 6"
      ]
    },
    {
      "cell_type": "code",
      "execution_count": null,
      "metadata": {
        "id": "gZZ-Gi06qh2G",
        "outputId": "930e471a-d4cf-4fa3-d145-5077c3c016e2"
      },
      "outputs": [
        {
          "data": {
            "text/plain": [
              "([6, 2, 3, 4, 5], list)"
            ]
          },
          "execution_count": 40,
          "metadata": {
            "tags": []
          },
          "output_type": "execute_result"
        }
      ],
      "source": [
        "t , type(t)"
      ]
    },
    {
      "cell_type": "code",
      "execution_count": null,
      "metadata": {
        "id": "XG5UeDrtqh2K",
        "outputId": "e0696f82-1c2e-4414-8ac7-1a10336c0f2e"
      },
      "outputs": [
        {
          "data": {
            "text/plain": [
              "(6, 2, 3, 4, 5)"
            ]
          },
          "execution_count": 41,
          "metadata": {
            "tags": []
          },
          "output_type": "execute_result"
        }
      ],
      "source": [
        "# Now convert back to tuple\n",
        "t = tuple(t)\n",
        "t"
      ]
    },
    {
      "cell_type": "markdown",
      "metadata": {
        "id": "dcZRTyWyqh2O"
      },
      "source": [
        "### When to use Tuples\n",
        "\n",
        "You may be wondering, \"Why to bother using tuples when they have a few available methods?\" \n",
        "\n",
        "Tuples are not used often as lists in programming but are used when immutability is necessary. While you are passing around an object and if you need to make sure that it does not get changed then tuple become your solution. It provides a convenient source of data integrity.\n",
        "\n",
        "\n",
        "You should now be able to create and use tuples in your programming as well as have a complete understanding of their immutability."
      ]
    },
    {
      "cell_type": "markdown",
      "metadata": {
        "id": "1XzJ9yDPtROH"
      },
      "source": [
        "### Examples"
      ]
    },
    {
      "cell_type": "code",
      "execution_count": null,
      "metadata": {
        "id": "Ax-QyOCIqh2O",
        "outputId": "8665698c-8edc-43ea-f052-f111cfdca850"
      },
      "outputs": [
        {
          "name": "stdout",
          "output_type": "stream",
          "text": [
            "[('',), ('a', 'b'), ('a', 'b', 'c'), 'd']\n"
          ]
        }
      ],
      "source": [
        "# Remove an empty tuple(s) from a list of tuples.\n",
        "t = [(), (), ('',), ('a', 'b'), ('a', 'b', 'c'), ('d')]\n",
        "L = [i for i in t if i]\n",
        "print(L)"
      ]
    },
    {
      "cell_type": "code",
      "execution_count": null,
      "metadata": {
        "id": "UOz2h0XDqh2W",
        "outputId": "b58fa461-4389-44f3-d74c-776ccef4cc20"
      },
      "outputs": [
        {
          "data": {
            "text/plain": [
              "((1, 2), (3, 4))"
            ]
          },
          "execution_count": 44,
          "metadata": {
            "tags": []
          },
          "output_type": "execute_result"
        }
      ],
      "source": [
        "# Nested tuples\n",
        "t1 = (1,2)\n",
        "t2 = (3,4)\n",
        "nested= (t1,t2)\n",
        "nested"
      ]
    },
    {
      "cell_type": "code",
      "execution_count": null,
      "metadata": {
        "id": "OdCB2seGqh2b",
        "outputId": "97b99a11-4e78-43b6-be27-f716ed911ba4"
      },
      "outputs": [
        {
          "ename": "NameError",
          "evalue": "name 't' is not defined",
          "output_type": "error",
          "traceback": [
            "\u001b[1;31m---------------------------------------------------------------------------\u001b[0m",
            "\u001b[1;31mNameError\u001b[0m                                 Traceback (most recent call last)",
            "\u001b[1;32m<ipython-input-45-ba919ee94129>\u001b[0m in \u001b[0;36m<module>\u001b[1;34m\u001b[0m\n\u001b[0;32m      1\u001b[0m \u001b[0mt\u001b[0m \u001b[1;33m=\u001b[0m \u001b[1;33m(\u001b[0m\u001b[1;36m1\u001b[0m\u001b[1;33m)\u001b[0m\u001b[1;33m\u001b[0m\u001b[1;33m\u001b[0m\u001b[0m\n\u001b[0;32m      2\u001b[0m \u001b[1;32mdel\u001b[0m\u001b[1;33m(\u001b[0m\u001b[0mt\u001b[0m\u001b[1;33m)\u001b[0m \u001b[1;31m# deleteing tuple\u001b[0m\u001b[1;33m\u001b[0m\u001b[1;33m\u001b[0m\u001b[0m\n\u001b[1;32m----> 3\u001b[1;33m \u001b[0mt\u001b[0m\u001b[1;33m\u001b[0m\u001b[1;33m\u001b[0m\u001b[0m\n\u001b[0m",
            "\u001b[1;31mNameError\u001b[0m: name 't' is not defined"
          ]
        }
      ],
      "source": [
        "t = (1)\n",
        "del(t) # deleteing tuple\n",
        "t # already deleted"
      ]
    },
    {
      "cell_type": "code",
      "execution_count": null,
      "metadata": {
        "id": "Iekd-g2Tqh2f",
        "outputId": "d9affe34-c523-4c53-8003-2248e3495051"
      },
      "outputs": [
        {
          "name": "stdout",
          "output_type": "stream",
          "text": [
            "Not the same length\n"
          ]
        }
      ],
      "source": [
        "#Creating tuples in a if else \n",
        "  \n",
        "t1 = ('abc', 'def') \n",
        "t2 = ('abc', 'def',3) \n",
        "  \n",
        "if (len(t1) != len(t2)): \n",
        "    print('Not the same length') \n",
        "else: \n",
        "    print('Same length') "
      ]
    },
    {
      "cell_type": "code",
      "execution_count": null,
      "metadata": {
        "id": "hLO6PuDDqh2k",
        "outputId": "3747dd39-cf06-42ef-d945-c708911af041"
      },
      "outputs": [
        {
          "name": "stdout",
          "output_type": "stream",
          "text": [
            "Enter your symptoms: cold\n",
            "There might chances of COVID. Concern to doctor\n"
          ]
        }
      ],
      "source": [
        "covid_symptoms = (\"cold\",\"cough\",\"throat-problem\",\"BP\",\"DB\")\n",
        "\n",
        "sym = input(\"Enter your symptoms: \")\n",
        "if sym in covid_symptoms:\n",
        "    print(\"There might be chances of COVID. Concern to doctor\")\n",
        "else:\n",
        "    print(\"You are safe, but take precautions\")"
      ]
    },
    {
      "cell_type": "markdown",
      "metadata": {
        "id": "ig-0vHSvqh2q"
      },
      "source": [
        "## 6.4.2 Sets\n",
        "\n",
        "`Sets` are an unordered collection of *unique* elements which can be constructed using the `set()` function. \n",
        "\n",
        "Let's go ahead and create a set to see how it works."
      ]
    },
    {
      "cell_type": "code",
      "execution_count": null,
      "metadata": {
        "id": "36OL0m-zqh2q"
      },
      "outputs": [],
      "source": [
        "x = set()"
      ]
    },
    {
      "cell_type": "markdown",
      "metadata": {
        "id": "9GtwrBCZtisD"
      },
      "source": [
        "### Sets operations"
      ]
    },
    {
      "cell_type": "code",
      "execution_count": null,
      "metadata": {
        "id": "t93BHgq-qh2v"
      },
      "outputs": [],
      "source": [
        "# We add to sets with the add() method\n",
        "x.add(3)"
      ]
    },
    {
      "cell_type": "code",
      "execution_count": null,
      "metadata": {
        "id": "CxJx4vw9qh24",
        "outputId": "f6b5bef8-bd7a-4e46-afcd-170a3db42393"
      },
      "outputs": [
        {
          "data": {
            "text/plain": [
              "{3}"
            ]
          },
          "execution_count": 53,
          "metadata": {
            "tags": []
          },
          "output_type": "execute_result"
        }
      ],
      "source": [
        "#Show\n",
        "x"
      ]
    },
    {
      "cell_type": "markdown",
      "metadata": {
        "id": "fDVKfAPkqh28"
      },
      "source": [
        "Note that the curly brackets do not indicate a dictionary! Using only keys, you can draw analogies as a set being a dictionary.\n",
        "\n",
        "We know that a set has an only unique entry. Now, let us see what happens when we try to add something more that is already present in a set?"
      ]
    },
    {
      "cell_type": "code",
      "execution_count": null,
      "metadata": {
        "id": "UBuEzaTwqh29"
      },
      "outputs": [],
      "source": [
        "# Add a different element\n",
        "x.add(2)"
      ]
    },
    {
      "cell_type": "code",
      "execution_count": null,
      "metadata": {
        "id": "3ZUbNitVqh3C",
        "outputId": "61e5ca9c-2a2b-433a-bf2b-af98dad70864"
      },
      "outputs": [
        {
          "data": {
            "text/plain": [
              "{2, 3}"
            ]
          },
          "execution_count": 55,
          "metadata": {
            "tags": []
          },
          "output_type": "execute_result"
        }
      ],
      "source": [
        "#Show\n",
        "x"
      ]
    },
    {
      "cell_type": "code",
      "execution_count": null,
      "metadata": {
        "id": "hBOkUP9Hqh3K"
      },
      "outputs": [],
      "source": [
        "# Try to add the same element\n",
        "x.add(2)"
      ]
    },
    {
      "cell_type": "code",
      "execution_count": null,
      "metadata": {
        "id": "4FoQBy8Yqh3X",
        "outputId": "99f41292-0ea4-4986-f83f-e881e7f14355"
      },
      "outputs": [
        {
          "data": {
            "text/plain": [
              "{1, 2, 3}"
            ]
          },
          "execution_count": 58,
          "metadata": {
            "tags": []
          },
          "output_type": "execute_result"
        }
      ],
      "source": [
        "#Show\n",
        "x"
      ]
    },
    {
      "cell_type": "markdown",
      "metadata": {
        "id": "NWCHNeVNqh3b"
      },
      "source": [
        "Notice, how it won't place another 2 there as a set is only concerned with unique elements! However, We can cast a list with multiple repeat elements to a set to get the unique elements. For example:"
      ]
    },
    {
      "cell_type": "code",
      "execution_count": null,
      "metadata": {
        "id": "xWBpXkG9qh3c"
      },
      "outputs": [],
      "source": [
        "# Create a list with repeats\n",
        "l = [1,1,2,2,3,4,5,6,1,1]"
      ]
    },
    {
      "cell_type": "code",
      "execution_count": null,
      "metadata": {
        "id": "UQUvFTR6qh3q",
        "outputId": "8afabaa8-a5d4-460c-a974-6c510663ba8d"
      },
      "outputs": [
        {
          "data": {
            "text/plain": [
              "{1, 2, 3, 4, 5, 6}"
            ]
          },
          "execution_count": 61,
          "metadata": {
            "tags": []
          },
          "output_type": "execute_result"
        }
      ],
      "source": [
        "# Cast as set to get unique values\n",
        "l = set(l)\n",
        "l"
      ]
    },
    {
      "cell_type": "code",
      "execution_count": null,
      "metadata": {
        "id": "8v2CV7o0qh4I",
        "outputId": "d048574c-9178-4ac1-8f6d-33f408fa97b5"
      },
      "outputs": [
        {
          "data": {
            "text/plain": [
              "{1, 2, 3, 4, 5}"
            ]
          },
          "execution_count": 62,
          "metadata": {
            "tags": []
          },
          "output_type": "execute_result"
        }
      ],
      "source": [
        "# Remove element from set\n",
        "l.remove(6)\n",
        "l"
      ]
    },
    {
      "cell_type": "code",
      "execution_count": null,
      "metadata": {
        "id": "FAzm9-PNqh4U"
      },
      "outputs": [],
      "source": [
        "l.discard(6) # It will not givean error if element is not present"
      ]
    },
    {
      "cell_type": "code",
      "execution_count": null,
      "metadata": {
        "id": "DmO-HmBTqh4n",
        "outputId": "6e463484-346e-468c-f65f-c1b8a222ce93"
      },
      "outputs": [
        {
          "data": {
            "text/plain": [
              "{1, 2, 3, 4, 5}"
            ]
          },
          "execution_count": 64,
          "metadata": {
            "tags": []
          },
          "output_type": "execute_result"
        }
      ],
      "source": [
        "l"
      ]
    },
    {
      "cell_type": "code",
      "execution_count": null,
      "metadata": {
        "id": "J8VF02bPqh40",
        "outputId": "2e40c4b1-7d8a-40c6-a333-efd55a885393"
      },
      "outputs": [
        {
          "ename": "KeyError",
          "evalue": "6",
          "output_type": "error",
          "traceback": [
            "\u001b[1;31m---------------------------------------------------------------------------\u001b[0m",
            "\u001b[1;31mKeyError\u001b[0m                                  Traceback (most recent call last)",
            "\u001b[1;32m<ipython-input-66-a64858d1c295>\u001b[0m in \u001b[0;36m<module>\u001b[1;34m\u001b[0m\n\u001b[1;32m----> 1\u001b[1;33m \u001b[0ml\u001b[0m\u001b[1;33m.\u001b[0m\u001b[0mremove\u001b[0m\u001b[1;33m(\u001b[0m\u001b[1;36m6\u001b[0m\u001b[1;33m)\u001b[0m \u001b[1;31m# It will give an error if element is notpresent\u001b[0m\u001b[1;33m\u001b[0m\u001b[1;33m\u001b[0m\u001b[0m\n\u001b[0m",
            "\u001b[1;31mKeyError\u001b[0m: 6"
          ]
        }
      ],
      "source": [
        "l.remove(6) # It will give an error if element is notpresent"
      ]
    },
    {
      "cell_type": "code",
      "execution_count": null,
      "metadata": {
        "id": "6kI5scQDqh48",
        "outputId": "2717d56d-7152-47c7-fbd2-aa908ad9a12c"
      },
      "outputs": [
        {
          "data": {
            "text/plain": [
              "set()"
            ]
          },
          "execution_count": 67,
          "metadata": {
            "tags": []
          },
          "output_type": "execute_result"
        }
      ],
      "source": [
        "l.clear() # Clear all elements in a set/\n",
        "l"
      ]
    },
    {
      "cell_type": "code",
      "execution_count": null,
      "metadata": {
        "id": "JWdWReubqh5E",
        "outputId": "53e6ebaf-50e6-4efa-bc49-1adcd9296a77"
      },
      "outputs": [
        {
          "name": "stdout",
          "output_type": "stream",
          "text": [
            "{'Bigdata', 'DS', 'ineuron'}\n",
            "{'bigdata', 'pyspark', 'Apache'}\n"
          ]
        }
      ],
      "source": [
        "# Difference between two sets\n",
        "x = {\"ineuron\", \"DS\", \"Bigdata\"}\n",
        "y = {\"bigdata\", \"Apache\", \"pyspark\"}\n",
        "\n",
        "print(x.difference(y))\n",
        "print(y.difference(x))"
      ]
    },
    {
      "cell_type": "markdown",
      "metadata": {
        "id": "NHHtIyXMqh5U"
      },
      "source": [
        "For more details ref:- \n",
        "    \n",
        "https://docs.python.org/3.8/library/stdtypes.html#set-types-set-frozenset"
      ]
    },
    {
      "cell_type": "code",
      "execution_count": null,
      "metadata": {
        "id": "dCQoJ4Gqqh5V"
      },
      "outputs": [],
      "source": []
    }
  ],
  "metadata": {
    "colab": {
      "provenance": [],
      "toc_visible": true
    },
    "kernelspec": {
      "display_name": "Python 3 (ipykernel)",
      "language": "python",
      "name": "python3"
    },
    "language_info": {
      "codemirror_mode": {
        "name": "ipython",
        "version": 3
      },
      "file_extension": ".py",
      "mimetype": "text/x-python",
      "name": "python",
      "nbconvert_exporter": "python",
      "pygments_lexer": "ipython3",
      "version": "3.9.12"
    }
  },
  "nbformat": 4,
  "nbformat_minor": 0
}
