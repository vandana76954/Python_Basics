{
  "cells": [
    {
      "attachments": {},
      "cell_type": "markdown",
      "metadata": {
        "id": "IS6hlF6k8lvU"
      },
      "source": [
        "## 6.5.1 Dictionaries\n",
        "\n",
        "In this section, we will learn briefly about an introduction to dictionaries and what it consists of:\n",
        "\n",
        "    1) Constructing a Dictionary\n",
        "    2) Accessing objects from a Dictionary\n",
        "    3) Nesting Dictionaries\n",
        "    4) Basic Dictionary Methods\n",
        "\n",
        "Before we dive deep into this concept, let's understand what are Mappings? \n",
        "\n",
        "Mappings are a collection of objects that are stored by a \"key\". Unlike a sequence, mapping store objects by their relative position. This is an important distinction since mappings won't retain the order since they have objects defined by a key.\n",
        "\n",
        "A Python dictionary consists of a key and then an associated value. That value can be almost any Python object.\n",
        "\n",
        "\n"
      ]
    },
    {
      "cell_type": "markdown",
      "metadata": {
        "id": "DBNjGJ_vw8nD"
      },
      "source": [
        "### Constructing a Dictionary\n",
        "\n",
        "Let's see how we can construct dictionaries to get a better understanding of how they work!"
      ]
    },
    {
      "cell_type": "code",
      "execution_count": null,
      "metadata": {
        "id": "vzWIDTyc8lvW",
        "outputId": "23f53c1c-bee8-4402-c2e7-b6682958ee1c"
      },
      "outputs": [
        {
          "data": {
            "text/plain": [
              "{True: 'value1', 'key2': 'value2', 'key1': 'abc'}"
            ]
          },
          "execution_count": 5,
          "metadata": {
            "tags": []
          },
          "output_type": "execute_result"
        }
      ],
      "source": [
        "# Make a dictionary with {} and : to signify a key and a value\n",
        "my_dict = {True:'value1','key2':'value2','key1':'abc'}\n",
        "my_dict"
      ]
    },
    {
      "cell_type": "code",
      "execution_count": null,
      "metadata": {
        "id": "g0fgyIB08lvg",
        "outputId": "1fa47375-3e1d-478f-d2f7-c7247692dcb2"
      },
      "outputs": [
        {
          "data": {
            "text/plain": [
              "{True: 'value1', 'key2': 'value2', 'key1': 'abc'}"
            ]
          },
          "execution_count": 6,
          "metadata": {
            "tags": []
          },
          "output_type": "execute_result"
        }
      ],
      "source": [
        "my_dict = {True:'value1','key2':'value2','key1':'valuedfvdfg','key1':'abc'} # Same key check key1 value \n",
        "my_dict"
      ]
    },
    {
      "cell_type": "code",
      "execution_count": null,
      "metadata": {
        "id": "fHk0dr4u8lvl",
        "outputId": "c95614cf-14eb-4ce8-dcec-7adb66227d74"
      },
      "outputs": [
        {
          "data": {
            "text/plain": [
              "{True: 'value1', 'key2': 'value2', 'key1': 'zabc'}"
            ]
          },
          "execution_count": 7,
          "metadata": {
            "tags": []
          },
          "output_type": "execute_result"
        }
      ],
      "source": [
        "my_dict = {True:'value1','key2':'value2','key1':'valuedfvdfg','key1':'zabc'} # Same key check key1 value\n",
        "my_dict"
      ]
    },
    {
      "cell_type": "code",
      "execution_count": null,
      "metadata": {
        "id": "zoVwOufY8lvq",
        "outputId": "1c777cd2-3f02-4a5b-c6f5-80736576b25f"
      },
      "outputs": [
        {
          "data": {
            "text/plain": [
              "'value2'"
            ]
          },
          "execution_count": 3,
          "metadata": {
            "tags": []
          },
          "output_type": "execute_result"
        }
      ],
      "source": [
        "# Call values by their key, accessing values based on key\n",
        "my_dict['key2']"
      ]
    },
    {
      "cell_type": "code",
      "execution_count": null,
      "metadata": {
        "id": "MvmbOAXd8lvy",
        "outputId": "439bd1cb-0da6-4502-a0f5-d18f1408782f"
      },
      "outputs": [
        {
          "ename": "KeyError",
          "evalue": "'3'",
          "output_type": "error",
          "traceback": [
            "\u001b[1;31m---------------------------------------------------------------------------\u001b[0m",
            "\u001b[1;31mKeyError\u001b[0m                                  Traceback (most recent call last)",
            "\u001b[1;32m<ipython-input-4-dc292c0f1a33>\u001b[0m in \u001b[0;36m<module>\u001b[1;34m\u001b[0m\n\u001b[0;32m      1\u001b[0m \u001b[1;31m# attempting to access element which is not present in dictionary\u001b[0m\u001b[1;33m\u001b[0m\u001b[1;33m\u001b[0m\u001b[1;33m\u001b[0m\u001b[0m\n\u001b[1;32m----> 2\u001b[1;33m \u001b[0mmy_dict\u001b[0m\u001b[1;33m[\u001b[0m\u001b[1;34m'3'\u001b[0m\u001b[1;33m]\u001b[0m\u001b[1;33m\u001b[0m\u001b[1;33m\u001b[0m\u001b[0m\n\u001b[0m",
            "\u001b[1;31mKeyError\u001b[0m: '3'"
          ]
        }
      ],
      "source": [
        "# attempting to access element which is not present in dictionary gives key-error\n",
        "my_dict['3']"
      ]
    },
    {
      "cell_type": "markdown",
      "metadata": {
        "id": "Xc7j-C8b8lv6"
      },
      "source": [
        ">**Note:-** dictionaries are very flexible in the data types they can hold. For example:"
      ]
    },
    {
      "cell_type": "code",
      "execution_count": null,
      "metadata": {
        "id": "5uulEF0o8lv7"
      },
      "outputs": [],
      "source": [
        "my_dict = {'key1':123,'key2':[12,23,33],'key3':['item0','item1','item2']}"
      ]
    },
    {
      "cell_type": "code",
      "execution_count": null,
      "metadata": {
        "id": "FjmxBjOV8lwK",
        "outputId": "eca2788c-c5cb-46eb-9cca-2cca6f2b9032"
      },
      "outputs": [
        {
          "data": {
            "text/plain": [
              "33"
            ]
          },
          "execution_count": 9,
          "metadata": {
            "tags": []
          },
          "output_type": "execute_result"
        }
      ],
      "source": [
        "#Let's call items from the dictionary\n",
        "my_dict['key2'][2]"
      ]
    },
    {
      "cell_type": "code",
      "execution_count": null,
      "metadata": {
        "id": "C6vleU528lwT",
        "outputId": "816bbe24-c6f2-4b26-d0f1-49e87179c047"
      },
      "outputs": [
        {
          "data": {
            "text/plain": [
              "'item0'"
            ]
          },
          "execution_count": 10,
          "metadata": {
            "tags": []
          },
          "output_type": "execute_result"
        }
      ],
      "source": [
        "# Can call an index on that value\n",
        "my_dict['key3'][0]"
      ]
    },
    {
      "cell_type": "code",
      "execution_count": null,
      "metadata": {
        "id": "iwCacqhw8lwX",
        "outputId": "cfbb6708-916e-4d95-da56-65af100d6bee"
      },
      "outputs": [
        {
          "data": {
            "text/plain": [
              "'ITEM0'"
            ]
          },
          "execution_count": 11,
          "metadata": {
            "tags": []
          },
          "output_type": "execute_result"
        }
      ],
      "source": [
        "#Can then even call methods on that value\n",
        "my_dict['key3'][0].upper()"
      ]
    },
    {
      "cell_type": "markdown",
      "metadata": {
        "id": "NvYTi3C58lwd"
      },
      "source": [
        "We can effect the values of a key as well. For instance:"
      ]
    },
    {
      "cell_type": "code",
      "execution_count": null,
      "metadata": {
        "id": "c9jr5lMj8lwe",
        "outputId": "43614f92-92db-43ce-d26d-b0dcfa7edcfb"
      },
      "outputs": [
        {
          "data": {
            "text/plain": [
              "123"
            ]
          },
          "execution_count": 12,
          "metadata": {
            "tags": []
          },
          "output_type": "execute_result"
        }
      ],
      "source": [
        "my_dict['key1']"
      ]
    },
    {
      "cell_type": "code",
      "execution_count": null,
      "metadata": {
        "id": "G0v-TxIl8lwk"
      },
      "outputs": [],
      "source": [
        "# Subtract 123 from the value\n",
        "my_dict['key1'] = my_dict['key1'] - 123"
      ]
    },
    {
      "cell_type": "code",
      "execution_count": null,
      "metadata": {
        "id": "RWequ6wv8lwq",
        "outputId": "d2eaf01e-459e-4516-e84f-945710c4d6fa"
      },
      "outputs": [
        {
          "data": {
            "text/plain": [
              "0"
            ]
          },
          "execution_count": 14,
          "metadata": {
            "tags": []
          },
          "output_type": "execute_result"
        }
      ],
      "source": [
        "#Check\n",
        "my_dict['key1']"
      ]
    },
    {
      "cell_type": "markdown",
      "metadata": {
        "id": "--EOamZv8lwu"
      },
      "source": [
        "Note, Python has a built-in method of doing a self subtraction or addition (or multiplication or division). We could also use += or -= for the above statement. For example:"
      ]
    },
    {
      "cell_type": "code",
      "execution_count": null,
      "metadata": {
        "id": "aA4V5hVV8lwv",
        "outputId": "dfc0f237-1217-480a-85ef-8baea176077a"
      },
      "outputs": [
        {
          "data": {
            "text/plain": [
              "-123"
            ]
          },
          "execution_count": 15,
          "metadata": {
            "tags": []
          },
          "output_type": "execute_result"
        }
      ],
      "source": [
        "# Set the object equal to itself minus 123 \n",
        "my_dict['key1'] -= 123\n",
        "my_dict['key1']"
      ]
    },
    {
      "cell_type": "markdown",
      "metadata": {
        "id": "F2C_lTGm8lw3"
      },
      "source": [
        "We can also create keys by assignment. For instance if we started off with an empty dictionary, we could continually add to it:"
      ]
    },
    {
      "cell_type": "code",
      "execution_count": null,
      "metadata": {
        "id": "oGV1Jbkx8lw4",
        "outputId": "995f29d8-7d10-4033-c1ca-483ed957d780"
      },
      "outputs": [
        {
          "data": {
            "text/plain": [
              "dict"
            ]
          },
          "execution_count": 16,
          "metadata": {
            "tags": []
          },
          "output_type": "execute_result"
        }
      ],
      "source": [
        "# Create a new dictionary\n",
        "d = {}\n",
        "type(d)"
      ]
    },
    {
      "cell_type": "code",
      "execution_count": null,
      "metadata": {
        "id": "Y2xhuAaK8lw_",
        "outputId": "a6cd8942-1ba8-4905-9c80-f8353d4caf14"
      },
      "outputs": [
        {
          "data": {
            "text/plain": [
              "{'animal': 'xyz'}"
            ]
          },
          "execution_count": 17,
          "metadata": {
            "tags": []
          },
          "output_type": "execute_result"
        }
      ],
      "source": [
        "# Create a new key through assignment\n",
        "d['animal'] = 'xyz'\n",
        "d"
      ]
    },
    {
      "cell_type": "code",
      "execution_count": null,
      "metadata": {
        "id": "UIvFIy5-8lxH"
      },
      "outputs": [],
      "source": [
        "# Can do this with any object\n",
        "d['answer'] = 42"
      ]
    },
    {
      "cell_type": "code",
      "execution_count": null,
      "metadata": {
        "id": "gOkMWU8h8lxM",
        "outputId": "5dfbad55-46cf-4088-d49f-179b31fb9ab0"
      },
      "outputs": [
        {
          "data": {
            "text/plain": [
              "{'animal': 'xyz', 'answer': 42}"
            ]
          },
          "execution_count": 19,
          "metadata": {
            "tags": []
          },
          "output_type": "execute_result"
        }
      ],
      "source": [
        "#Show\n",
        "d"
      ]
    },
    {
      "cell_type": "markdown",
      "metadata": {
        "id": "LgdacpqW8lxU"
      },
      "source": [
        "### Nesting with Dictionaries\n",
        "\n",
        "Let's understand how flexible Python is with nesting objects and calling methods on them. let's have a look at the dictionary nested inside a dictionary:"
      ]
    },
    {
      "cell_type": "code",
      "execution_count": null,
      "metadata": {
        "id": "5qauU5tN8lxV",
        "outputId": "5b3d5ca5-0c02-4f01-bdbd-695099d9b7ef"
      },
      "outputs": [
        {
          "data": {
            "text/plain": [
              "{'key1': {'nestkey': {'subnestkey': 'value'}}}"
            ]
          },
          "execution_count": 21,
          "metadata": {
            "tags": []
          },
          "output_type": "execute_result"
        }
      ],
      "source": [
        "# Dictionary nested inside a dictionary nested in side a dictionary\n",
        "d = {'key1':{'nestkey':{'subnestkey':'value'}}}\n",
        "d"
      ]
    },
    {
      "cell_type": "markdown",
      "metadata": {
        "id": "MnSPweNq8lxb"
      },
      "source": [
        "Thats the inception of dictionaries. Now, Let's see how we can grab that value:"
      ]
    },
    {
      "cell_type": "code",
      "execution_count": null,
      "metadata": {
        "id": "6SFJ8s688lxb",
        "outputId": "3cc4b3ea-0901-4184-dfea-96b87023c9f1"
      },
      "outputs": [
        {
          "data": {
            "text/plain": [
              "{'subnestkey': 'value'}"
            ]
          },
          "execution_count": 22,
          "metadata": {
            "tags": []
          },
          "output_type": "execute_result"
        }
      ],
      "source": [
        "# Keep calling the keys\n",
        "d['key1']['nestkey']"
      ]
    },
    {
      "cell_type": "markdown",
      "metadata": {
        "id": "QnWKeFpl8lxg"
      },
      "source": [
        "## 6.5.2 Few Dictionary Methods\n",
        "\n",
        "There are a few methods we can call on a dictionary. Let's get a quick introduction to a few methods:"
      ]
    },
    {
      "cell_type": "code",
      "execution_count": null,
      "metadata": {
        "id": "GrTfF3kz8lxj",
        "outputId": "8fd192d5-674a-47cd-fae3-b4ff20f91237"
      },
      "outputs": [
        {
          "data": {
            "text/plain": [
              "{'key1': 1, 'key2': 2, 'key3': 3}"
            ]
          },
          "execution_count": 24,
          "metadata": {
            "tags": []
          },
          "output_type": "execute_result"
        }
      ],
      "source": [
        "# Create a typical dictionary\n",
        "d = {'key1':1,'key2':2,'key3':3}\n",
        "d"
      ]
    },
    {
      "cell_type": "code",
      "execution_count": null,
      "metadata": {
        "id": "i3Wp7wYg8lxq",
        "outputId": "7aa8e789-c1e5-428b-dad7-d25d288a68eb"
      },
      "outputs": [
        {
          "data": {
            "text/plain": [
              "{'key1': 4, 'key2': 5, 'key3': 3}"
            ]
          },
          "execution_count": 25,
          "metadata": {
            "tags": []
          },
          "output_type": "execute_result"
        }
      ],
      "source": [
        "# Updating dictionary\n",
        "d[\"key1\"] = 4\n",
        "d[\"key2\"] = 5\n",
        "d"
      ]
    },
    {
      "cell_type": "code",
      "execution_count": null,
      "metadata": {
        "id": "sneSDyJ88lxu"
      },
      "outputs": [],
      "source": [
        "# Delete dictionary\n",
        "del d[\"key1\"]"
      ]
    },
    {
      "cell_type": "code",
      "execution_count": null,
      "metadata": {
        "id": "QRZYrRTl8lx0",
        "outputId": "420ba87e-c134-4c25-f843-346b1157ee82"
      },
      "outputs": [
        {
          "data": {
            "text/plain": [
              "{'key2': 5, 'key3': 3}"
            ]
          },
          "execution_count": 27,
          "metadata": {
            "tags": []
          },
          "output_type": "execute_result"
        }
      ],
      "source": [
        "d"
      ]
    },
    {
      "cell_type": "code",
      "execution_count": null,
      "metadata": {
        "id": "9lHd9cdF8lx5"
      },
      "outputs": [],
      "source": [
        "# remove all elements in a dictionary\n",
        "d.clear()"
      ]
    },
    {
      "cell_type": "code",
      "execution_count": null,
      "metadata": {
        "id": "-D2ng-o18lyH",
        "outputId": "948bb917-4d3e-456a-f2ad-b768d3236388"
      },
      "outputs": [
        {
          "data": {
            "text/plain": [
              "{}"
            ]
          },
          "execution_count": 29,
          "metadata": {
            "tags": []
          },
          "output_type": "execute_result"
        }
      ],
      "source": [
        "d"
      ]
    },
    {
      "cell_type": "code",
      "execution_count": null,
      "metadata": {
        "id": "pqJ1mwgP8lyO"
      },
      "outputs": [],
      "source": [
        "del d # delte entire dictionary"
      ]
    },
    {
      "cell_type": "code",
      "execution_count": null,
      "metadata": {
        "id": "uQkOueu08lyR",
        "outputId": "b8835a00-35c2-4683-8321-229b18cf5c8c"
      },
      "outputs": [
        {
          "ename": "NameError",
          "evalue": "name 'd' is not defined",
          "output_type": "error",
          "traceback": [
            "\u001b[1;31m---------------------------------------------------------------------------\u001b[0m",
            "\u001b[1;31mNameError\u001b[0m                                 Traceback (most recent call last)",
            "\u001b[1;32m<ipython-input-32-98e7ab4f4117>\u001b[0m in \u001b[0;36m<module>\u001b[1;34m\u001b[0m\n\u001b[1;32m----> 1\u001b[1;33m \u001b[0md\u001b[0m \u001b[1;31m# Not exists now\u001b[0m\u001b[1;33m\u001b[0m\u001b[1;33m\u001b[0m\u001b[0m\n\u001b[0m",
            "\u001b[1;31mNameError\u001b[0m: name 'd' is not defined"
          ]
        }
      ],
      "source": [
        "d # Not exists now"
      ]
    },
    {
      "cell_type": "code",
      "execution_count": null,
      "metadata": {
        "id": "EYN5Zhf38lyY",
        "outputId": "c75e4a06-1ca0-4c34-851c-f9de4d614c73"
      },
      "outputs": [
        {
          "data": {
            "text/plain": [
              "{'name': 'iNeuron', 1: 4, (1, 2): 'Hello'}"
            ]
          },
          "execution_count": 33,
          "metadata": {
            "tags": []
          },
          "output_type": "execute_result"
        }
      ],
      "source": [
        "# strings, numbers or tuples as a key of dictionary is allowed but ['k'] as a key not allowed\n",
        "d = {}\n",
        "d[\"name\"] = \"iNeuron\"\n",
        "d[1] = 4\n",
        "d[(1,2)] = \"Hello\"\n",
        "d"
      ]
    },
    {
      "cell_type": "code",
      "execution_count": null,
      "metadata": {
        "id": "lKvWeKSZ8lyd",
        "outputId": "5b74b482-a4f4-43e6-f723-653b24fb07fb"
      },
      "outputs": [
        {
          "ename": "TypeError",
          "evalue": "unhashable type: 'list'",
          "output_type": "error",
          "traceback": [
            "\u001b[1;31m---------------------------------------------------------------------------\u001b[0m",
            "\u001b[1;31mTypeError\u001b[0m                                 Traceback (most recent call last)",
            "\u001b[1;32m<ipython-input-35-cfd5af9aaf18>\u001b[0m in \u001b[0;36m<module>\u001b[1;34m\u001b[0m\n\u001b[1;32m----> 1\u001b[1;33m \u001b[0md\u001b[0m\u001b[1;33m[\u001b[0m\u001b[1;33m[\u001b[0m\u001b[1;34m\"hello\"\u001b[0m\u001b[1;33m]\u001b[0m\u001b[1;33m]\u001b[0m \u001b[1;33m=\u001b[0m \u001b[1;34m\"hi\"\u001b[0m \u001b[1;31m# Not allowed\u001b[0m\u001b[1;33m\u001b[0m\u001b[1;33m\u001b[0m\u001b[0m\n\u001b[0m\u001b[0;32m      2\u001b[0m \u001b[0md\u001b[0m\u001b[1;33m\u001b[0m\u001b[1;33m\u001b[0m\u001b[0m\n",
            "\u001b[1;31mTypeError\u001b[0m: unhashable type: 'list'"
          ]
        }
      ],
      "source": [
        "d[[\"hello\"]] = \"hi\" # Not allowed\n",
        "d"
      ]
    },
    {
      "cell_type": "code",
      "execution_count": null,
      "metadata": {
        "id": "ZgHCMZzw8lym",
        "outputId": "409645bd-85af-4129-9172-20184e56148c"
      },
      "outputs": [
        {
          "data": {
            "text/plain": [
              "3"
            ]
          },
          "execution_count": 36,
          "metadata": {
            "tags": []
          },
          "output_type": "execute_result"
        }
      ],
      "source": [
        "# Length of a dictionary\n",
        "len(d)"
      ]
    },
    {
      "cell_type": "code",
      "execution_count": null,
      "metadata": {
        "id": "RtTJG5cE8lyt",
        "outputId": "94dd918e-bffb-45d3-bd6e-4a99d3c80d0a"
      },
      "outputs": [
        {
          "data": {
            "text/plain": [
              "(\"{'name': 'iNeuron', 1: 4, (1, 2): 'Hello'}\", str)"
            ]
          },
          "execution_count": 38,
          "metadata": {
            "tags": []
          },
          "output_type": "execute_result"
        }
      ],
      "source": [
        "# We can convert dictionary as a string representation\n",
        "str(d), type(str(d))"
      ]
    },
    {
      "cell_type": "code",
      "execution_count": null,
      "metadata": {
        "id": "foDV4NWX8lyz"
      },
      "outputs": [],
      "source": [
        "d.clear() # Clear all from dictionary"
      ]
    },
    {
      "cell_type": "code",
      "execution_count": null,
      "metadata": {
        "id": "T2OymS4G8ly3",
        "outputId": "e7ef121a-7cc0-48fc-d010-c81fd9b34319"
      },
      "outputs": [
        {
          "data": {
            "text/plain": [
              "{}"
            ]
          },
          "execution_count": 40,
          "metadata": {
            "tags": []
          },
          "output_type": "execute_result"
        }
      ],
      "source": [
        "d"
      ]
    },
    {
      "cell_type": "code",
      "execution_count": null,
      "metadata": {
        "id": "A9XQQsrQ8ly7",
        "outputId": "544426f8-ce0f-4fa0-b58f-dced71f8fcc8"
      },
      "outputs": [
        {
          "data": {
            "text/plain": [
              "{'name': 'ineuron', 1: 'one', 2: 'two'}"
            ]
          },
          "execution_count": 54,
          "metadata": {
            "tags": []
          },
          "output_type": "execute_result"
        }
      ],
      "source": [
        "# Copy of the dictionary\n",
        "d={'name':'ineuron',1: \"one\",2: \"two\"}\n",
        "d_copy = d.copy()\n",
        "d"
      ]
    },
    {
      "cell_type": "code",
      "execution_count": null,
      "metadata": {
        "id": "Yrmx02zp8lzB",
        "outputId": "3139a716-7ea6-4258-dbc2-346e75882248"
      },
      "outputs": [
        {
          "data": {
            "text/plain": [
              "{'name': 'ineuron', 1: 'one', 2: 'two'}"
            ]
          },
          "execution_count": 55,
          "metadata": {
            "tags": []
          },
          "output_type": "execute_result"
        }
      ],
      "source": [
        "d_copy"
      ]
    },
    {
      "cell_type": "code",
      "execution_count": null,
      "metadata": {
        "id": "IRL_mi5D8lzN",
        "outputId": "c58c33d1-d883-43e5-896c-2d7982c3136c"
      },
      "outputs": [
        {
          "data": {
            "text/plain": [
              "(2017335977048, 2017335977368)"
            ]
          },
          "execution_count": 56,
          "metadata": {
            "tags": []
          },
          "output_type": "execute_result"
        }
      ],
      "source": [
        "id(d), id(d_copy) "
      ]
    },
    {
      "cell_type": "code",
      "execution_count": null,
      "metadata": {
        "id": "mJR2TONz8lzQ"
      },
      "outputs": [],
      "source": [
        "# create dictionary from key-value using fromkeys methods\n",
        "keys = ('name','school','weather')\n",
        "values = \"good\"\n",
        "d = d.fromkeys(keys,values)"
      ]
    },
    {
      "cell_type": "code",
      "execution_count": null,
      "metadata": {
        "id": "bRYibxUG8lzV",
        "outputId": "59c77dde-8f4d-4f1b-d47b-c4adaa4f8c5f"
      },
      "outputs": [
        {
          "data": {
            "text/plain": [
              "{'name': 'good', 'school': 'good', 'weather': 'good'}"
            ]
          },
          "execution_count": 62,
          "metadata": {
            "tags": []
          },
          "output_type": "execute_result"
        }
      ],
      "source": [
        "d"
      ]
    },
    {
      "cell_type": "code",
      "execution_count": null,
      "metadata": {
        "id": "T2Cbwbvp8lzZ",
        "outputId": "7a0bd6ee-2c3d-4414-9229-98dff9c39dc4"
      },
      "outputs": [
        {
          "data": {
            "text/plain": [
              "'iNeuron'"
            ]
          },
          "execution_count": 63,
          "metadata": {
            "tags": []
          },
          "output_type": "execute_result"
        }
      ],
      "source": [
        "# using get() to get a value of a key\n",
        "d = {\"name\": \"iNeuron\", \"course\": \"AI\"}\n",
        "d.get(\"name\")"
      ]
    },
    {
      "cell_type": "code",
      "execution_count": null,
      "metadata": {
        "id": "lsSRL_gA8lzj"
      },
      "outputs": [],
      "source": [
        "d.get(1)"
      ]
    },
    {
      "cell_type": "code",
      "execution_count": null,
      "metadata": {
        "id": "k6vnoN1Y8lzw",
        "outputId": "dedc72bd-fcdc-43cb-ad79-320f1e51f9cd"
      },
      "outputs": [
        {
          "data": {
            "text/plain": [
              "dict_items([('name', 'iNeuron'), ('course', 'AI')])"
            ]
          },
          "execution_count": 66,
          "metadata": {
            "tags": []
          },
          "output_type": "execute_result"
        }
      ],
      "source": [
        "d.items() # List of key-value pair in a dictionary"
      ]
    },
    {
      "cell_type": "code",
      "execution_count": null,
      "metadata": {
        "id": "ENwXL8Pw8lz0",
        "outputId": "4a8d060f-22fd-4685-d030-748b99d65645"
      },
      "outputs": [
        {
          "data": {
            "text/plain": [
              "dict_keys(['name', 'course'])"
            ]
          },
          "execution_count": 68,
          "metadata": {
            "tags": []
          },
          "output_type": "execute_result"
        }
      ],
      "source": [
        "d.keys() # List of keys present in a dictionary"
      ]
    },
    {
      "cell_type": "code",
      "execution_count": null,
      "metadata": {
        "id": "WbZKmzeJ8lz8",
        "outputId": "3349323f-fbe5-4426-ef94-5d3fb759e405"
      },
      "outputs": [
        {
          "data": {
            "text/plain": [
              "{'name': 'iNeuron', 'course': 'AI', 'age': None}"
            ]
          },
          "execution_count": 70,
          "metadata": {
            "tags": []
          },
          "output_type": "execute_result"
        }
      ],
      "source": [
        "# Another method similar to get() is setDefault() but it will set the value default if key is not present for ex:-\n",
        "d.setdefault(\"age\", None) # Age is not present so value none\n",
        "d.setdefault(\"course\", None) # Course is preset so value will not change to None\n",
        "d"
      ]
    },
    {
      "cell_type": "code",
      "execution_count": null,
      "metadata": {
        "id": "GudqqMSd8l0B",
        "outputId": "e3e55ebe-8641-4e6b-eaf0-b4ac451049dd"
      },
      "outputs": [
        {
          "data": {
            "text/plain": [
              "({1: 'one', 2: 'two'}, {3: 'three', 4: 'four'})"
            ]
          },
          "execution_count": 71,
          "metadata": {
            "tags": []
          },
          "output_type": "execute_result"
        }
      ],
      "source": [
        "# We can update dictionary using update()\n",
        "d1 = {1:\"one\",2:\"two\"}\n",
        "d2 = {3:\"three\",4:\"four\"}\n",
        "d1, d2"
      ]
    },
    {
      "cell_type": "code",
      "execution_count": null,
      "metadata": {
        "id": "XTKlswzR8l0K",
        "outputId": "6ea3b8ef-b56d-4290-8214-2df2ed0b4bf1"
      },
      "outputs": [
        {
          "data": {
            "text/plain": [
              "{1: 'one', 2: 'two', 3: 'three', 4: 'four'}"
            ]
          },
          "execution_count": 72,
          "metadata": {
            "tags": []
          },
          "output_type": "execute_result"
        }
      ],
      "source": [
        "d1.update(d2)\n",
        "d1"
      ]
    },
    {
      "cell_type": "code",
      "execution_count": null,
      "metadata": {
        "id": "tGrNhqNZ8l0Q",
        "outputId": "2c0809a4-0fdd-4f24-d390-6a411cec1616"
      },
      "outputs": [
        {
          "data": {
            "text/plain": [
              "{3: 'three', 4: 'four'}"
            ]
          },
          "execution_count": 73,
          "metadata": {
            "tags": []
          },
          "output_type": "execute_result"
        }
      ],
      "source": [
        "d2"
      ]
    },
    {
      "cell_type": "code",
      "execution_count": null,
      "metadata": {
        "id": "HMurwkrf8l0W",
        "outputId": "6c397bfc-fa01-460b-c408-94de890a529c"
      },
      "outputs": [
        {
          "data": {
            "text/plain": [
              "dict_values(['iNeuron', 'AI', None])"
            ]
          },
          "execution_count": 74,
          "metadata": {
            "tags": []
          },
          "output_type": "execute_result"
        }
      ],
      "source": [
        "# Method to grab all values\n",
        "d.values()"
      ]
    },
    {
      "cell_type": "markdown",
      "metadata": {
        "id": "1VjXtivQ8l0a"
      },
      "source": [
        "## 6.5.3 Dictionary Comprehensions\n",
        "\n",
        "Just like List Comprehensions, Dictionary Data Types also support their own version of comprehension for quick creation. It is not as commonly used as List Comprehensions, but the syntax is:"
      ]
    },
    {
      "cell_type": "code",
      "execution_count": null,
      "metadata": {
        "id": "GVaBQ03y8l0b",
        "outputId": "47b71ef0-9625-46bc-9942-ca0b632d4943"
      },
      "outputs": [
        {
          "data": {
            "text/plain": [
              "{0: 0, 1: 1, 2: 4, 3: 9, 4: 16, 5: 25, 6: 36, 7: 49, 8: 64, 9: 81}"
            ]
          },
          "execution_count": 75,
          "metadata": {
            "tags": []
          },
          "output_type": "execute_result"
        }
      ],
      "source": [
        "{x:x**2 for x in range(10)}"
      ]
    },
    {
      "cell_type": "markdown",
      "metadata": {
        "id": "RbusH3zk8l0g"
      },
      "source": [
        "One of the reasons is the difficulty in structuring the key names that are not based on the values."
      ]
    },
    {
      "cell_type": "markdown",
      "metadata": {
        "id": "4-bHd3MR8l0j"
      },
      "source": [
        "## 6.5.4 Iterating through dictionary"
      ]
    },
    {
      "cell_type": "code",
      "execution_count": null,
      "metadata": {
        "id": "phwCuMjE8l0k",
        "outputId": "560e1e50-a601-4c6e-ad10-f9d2ccd09e58"
      },
      "outputs": [
        {
          "name": "stdout",
          "output_type": "stream",
          "text": [
            "Key: company Value: iNeuron\n",
            "Key: course Value: Data-science\n",
            "Key: year Value: 2015\n"
          ]
        }
      ],
      "source": [
        "mydict = {'company': 'iNeuron', 'course': 'Data-science', 'year': 2015}\n",
        "for i in mydict:\n",
        "  print(\"Key:\",i,\"Value:\",mydict[i])"
      ]
    },
    {
      "cell_type": "code",
      "execution_count": null,
      "metadata": {
        "id": "-9mTpKIZ8l0q",
        "outputId": "999b150e-b4ef-4950-bd8b-5528c06a901f"
      },
      "outputs": [
        {
          "data": {
            "text/plain": [
              "True"
            ]
          },
          "execution_count": 80,
          "metadata": {
            "tags": []
          },
          "output_type": "execute_result"
        }
      ],
      "source": [
        "country_code = {\n",
        "    \"India\": \"IN\",\n",
        "    \"Canada\": \"CA\",\n",
        "    \"Chile\": \"CL\",\n",
        "    \"Fiji\": \"FJ\",\n",
        "    \"United states\": \"US\"\n",
        "}\n",
        "\n",
        "# Check key exists\n",
        "\"India\" in country_code"
      ]
    },
    {
      "cell_type": "code",
      "execution_count": null,
      "metadata": {
        "id": "ikfRNhro8l00",
        "outputId": "29350a22-4151-4e1d-88e7-644a68fd4624"
      },
      "outputs": [
        {
          "name": "stdout",
          "output_type": "stream",
          "text": [
            "length of  India  is greater than three.\n",
            "length of  Canada  is greater than three.\n",
            "length of  Chile  is greater than three.\n",
            "length of  Fiji  is less than six but greater than three.\n",
            "length of  United states  is greater than three.\n"
          ]
        }
      ],
      "source": [
        "for countries in country_code:\n",
        "    if len(countries) > 4:\n",
        "        print(\"length of \",countries,\" is greater than three.\" )\n",
        "    elif (len(countries) >= 4 and len(countries) < 6):\n",
        "        print(\"length of \",countries,\" is less than six but greater than three.\" )\n",
        "    else:\n",
        "        print(\"length of \",countries,\" is less than three.\" )"
      ]
    },
    {
      "cell_type": "code",
      "execution_count": null,
      "metadata": {
        "id": "r4cYBmJY8l06"
      },
      "outputs": [],
      "source": [
        "# Find max value in nested dictionary\n",
        "dict_1 = {'iNeuron': { 'a': 15, \n",
        "                        'b': 10, \n",
        "                         'c': 2,}, \n",
        "        'course': {'d': 12, \n",
        "                               'e': 20, \n",
        "                               'f': 10,}} \n",
        "# Max Value in Nested Dictionary \n",
        "# Using for loop \n",
        "res = {} \n",
        "for key, val in dict_1.items(): \n",
        "    max_val = 0\n",
        "    for ele in val.values(): \n",
        "        if ele > max_val: \n",
        "            max_val = ele \n",
        "    res[key] = max_val "
      ]
    },
    {
      "cell_type": "code",
      "execution_count": null,
      "metadata": {
        "id": "wIwoEKbi8l0_",
        "outputId": "7ef95c78-9275-4bc8-9838-99c56068fa81"
      },
      "outputs": [
        {
          "data": {
            "text/plain": [
              "{'iNeuron': 15, 'course': 20}"
            ]
          },
          "execution_count": 94,
          "metadata": {
            "tags": []
          },
          "output_type": "execute_result"
        }
      ],
      "source": [
        "res"
      ]
    },
    {
      "cell_type": "code",
      "execution_count": null,
      "metadata": {
        "id": "Ds4BMEXw8l1H"
      },
      "outputs": [],
      "source": []
    }
  ],
  "metadata": {
    "colab": {
      "provenance": [],
      "toc_visible": true
    },
    "kernelspec": {
      "display_name": "Python 3 (ipykernel)",
      "language": "python",
      "name": "python3"
    },
    "language_info": {
      "codemirror_mode": {
        "name": "ipython",
        "version": 3
      },
      "file_extension": ".py",
      "mimetype": "text/x-python",
      "name": "python",
      "nbconvert_exporter": "python",
      "pygments_lexer": "ipython3",
      "version": "3.9.12"
    }
  },
  "nbformat": 4,
  "nbformat_minor": 0
}
