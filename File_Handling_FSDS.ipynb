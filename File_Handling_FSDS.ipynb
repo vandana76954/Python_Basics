{
 "cells": [
  {
   "cell_type": "code",
   "execution_count": 6,
   "metadata": {},
   "outputs": [
    {
     "name": "stdout",
     "output_type": "stream",
     "text": [
      " Volume in drive C is OS\n",
      " Volume Serial Number is 3CD7-F7A5\n",
      "\n",
      " Directory of C:\\Users\\aru78\\INEURON DATA\n",
      "\n",
      "12-12-2022  16:18    <DIR>          .\n",
      "10-11-2022  20:45    <DIR>          ..\n",
      "12-12-2022  13:32    <DIR>          .ipynb_checkpoints\n",
      "09-11-2022  13:02    <DIR>          __pycache__\n",
      "16-11-2022  12:39                39 abc.txt\n",
      "26-09-2022  20:19            10,250 Assignment-1.ipynb\n",
      "21-10-2022  12:24             5,193 Assignment-2.ipynb\n",
      "21-10-2022  12:12             5,194 Assignment-3-list-tuple.ipynb\n",
      "17-10-2022  12:35             9,406 Basics.ipynb\n",
      "03-12-2022  12:24            51,867 car.data\n",
      "11-12-2022  17:05               560 demo1.log\n",
      "12-12-2022  13:30            26,662 Exception_Handling_FSDS.ipynb\n",
      "12-12-2022  16:18             1,453 File_Handling_FSDS.ipynb\n",
      "02-11-2022  18:16            31,555 function_methods.ipynb\n",
      "29-11-2022  11:45            70,769 Functions_FSDS.ipynb\n",
      "02-12-2022  11:24            11,903 glass.data\n",
      "16-11-2022  12:54                21 inheritance_test\n",
      "16-11-2022  13:18             1,961 list.log\n",
      "09-11-2022  13:02               230 my_module.py\n",
      "19-10-2022  13:18            63,494 Practice,dbi_list,tuple.ipynb\n",
      "10-10-2022  18:25            18,837 Practice_class_04.ipynb\n",
      "11-10-2022  17:53            16,995 Practice_class_05.ipynb\n",
      "08-11-2022  11:09            36,433 Practice_Exception_Handling_Part1.ipynb\n",
      "28-09-2022  16:23         2,587,532 Practice_for_loop_while_loop.ipynb\n",
      "01-11-2022  18:04            26,512 Practice_Function_Part_1.ipynb\n",
      "01-11-2022  16:53            35,776 Practice_function_part-2.ipynb\n",
      "27-09-2022  17:33            12,986 Practice_if_else_for_loop.ipynb\n",
      "05-11-2022  18:06         7,261,618 Practice_Iterator_Generator & File_System.ipynb\n",
      "10-12-2022  16:05             9,908 Practice_Logging.ipynb\n",
      "10-11-2022  19:52            14,003 Practice_Module_Packages.ipynb\n",
      "17-11-2022  13:00            49,907 Practice_OOPS_2_Inheritence.ipynb\n",
      "15-11-2022  11:57            17,999 Practice_OOPS_Part1.ipynb\n",
      "18-11-2022  11:36             6,158 Practice_Polymorphism.ipynb\n",
      "02-11-2022  18:11             5,388 Practice_Python_Program_Loops.ipynb\n",
      "01-12-2022  12:31            76,705 Practice_question_Answers.ipynb\n",
      "17-10-2022  11:18             8,791 Practice_Session-3.ipynb\n",
      "02-12-2022  12:48            75,896 Practice_SQL_Part-1.ipynb\n",
      "03-12-2022  12:38           112,953 Practice_SQL_Part-2.ipynb\n",
      "08-10-2022  10:53           148,146 Practice_statistics_day2.ipynb\n",
      "22-09-2022  13:38            52,515 Practice_String,List,indexing .ipynb\n",
      "23-09-2022  13:51            41,488 Practice_Tuple,Set_Dict.ipynb\n",
      "01-12-2022  12:32            21,972 questions.ipynb\n",
      "08-11-2022  12:28               377 test.log\n",
      "07-11-2022  16:01                22 test.txt\n",
      "09-11-2022  12:36               434 test1.py\n",
      "08-11-2022  13:05             1,382 test2.log\n",
      "05-11-2022  13:59                 0 test2.txt\n",
      "08-11-2022  13:41             1,705 test3.log\n",
      "12-12-2022  16:15                 0 test3.txt\n",
      "07-11-2022  17:01                 0 test43.txt\n",
      "12-12-2022  11:26             4,906 Untitled.ipynb\n",
      "              47 File(s)     10,937,901 bytes\n",
      "               4 Dir(s)  78,886,416,384 bytes free\n"
     ]
    }
   ],
   "source": [
    "%ls"
   ]
  },
  {
   "cell_type": "code",
   "execution_count": 7,
   "metadata": {},
   "outputs": [
    {
     "data": {
      "text/plain": [
       "'C:\\\\Users\\\\aru78\\\\INEURON DATA'"
      ]
     },
     "execution_count": 7,
     "metadata": {},
     "output_type": "execute_result"
    }
   ],
   "source": [
    "pwd()"
   ]
  },
  {
   "cell_type": "code",
   "execution_count": 8,
   "metadata": {},
   "outputs": [],
   "source": [
    "#used to open file\n",
    "f=open(\"test.txt\")"
   ]
  },
  {
   "cell_type": "code",
   "execution_count": null,
   "metadata": {},
   "outputs": [],
   "source": [
    "f.close()"
   ]
  },
  {
   "cell_type": "code",
   "execution_count": null,
   "metadata": {},
   "outputs": [],
   "source": [
    "#f=open(r\"C:/users/imran/downloads/text.txt\",'r')"
   ]
  },
  {
   "cell_type": "code",
   "execution_count": null,
   "metadata": {},
   "outputs": [],
   "source": [
    "#how to read a file"
   ]
  },
  {
   "cell_type": "code",
   "execution_count": null,
   "metadata": {},
   "outputs": [],
   "source": [
    "f=open(\"test.txt\")"
   ]
  },
  {
   "cell_type": "code",
   "execution_count": null,
   "metadata": {},
   "outputs": [],
   "source": [
    "f.read()"
   ]
  },
  {
   "cell_type": "code",
   "execution_count": null,
   "metadata": {},
   "outputs": [],
   "source": [
    "f.read(4)"
   ]
  },
  {
   "cell_type": "code",
   "execution_count": null,
   "metadata": {},
   "outputs": [],
   "source": [
    "#this will read 4 data"
   ]
  },
  {
   "cell_type": "code",
   "execution_count": null,
   "metadata": {},
   "outputs": [],
   "source": [
    "f.read(5)"
   ]
  },
  {
   "cell_type": "code",
   "execution_count": null,
   "metadata": {},
   "outputs": [],
   "source": [
    "#to get cusrsor back at a position\n",
    "f.seek(0)"
   ]
  },
  {
   "cell_type": "code",
   "execution_count": null,
   "metadata": {},
   "outputs": [],
   "source": [
    "f.tell()\n",
    "#get the current file position"
   ]
  },
  {
   "cell_type": "code",
   "execution_count": null,
   "metadata": {},
   "outputs": [],
   "source": [
    "f.readlines()"
   ]
  },
  {
   "cell_type": "code",
   "execution_count": null,
   "metadata": {},
   "outputs": [],
   "source": [
    "#to close file manually\n",
    "try:\n",
    "    f=open(\"test.txt\")\n",
    "finally:\n",
    "    f.close()"
   ]
  },
  {
   "cell_type": "code",
   "execution_count": null,
   "metadata": {},
   "outputs": [],
   "source": [
    "#to close the file automatically\n",
    "with open(\"test.txt\") as f:\n",
    "    #file operation\n",
    "    f.read()\n",
    "    pass"
   ]
  },
  {
   "cell_type": "code",
   "execution_count": null,
   "metadata": {},
   "outputs": [],
   "source": [
    "#write a file"
   ]
  },
  {
   "cell_type": "code",
   "execution_count": null,
   "metadata": {},
   "outputs": [],
   "source": [
    "data=\"ineuron\"\n",
    "f=open(\"test1.txt\",'w')\n",
    "f.write(data)\n",
    "print(\"done\")\n",
    "f.close()"
   ]
  },
  {
   "cell_type": "code",
   "execution_count": null,
   "metadata": {},
   "outputs": [],
   "source": [
    "with open(\"test2.txt\",'w') as f:\n",
    "    f.write(\"ineuiron line\\n\")\n",
    "    f.write(\"ineuon line\\n\")"
   ]
  },
  {
   "cell_type": "code",
   "execution_count": 5,
   "metadata": {},
   "outputs": [
    {
     "name": "stdout",
     "output_type": "stream",
     "text": [
      "enter the first nummber:4\n",
      "enter the second nummber:5\n",
      "this will execute when try block is success\n"
     ]
    }
   ],
   "source": [
    "try:\n",
    "    a=int(input(\"enter the first number\"))\n",
    "    b=int(input(\"enter the second number\"))\n",
    "    c=a/b\n",
    "except ArithmeticError as e:\n",
    "    print(\"there is some isseu with my code\", e)\n",
    "    f=open(\"error5.txt\",'w+')\n",
    "    f.write(\"hi\")\n",
    "    #f.write(str(e))\n",
    "    #f.close()\n",
    "    f.seek(0)\n",
    "    print(f.read())\n",
    "else:\n",
    "    print(\"this will excecute once try is suceess\")\n",
    "    try:\n",
    "        f= open(\"test3.txt\",'w')\n",
    "    except:\n",
    "        print(\"this is and isse with try block\")\n",
    "        "
   ]
  },
  {
   "cell_type": "code",
   "execution_count": null,
   "metadata": {},
   "outputs": [],
   "source": []
  }
 ],
 "metadata": {
  "kernelspec": {
   "display_name": "Python 3",
   "language": "python",
   "name": "python3"
  },
  "language_info": {
   "codemirror_mode": {
    "name": "ipython",
    "version": 3
   },
   "file_extension": ".py",
   "mimetype": "text/x-python",
   "name": "python",
   "nbconvert_exporter": "python",
   "pygments_lexer": "ipython3",
   "version": "3.8.5"
  }
 },
 "nbformat": 4,
 "nbformat_minor": 4
}
