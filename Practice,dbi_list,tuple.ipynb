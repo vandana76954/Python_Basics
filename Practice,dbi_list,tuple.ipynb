{
 "cells": [
  {
   "cell_type": "code",
   "execution_count": 1,
   "metadata": {},
   "outputs": [],
   "source": [
    "A=[1,2,3,4,5.0,4+3j,\"Sunny\",True]"
   ]
  },
  {
   "cell_type": "code",
   "execution_count": 2,
   "metadata": {},
   "outputs": [
    {
     "name": "stdout",
     "output_type": "stream",
     "text": [
      "1\n",
      "2\n",
      "3\n",
      "4\n",
      "5.0\n",
      "(4+3j)\n",
      "Sunny\n",
      "True\n"
     ]
    }
   ],
   "source": [
    "#How to access elements of list using for loop\n",
    "for element in A:\n",
    "    print(element)"
   ]
  },
  {
   "cell_type": "code",
   "execution_count": 3,
   "metadata": {},
   "outputs": [
    {
     "data": {
      "text/plain": [
       "8"
      ]
     },
     "execution_count": 3,
     "metadata": {},
     "output_type": "execute_result"
    }
   ],
   "source": [
    "len(A)"
   ]
  },
  {
   "cell_type": "code",
   "execution_count": 4,
   "metadata": {},
   "outputs": [
    {
     "name": "stdout",
     "output_type": "stream",
     "text": [
      "1\n",
      "2\n",
      "3\n",
      "4\n",
      "5.0\n",
      "(4+3j)\n",
      "Sunny\n",
      "True\n"
     ]
    }
   ],
   "source": [
    "#How to access elements of list using for loop\n",
    "for i in range(len(A)):\n",
    "    print(A[i])"
   ]
  },
  {
   "cell_type": "code",
   "execution_count": 5,
   "metadata": {},
   "outputs": [
    {
     "name": "stdout",
     "output_type": "stream",
     "text": [
      "i=0 Value = 1 DataType= <class 'int'>\n",
      "i=1 Value = 2 DataType= <class 'int'>\n",
      "i=2 Value = 3 DataType= <class 'int'>\n",
      "i=3 Value = 4 DataType= <class 'int'>\n",
      "i=4 Value = 5.0 DataType= <class 'float'>\n",
      "i=5 Value = (4+3j) DataType= <class 'complex'>\n",
      "i=6 Value = Sunny DataType= <class 'str'>\n",
      "i=7 Value = True DataType= <class 'bool'>\n"
     ]
    }
   ],
   "source": [
    "#To check the datatype of each element\n",
    "for i in range(len(A)):\n",
    "    print(f\"i={i} Value = {A[i]} DataType= {type(A[i])}\")"
   ]
  },
  {
   "cell_type": "code",
   "execution_count": 6,
   "metadata": {},
   "outputs": [
    {
     "data": {
      "text/plain": [
       "[1, 2, 3, 4, 5.0, (4+3j), 'Sunny', True]"
      ]
     },
     "execution_count": 6,
     "metadata": {},
     "output_type": "execute_result"
    }
   ],
   "source": [
    "\n",
    "A"
   ]
  },
  {
   "cell_type": "code",
   "execution_count": 7,
   "metadata": {},
   "outputs": [
    {
     "data": {
      "text/plain": [
       "[4, 5.0, (4+3j), 'Sunny', True]"
      ]
     },
     "execution_count": 7,
     "metadata": {},
     "output_type": "execute_result"
    }
   ],
   "source": [
    "#Indexing and slicing\n",
    "A[3:]"
   ]
  },
  {
   "cell_type": "code",
   "execution_count": 8,
   "metadata": {},
   "outputs": [
    {
     "data": {
      "text/plain": [
       "[1, 3, 5.0, 'Sunny']"
      ]
     },
     "execution_count": 8,
     "metadata": {},
     "output_type": "execute_result"
    }
   ],
   "source": [
    "A[0::2] #start,end, steps"
   ]
  },
  {
   "cell_type": "code",
   "execution_count": 9,
   "metadata": {},
   "outputs": [
    {
     "data": {
      "text/plain": [
       "[0, 1, 2, 3, 4, 5, 6, 7]"
      ]
     },
     "execution_count": 9,
     "metadata": {},
     "output_type": "execute_result"
    }
   ],
   "source": [
    "list(range(8))"
   ]
  },
  {
   "cell_type": "code",
   "execution_count": 10,
   "metadata": {},
   "outputs": [
    {
     "name": "stdout",
     "output_type": "stream",
     "text": [
      "i=0, Element = 1\n",
      "i=2, Element = 3\n",
      "i=4, Element = 5.0\n",
      "i=6, Element = Sunny\n"
     ]
    }
   ],
   "source": [
    "#same thing you can do using for loop\n",
    "for i in range(0,8,2):\n",
    "    print(f\"i={i}, Element = {A[i]}\")"
   ]
  },
  {
   "cell_type": "code",
   "execution_count": 13,
   "metadata": {},
   "outputs": [
    {
     "data": {
      "text/plain": [
       "[1, 2, 3, 4, 5.0, (4+3j), 'Sunny', True]"
      ]
     },
     "execution_count": 13,
     "metadata": {},
     "output_type": "execute_result"
    }
   ],
   "source": [
    "A"
   ]
  },
  {
   "cell_type": "code",
   "execution_count": 14,
   "metadata": {},
   "outputs": [
    {
     "data": {
      "text/plain": [
       "[True, 'Sunny', (4+3j), 5.0, 4, 3, 2, 1]"
      ]
     },
     "execution_count": 14,
     "metadata": {},
     "output_type": "execute_result"
    }
   ],
   "source": [
    "#Reverse Order\n",
    "A[::-1]"
   ]
  },
  {
   "cell_type": "code",
   "execution_count": 28,
   "metadata": {},
   "outputs": [
    {
     "data": {
      "text/plain": [
       "[-1, -2, -3, -4, -5, -6, -7]"
      ]
     },
     "execution_count": 28,
     "metadata": {},
     "output_type": "execute_result"
    }
   ],
   "source": [
    "list(range(-1,-len(A),-1))"
   ]
  },
  {
   "cell_type": "code",
   "execution_count": 31,
   "metadata": {},
   "outputs": [
    {
     "name": "stdout",
     "output_type": "stream",
     "text": [
      "i=-1, Element = True\n",
      "i=-2, Element = Sunny\n",
      "i=-3, Element = (4+3j)\n",
      "i=-4, Element = 5.0\n",
      "i=-5, Element = 4\n",
      "i=-6, Element = 3\n",
      "i=-7, Element = 2\n",
      "i=-8, Element = 1\n"
     ]
    }
   ],
   "source": [
    "#Using for loop\n",
    "for i in range(-1,-len(A)-1,-1):\n",
    "    print(f\"i={i}, Element = {A[i]}\")"
   ]
  },
  {
   "cell_type": "code",
   "execution_count": 36,
   "metadata": {},
   "outputs": [
    {
     "name": "stdout",
     "output_type": "stream",
     "text": [
      "i=1, Element = 2\n",
      "i=3, Element = 4\n",
      "i=5, Element = (4+3j)\n",
      "i=7, Element = True\n"
     ]
    }
   ],
   "source": [
    "#If you want to access elements manually using for loop\n",
    "for i in [1,3,5,7]:\n",
    "    print(f\"i={i}, Element = {A[i]}\")"
   ]
  },
  {
   "cell_type": "code",
   "execution_count": 37,
   "metadata": {},
   "outputs": [
    {
     "data": {
      "text/plain": [
       "[1, 2, 3, 4, 5.0, (4+3j), 'Sunny', True]"
      ]
     },
     "execution_count": 37,
     "metadata": {},
     "output_type": "execute_result"
    }
   ],
   "source": [
    "A"
   ]
  },
  {
   "cell_type": "code",
   "execution_count": 38,
   "metadata": {},
   "outputs": [],
   "source": [
    "A[4]=999.0"
   ]
  },
  {
   "cell_type": "code",
   "execution_count": 39,
   "metadata": {},
   "outputs": [
    {
     "data": {
      "text/plain": [
       "[1, 2, 3, 4, 999.0, (4+3j), 'Sunny', True]"
      ]
     },
     "execution_count": 39,
     "metadata": {},
     "output_type": "execute_result"
    }
   ],
   "source": [
    "A"
   ]
  },
  {
   "cell_type": "code",
   "execution_count": 40,
   "metadata": {},
   "outputs": [],
   "source": [
    "A[-2]=\"ineuron\""
   ]
  },
  {
   "cell_type": "code",
   "execution_count": 41,
   "metadata": {},
   "outputs": [
    {
     "data": {
      "text/plain": [
       "[1, 2, 3, 4, 999.0, (4+3j), 'ineuron', True]"
      ]
     },
     "execution_count": 41,
     "metadata": {},
     "output_type": "execute_result"
    }
   ],
   "source": [
    "A"
   ]
  },
  {
   "cell_type": "code",
   "execution_count": 42,
   "metadata": {},
   "outputs": [],
   "source": [
    "B=[78,90.22]"
   ]
  },
  {
   "cell_type": "code",
   "execution_count": 43,
   "metadata": {},
   "outputs": [
    {
     "data": {
      "text/plain": [
       "[1, 2, 3, 4, 999.0, (4+3j), 'ineuron', True, 78, 90.22]"
      ]
     },
     "execution_count": 43,
     "metadata": {},
     "output_type": "execute_result"
    }
   ],
   "source": [
    "A+B"
   ]
  },
  {
   "cell_type": "code",
   "execution_count": 44,
   "metadata": {},
   "outputs": [
    {
     "ename": "TypeError",
     "evalue": "unsupported operand type(s) for -: 'list' and 'list'",
     "output_type": "error",
     "traceback": [
      "\u001b[1;31m---------------------------------------------------------------------------\u001b[0m",
      "\u001b[1;31mTypeError\u001b[0m                                 Traceback (most recent call last)",
      "\u001b[1;32m<ipython-input-44-ca2486c81344>\u001b[0m in \u001b[0;36m<module>\u001b[1;34m\u001b[0m\n\u001b[1;32m----> 1\u001b[1;33m \u001b[0mA\u001b[0m\u001b[1;33m-\u001b[0m\u001b[0mB\u001b[0m\u001b[1;33m\u001b[0m\u001b[1;33m\u001b[0m\u001b[0m\n\u001b[0m",
      "\u001b[1;31mTypeError\u001b[0m: unsupported operand type(s) for -: 'list' and 'list'"
     ]
    }
   ],
   "source": [
    "A-B"
   ]
  },
  {
   "cell_type": "code",
   "execution_count": 46,
   "metadata": {},
   "outputs": [
    {
     "data": {
      "text/plain": [
       "[1,\n",
       " 2,\n",
       " 3,\n",
       " 4,\n",
       " 999.0,\n",
       " (4+3j),\n",
       " 'ineuron',\n",
       " True,\n",
       " 1,\n",
       " 2,\n",
       " 3,\n",
       " 4,\n",
       " 999.0,\n",
       " (4+3j),\n",
       " 'ineuron',\n",
       " True]"
      ]
     },
     "execution_count": 46,
     "metadata": {},
     "output_type": "execute_result"
    }
   ],
   "source": [
    "A*2"
   ]
  },
  {
   "cell_type": "code",
   "execution_count": 47,
   "metadata": {},
   "outputs": [
    {
     "data": {
      "text/plain": [
       "8"
      ]
     },
     "execution_count": 47,
     "metadata": {},
     "output_type": "execute_result"
    }
   ],
   "source": [
    "#Basic List Methods\n",
    "len(A)"
   ]
  },
  {
   "cell_type": "code",
   "execution_count": 48,
   "metadata": {},
   "outputs": [
    {
     "data": {
      "text/plain": [
       "0"
      ]
     },
     "execution_count": 48,
     "metadata": {},
     "output_type": "execute_result"
    }
   ],
   "source": [
    "#Creating list with user input\n",
    "my_list=[] #Not recommended approach \n",
    "len(my_list)"
   ]
  },
  {
   "cell_type": "code",
   "execution_count": 49,
   "metadata": {},
   "outputs": [
    {
     "data": {
      "text/plain": [
       "0"
      ]
     },
     "execution_count": 49,
     "metadata": {},
     "output_type": "execute_result"
    }
   ],
   "source": [
    "#Creating list with user input\n",
    "my_list=list() #recommended approach \n",
    "len(my_list)"
   ]
  },
  {
   "cell_type": "code",
   "execution_count": 3,
   "metadata": {},
   "outputs": [
    {
     "name": "stdout",
     "output_type": "stream",
     "text": [
      "Enter the item that you want to purchase :book\n",
      "Enter the item that you want to purchase :phone\n",
      "Enter the item that you want to purchase :lipstick\n",
      "Enter the item that you want to purchase :cover\n",
      "Enter the item that you want to purchase :laptop\n",
      "['book', 'phone', 'lipstick', 'cover', 'laptop']\n"
     ]
    }
   ],
   "source": [
    "#Creating list with user input using for loop\n",
    "list_of_item_to_purchase=list()\n",
    "for i in range(5):\n",
    "    user_input=input(\"Enter the item that you want to purchase :\")\n",
    "    list_of_item_to_purchase=list_of_item_to_purchase+[user_input]\n",
    "print(list_of_item_to_purchase)\n"
   ]
  },
  {
   "cell_type": "code",
   "execution_count": 5,
   "metadata": {},
   "outputs": [
    {
     "name": "stdout",
     "output_type": "stream",
     "text": [
      "No of item you want to purchase2\n",
      "Enter the item that you want to purchase :bulb\n",
      "Enter the item that you want to purchase :knife\n",
      "['bulb', 'knife']\n"
     ]
    }
   ],
   "source": [
    "#Creating list with user input using while loop\n",
    "list_of_item_to_purchase=list()\n",
    "N=int(input(\"No of item you want to purchase\"))\n",
    "count=0\n",
    "while count<N:\n",
    "    user_input=input(\"Enter the item that you want to purchase :\")\n",
    "    list_of_item_to_purchase=list_of_item_to_purchase+[user_input]\n",
    "    count=count+1\n",
    "    \n",
    "print(list_of_item_to_purchase)\n"
   ]
  },
  {
   "cell_type": "code",
   "execution_count": 6,
   "metadata": {},
   "outputs": [
    {
     "data": {
      "text/plain": [
       "True"
      ]
     },
     "execution_count": 6,
     "metadata": {},
     "output_type": "execute_result"
    }
   ],
   "source": [
    "#To check whether your item is in the list or not\n",
    "\"bulb\" in list_of_item_to_purchase "
   ]
  },
  {
   "cell_type": "code",
   "execution_count": 7,
   "metadata": {},
   "outputs": [
    {
     "data": {
      "text/plain": [
       "False"
      ]
     },
     "execution_count": 7,
     "metadata": {},
     "output_type": "execute_result"
    }
   ],
   "source": [
    "#To check whether your item is in the list or not\n",
    "\"pen\" in list_of_item_to_purchase "
   ]
  },
  {
   "cell_type": "code",
   "execution_count": 9,
   "metadata": {},
   "outputs": [
    {
     "name": "stdout",
     "output_type": "stream",
     "text": [
      "No, adding into the list\n"
     ]
    }
   ],
   "source": [
    "if \"pen\" in list_of_item_to_purchase:\n",
    "    print(\"YES\")\n",
    "else:\n",
    "    print(\"No, adding into the list\")\n",
    "    list_of_item_to_purchase=list_of_item_to_purchase+[\"Pen\"]\n",
    "    "
   ]
  },
  {
   "cell_type": "code",
   "execution_count": 10,
   "metadata": {},
   "outputs": [
    {
     "data": {
      "text/plain": [
       "['bulb', 'knife', 'Pen']"
      ]
     },
     "execution_count": 10,
     "metadata": {},
     "output_type": "execute_result"
    }
   ],
   "source": [
    "list_of_item_to_purchase"
   ]
  },
  {
   "cell_type": "code",
   "execution_count": 11,
   "metadata": {},
   "outputs": [
    {
     "name": "stdout",
     "output_type": "stream",
     "text": [
      "No, adding into the list\n"
     ]
    }
   ],
   "source": [
    "#Lets use not condition here to check whether it is in list or not\n",
    "if \"Milk\" not in list_of_item_to_purchase:\n",
    "    print(\"No, adding into the list\")\n",
    "    list_of_item_to_purchase=list_of_item_to_purchase+[\"Milk\"]\n",
    "    \n",
    "    "
   ]
  },
  {
   "cell_type": "code",
   "execution_count": 12,
   "metadata": {},
   "outputs": [
    {
     "data": {
      "text/plain": [
       "['bulb', 'knife', 'Pen', 'Milk']"
      ]
     },
     "execution_count": 12,
     "metadata": {},
     "output_type": "execute_result"
    }
   ],
   "source": [
    "list_of_item_to_purchase"
   ]
  },
  {
   "cell_type": "code",
   "execution_count": 13,
   "metadata": {},
   "outputs": [
    {
     "name": "stdout",
     "output_type": "stream",
     "text": [
      "Anything else you want to add :grapes\n",
      "No, adding into the list\n"
     ]
    }
   ],
   "source": [
    "#You can also do the same with this\n",
    "new_item=input(\"Anything else you want to add :\")\n",
    "if new_item not in list_of_item_to_purchase:\n",
    "    print(\"No, adding into the list\")\n",
    "    list_of_item_to_purchase=list_of_item_to_purchase+[new_item]\n",
    "    \n",
    "    "
   ]
  },
  {
   "cell_type": "code",
   "execution_count": 14,
   "metadata": {},
   "outputs": [
    {
     "data": {
      "text/plain": [
       "['bulb', 'knife', 'Pen', 'Milk', 'grapes']"
      ]
     },
     "execution_count": 14,
     "metadata": {},
     "output_type": "execute_result"
    }
   ],
   "source": [
    "list_of_item_to_purchase"
   ]
  },
  {
   "cell_type": "code",
   "execution_count": 15,
   "metadata": {},
   "outputs": [
    {
     "data": {
      "text/plain": [
       "999.0"
      ]
     },
     "execution_count": 15,
     "metadata": {},
     "output_type": "execute_result"
    }
   ],
   "source": [
    "#Max method will return the maximum value from the list\n",
    "\n",
    "example=[1,66,999.0,10]\n",
    "max(example)"
   ]
  },
  {
   "cell_type": "code",
   "execution_count": 17,
   "metadata": {},
   "outputs": [
    {
     "data": {
      "text/plain": [
       "'d'"
      ]
     },
     "execution_count": 17,
     "metadata": {},
     "output_type": "execute_result"
    }
   ],
   "source": [
    "#Max method will return the maximum value from the list\n",
    "string_example=[\"a\",\"b\",\"d\"]\n",
    "max(string_example)"
   ]
  },
  {
   "cell_type": "code",
   "execution_count": 18,
   "metadata": {},
   "outputs": [
    {
     "data": {
      "text/plain": [
       "'d'"
      ]
     },
     "execution_count": 18,
     "metadata": {},
     "output_type": "execute_result"
    }
   ],
   "source": [
    "#Max method will return the maximum value from the list\n",
    "string_example=[\"a\",\"b\",\"d\",\"D\"]\n",
    "max(string_example) #As per ASCII Value it will return the max value "
   ]
  },
  {
   "cell_type": "code",
   "execution_count": 19,
   "metadata": {},
   "outputs": [
    {
     "ename": "TypeError",
     "evalue": "'>' not supported between instances of 'int' and 'str'",
     "output_type": "error",
     "traceback": [
      "\u001b[1;31m---------------------------------------------------------------------------\u001b[0m",
      "\u001b[1;31mTypeError\u001b[0m                                 Traceback (most recent call last)",
      "\u001b[1;32m<ipython-input-19-5ffa3b10b3a8>\u001b[0m in \u001b[0;36m<module>\u001b[1;34m\u001b[0m\n\u001b[0;32m      1\u001b[0m \u001b[1;31m#It will work only if theelements are of same datatype\u001b[0m\u001b[1;33m\u001b[0m\u001b[1;33m\u001b[0m\u001b[1;33m\u001b[0m\u001b[0m\n\u001b[0;32m      2\u001b[0m \u001b[0mstring_example\u001b[0m\u001b[1;33m=\u001b[0m\u001b[1;33m[\u001b[0m\u001b[1;34m\"a\"\u001b[0m\u001b[1;33m,\u001b[0m\u001b[1;34m\"b\"\u001b[0m\u001b[1;33m,\u001b[0m\u001b[1;34m\"d\"\u001b[0m\u001b[1;33m,\u001b[0m\u001b[1;34m\"D\"\u001b[0m\u001b[1;33m,\u001b[0m\u001b[1;36m1\u001b[0m\u001b[1;33m,\u001b[0m\u001b[1;36m6\u001b[0m\u001b[1;33m]\u001b[0m\u001b[1;33m\u001b[0m\u001b[1;33m\u001b[0m\u001b[0m\n\u001b[1;32m----> 3\u001b[1;33m \u001b[0mmax\u001b[0m\u001b[1;33m(\u001b[0m\u001b[0mstring_example\u001b[0m\u001b[1;33m)\u001b[0m\u001b[1;33m\u001b[0m\u001b[1;33m\u001b[0m\u001b[0m\n\u001b[0m",
      "\u001b[1;31mTypeError\u001b[0m: '>' not supported between instances of 'int' and 'str'"
     ]
    }
   ],
   "source": [
    "#It will work only if theelements are of same datatype\n",
    "string_example=[\"a\",\"b\",\"d\",\"D\",1,6]\n",
    "max(string_example)"
   ]
  },
  {
   "cell_type": "code",
   "execution_count": 21,
   "metadata": {},
   "outputs": [
    {
     "data": {
      "text/plain": [
       "'dj'"
      ]
     },
     "execution_count": 21,
     "metadata": {},
     "output_type": "execute_result"
    }
   ],
   "source": [
    "#Max method will return the maximum value from the list\n",
    "string_example=[\"bhaveen\",\"abishek\",\"dew\",\"dj\",\"Soni\"]\n",
    "max(string_example) #As per ASCII Value it will return the max value "
   ]
  },
  {
   "cell_type": "code",
   "execution_count": 49,
   "metadata": {},
   "outputs": [
    {
     "name": "stdout",
     "output_type": "stream",
     "text": [
      "String : bhaveen  Letters: 7\n",
      "String : abhishek  Letters: 8\n",
      "String : dew  Letters: 3\n",
      "String : dj  Letters: 2\n",
      "String : Soni  Letters: 4\n",
      "Max_len: 8, Name :abhishek \n"
     ]
    }
   ],
   "source": [
    "#Print the name with highest no of characters\n",
    "max_len=0\n",
    "string_example=[\"bhaveen\",\"abhishek\",\"dew\",\"dj\",\"Soni\"]\n",
    "for i in string_example:\n",
    "    print(f\"\"\"String : {i}  Letters: {len(i)}\"\"\")\n",
    "    if len(i)>max_len:\n",
    "        max_len=len(i)\n",
    "        result=i\n",
    "\n",
    "print(f\"Max_len: {max_len}, Name :{result} \")\n",
    "\n",
    "    \n",
    "    "
   ]
  },
  {
   "cell_type": "code",
   "execution_count": 50,
   "metadata": {},
   "outputs": [],
   "source": [
    "A =[1,5,77]"
   ]
  },
  {
   "cell_type": "code",
   "execution_count": 51,
   "metadata": {},
   "outputs": [],
   "source": [
    "A=A+[\"new_element\"]"
   ]
  },
  {
   "cell_type": "code",
   "execution_count": 52,
   "metadata": {},
   "outputs": [
    {
     "data": {
      "text/plain": [
       "[1, 5, 77, 'new_element']"
      ]
     },
     "execution_count": 52,
     "metadata": {},
     "output_type": "execute_result"
    }
   ],
   "source": [
    "A"
   ]
  },
  {
   "cell_type": "code",
   "execution_count": 53,
   "metadata": {},
   "outputs": [],
   "source": [
    "#Append Method\n",
    "A.append(\"Soni\") #It will add new element in the end of list only\n",
    "#It appends one item at a time"
   ]
  },
  {
   "cell_type": "code",
   "execution_count": 54,
   "metadata": {},
   "outputs": [
    {
     "data": {
      "text/plain": [
       "[1, 5, 77, 'new_element', 'Soni']"
      ]
     },
     "execution_count": 54,
     "metadata": {},
     "output_type": "execute_result"
    }
   ],
   "source": [
    "A"
   ]
  },
  {
   "cell_type": "code",
   "execution_count": 1,
   "metadata": {},
   "outputs": [
    {
     "name": "stdout",
     "output_type": "stream",
     "text": [
      "No of item you want to purchase2\n",
      "Enter the item that you want to purchase :milk\n",
      "Enter the item that you want to purchase :pen\n",
      "['milk', 'pen']\n"
     ]
    }
   ],
   "source": [
    "#Creating list with user input using for loop and append function\n",
    "list_of_item_to_purchase=list()\n",
    "N= int(input(\"No of item you want to purchase :\"))\n",
    "for i in range(N):\n",
    "    user_input=input(\"Enter the item that you want to purchase :\")\n",
    "    list_of_item_to_purchase.append(user_input) #Recommended method of using append method to add elements\n",
    "print(list_of_item_to_purchase)\n"
   ]
  },
  {
   "cell_type": "code",
   "execution_count": 2,
   "metadata": {},
   "outputs": [],
   "source": [
    "A=[6,4,5,7,\"Sunny\"]"
   ]
  },
  {
   "cell_type": "code",
   "execution_count": 3,
   "metadata": {},
   "outputs": [
    {
     "data": {
      "text/plain": [
       "6"
      ]
     },
     "execution_count": 3,
     "metadata": {},
     "output_type": "execute_result"
    }
   ],
   "source": [
    "#Pop method- by default pops off last element.you can specify the index to pop some specific element\n",
    "A.pop(0)\n"
   ]
  },
  {
   "cell_type": "code",
   "execution_count": 4,
   "metadata": {},
   "outputs": [
    {
     "data": {
      "text/plain": [
       "[4, 5, 7, 'Sunny']"
      ]
     },
     "execution_count": 4,
     "metadata": {},
     "output_type": "execute_result"
    }
   ],
   "source": [
    "A"
   ]
  },
  {
   "cell_type": "code",
   "execution_count": 5,
   "metadata": {},
   "outputs": [
    {
     "data": {
      "text/plain": [
       "'Sunny'"
      ]
     },
     "execution_count": 5,
     "metadata": {},
     "output_type": "execute_result"
    }
   ],
   "source": [
    "A.pop() #by default pops last element"
   ]
  },
  {
   "cell_type": "code",
   "execution_count": 6,
   "metadata": {},
   "outputs": [
    {
     "data": {
      "text/plain": [
       "7"
      ]
     },
     "execution_count": 6,
     "metadata": {},
     "output_type": "execute_result"
    }
   ],
   "source": [
    "A.pop(2)"
   ]
  },
  {
   "cell_type": "code",
   "execution_count": 7,
   "metadata": {},
   "outputs": [
    {
     "data": {
      "text/plain": [
       "[4, 5]"
      ]
     },
     "execution_count": 7,
     "metadata": {},
     "output_type": "execute_result"
    }
   ],
   "source": [
    "A"
   ]
  },
  {
   "cell_type": "code",
   "execution_count": 8,
   "metadata": {},
   "outputs": [],
   "source": [
    "l=[1,34,56,76,99]"
   ]
  },
  {
   "cell_type": "code",
   "execution_count": 10,
   "metadata": {},
   "outputs": [
    {
     "name": "stdout",
     "output_type": "stream",
     "text": [
      "0 1\n",
      "Odd number : 1\n",
      "1 34\n",
      "Even number :34\n",
      "2 56\n",
      "Even number :56\n",
      "3 76\n",
      "Even number :76\n",
      "4 99\n",
      "Odd number : 99\n"
     ]
    }
   ],
   "source": [
    "#remove odd nos using for loop\n",
    "for i in range(len(l)):\n",
    "    print(i,l[i])\n",
    "    num=l[i]\n",
    "    if num%2!=0: #Odd condition\n",
    "        print(f\"Odd number : {num}\")\n",
    "    else:\n",
    "        print(f\"Even number :{num}\")\n",
    "        \n",
    "        \n",
    " "
   ]
  },
  {
   "cell_type": "code",
   "execution_count": 11,
   "metadata": {},
   "outputs": [],
   "source": [
    "\n",
    "A=[1,45,67,98,-34]"
   ]
  },
  {
   "cell_type": "code",
   "execution_count": 12,
   "metadata": {},
   "outputs": [
    {
     "data": {
      "text/plain": [
       "[-34, 1, 45, 67, 98]"
      ]
     },
     "execution_count": 12,
     "metadata": {},
     "output_type": "execute_result"
    }
   ],
   "source": [
    "#Sorting Method :\n",
    "sorted(A) #it will sort in ascending order#Temporary"
   ]
  },
  {
   "cell_type": "code",
   "execution_count": 13,
   "metadata": {},
   "outputs": [],
   "source": [
    "A.sort() #Permanent method"
   ]
  },
  {
   "cell_type": "code",
   "execution_count": 14,
   "metadata": {},
   "outputs": [
    {
     "data": {
      "text/plain": [
       "[-34, 1, 45, 67, 98]"
      ]
     },
     "execution_count": 14,
     "metadata": {},
     "output_type": "execute_result"
    }
   ],
   "source": [
    "A"
   ]
  },
  {
   "cell_type": "code",
   "execution_count": 15,
   "metadata": {},
   "outputs": [],
   "source": [
    "#If you want sorting in descending order\n",
    "A.sort(reverse=True)"
   ]
  },
  {
   "cell_type": "code",
   "execution_count": 16,
   "metadata": {},
   "outputs": [
    {
     "data": {
      "text/plain": [
       "[98, 67, 45, 1, -34]"
      ]
     },
     "execution_count": 16,
     "metadata": {},
     "output_type": "execute_result"
    }
   ],
   "source": [
    "A"
   ]
  },
  {
   "cell_type": "code",
   "execution_count": 17,
   "metadata": {},
   "outputs": [],
   "source": [
    "A.reverse()"
   ]
  },
  {
   "cell_type": "code",
   "execution_count": 18,
   "metadata": {},
   "outputs": [
    {
     "data": {
      "text/plain": [
       "[-34, 1, 45, 67, 98]"
      ]
     },
     "execution_count": 18,
     "metadata": {},
     "output_type": "execute_result"
    }
   ],
   "source": [
    "A"
   ]
  },
  {
   "cell_type": "code",
   "execution_count": 1,
   "metadata": {},
   "outputs": [],
   "source": [
    "#Nesting of the list\n",
    "A=[[1,2,3],[11,22,33],[45,56,77]]"
   ]
  },
  {
   "cell_type": "code",
   "execution_count": 3,
   "metadata": {},
   "outputs": [
    {
     "name": "stdout",
     "output_type": "stream",
     "text": [
      "22\n"
     ]
    }
   ],
   "source": [
    "#how can we print the number 22\n",
    "print(A[1][1])"
   ]
  },
  {
   "cell_type": "code",
   "execution_count": 4,
   "metadata": {},
   "outputs": [],
   "source": [
    "#Nesting of the list\n",
    "#IF we want to access 502\n",
    "A=[[1,2,3],[11,22,33,[500,502]],[45,56,77]]"
   ]
  },
  {
   "cell_type": "code",
   "execution_count": 5,
   "metadata": {},
   "outputs": [
    {
     "data": {
      "text/plain": [
       "502"
      ]
     },
     "execution_count": 5,
     "metadata": {},
     "output_type": "execute_result"
    }
   ],
   "source": [
    "A[1][3][1]"
   ]
  },
  {
   "cell_type": "code",
   "execution_count": 6,
   "metadata": {},
   "outputs": [],
   "source": [
    "#How to access hii\n",
    "A=[[1,2,3],[11,22,33,[500,502]],[45,[239,\"Hii\"],56,77]]"
   ]
  },
  {
   "cell_type": "code",
   "execution_count": 7,
   "metadata": {},
   "outputs": [
    {
     "data": {
      "text/plain": [
       "'Hii'"
      ]
     },
     "execution_count": 7,
     "metadata": {},
     "output_type": "execute_result"
    }
   ],
   "source": [
    "A[2][1][1]"
   ]
  },
  {
   "cell_type": "code",
   "execution_count": 8,
   "metadata": {},
   "outputs": [
    {
     "data": {
      "text/plain": [
       "'Hii'"
      ]
     },
     "execution_count": 8,
     "metadata": {},
     "output_type": "execute_result"
    }
   ],
   "source": [
    "A[-1][-3][-1]"
   ]
  },
  {
   "cell_type": "code",
   "execution_count": 1,
   "metadata": {},
   "outputs": [
    {
     "name": "stdout",
     "output_type": "stream",
     "text": [
      "Total_Cost you have to pay :65000 \n"
     ]
    }
   ],
   "source": [
    "#Lets say we have purchased some items from amazon,we want to know total sum of item you added in your cart\n",
    "#without for  loop\n",
    "amazon_cart=[[\"watch\",5000],[\"phone\",10000],[\"laptop\",50000]]\n",
    "total_cost=0\n",
    "total_cost=amazon_cart[0][1]+amazon_cart[1][1]+amazon_cart[2][1]\n",
    "print(f\"Total_Cost you have to pay :{total_cost} \")"
   ]
  },
  {
   "cell_type": "code",
   "execution_count": 14,
   "metadata": {},
   "outputs": [
    {
     "name": "stdout",
     "output_type": "stream",
     "text": [
      "0 ['watch', 5000]\n",
      "Current total after adding 5000:5000\n",
      "1 ['phone', 10000]\n",
      "Current total after adding 10000:15000\n",
      "2 ['laptop', 50000]\n",
      "Current total after adding 50000:65000\n",
      "Total_cost you have to Pay {65000}\n"
     ]
    }
   ],
   "source": [
    "#When we have a huge list how  can we access elements\n",
    "#Lets say we have purchased some items from amazon,we want to know total sum of item you added in your cart using for loop\n",
    "amazon_cart=[[\"watch\",5000],[\"phone\",10000],[\"laptop\",50000]]\n",
    "total_cost=0\n",
    "for i in range(len(amazon_cart)):\n",
    "    print(i,amazon_cart[i])\n",
    "    total_cost=total_cost+amazon_cart[i][1]\n",
    "    print(f\"Current total after adding {amazon_cart[i][1]}:{total_cost}\")\n",
    "    \n",
    "print(\"Total_cost you have to Pay\",{total_cost})"
   ]
  },
  {
   "cell_type": "code",
   "execution_count": 25,
   "metadata": {},
   "outputs": [
    {
     "name": "stdout",
     "output_type": "stream",
     "text": [
      "Empty Cart: 0\n",
      "i=['watch', 5000], price : 5000\n",
      "Cart after adding item watch: 5000\n",
      "i=['phone', 10000], price : 10000\n",
      "Cart after adding item phone: 15000\n",
      "i=['laptop', 50000], price : 50000\n",
      "Cart after adding item laptop: 65000\n",
      "Total_amount to pay :65000\n"
     ]
    }
   ],
   "source": [
    "#If i donot use the range method in above problem\n",
    "amazon_cart=[[\"watch\",5000],[\"phone\",10000],[\"laptop\",50000]]\n",
    "total_cost=0\n",
    "print(f\"Empty Cart: {total_cost}\")\n",
    "for i in amazon_cart:\n",
    "    print(f\"i={i}, price : {i[1]}\")\n",
    "    total_cost=total_cost+i[1]\n",
    "    print(f\"Cart after adding item {i[0]}: {total_cost}\")\n",
    "    \n",
    "print(f\"Total_amount to pay :{total_cost}\" )"
   ]
  },
  {
   "cell_type": "code",
   "execution_count": null,
   "metadata": {},
   "outputs": [],
   "source": [
    "#List Comprehension- how you can provide shortcut way to create any list"
   ]
  },
  {
   "cell_type": "code",
   "execution_count": 40,
   "metadata": {},
   "outputs": [
    {
     "name": "stdout",
     "output_type": "stream",
     "text": [
      "Index=0, Number : 1 Square of 1=1\n",
      "Index=1, Number : 2 Square of 2=4\n",
      "Index=2, Number : 3 Square of 3=9\n",
      "Index=3, Number : 4 Square of 4=16\n",
      "Index=4, Number : 5 Square of 5=25\n",
      "Index=5, Number : 6 Square of 6=36\n",
      "Index=6, Number : 7 Square of 7=49\n",
      "Index=7, Number : 8 Square of 8=64\n",
      "Index=8, Number : 9 Square of 9=81\n",
      "Index=9, Number : 10 Square of 10=100\n",
      "Squares of Numbers ans :[1, 4, 9, 16, 25, 36, 49, 64, 81, 100]\n"
     ]
    }
   ],
   "source": [
    "#I want to create list which contains list of squares of nos between 1 to 10\n",
    "A=[1,2,3,4,5,6,7,8,9,10]\n",
    "ans=list()\n",
    "for i in range(len(A)):\n",
    "    print(f\"Index={i}, Number : {A[i]} Square of {A[i]}={A[i]**2}\")\n",
    "    ans.append(A[i]**2)  \n",
    "print(f\"Squares of Numbers ans :{ans}\")"
   ]
  },
  {
   "cell_type": "code",
   "execution_count": 42,
   "metadata": {},
   "outputs": [
    {
     "name": "stdout",
     "output_type": "stream",
     "text": [
      "1\n",
      "4\n",
      "9\n",
      "16\n",
      "25\n",
      "36\n",
      "49\n",
      "64\n",
      "81\n",
      "100\n"
     ]
    }
   ],
   "source": [
    "#WE can do the same thing in as ingle line\n",
    "A=[1,2,3,4,5,6,7,8,9,10]\n",
    "ans=list()\n",
    "for i in A:\n",
    "    print(i**2)\n",
    "    "
   ]
  },
  {
   "cell_type": "code",
   "execution_count": 43,
   "metadata": {},
   "outputs": [],
   "source": [
    "#Single line code\n",
    "ans=[i**2 for i in A]"
   ]
  },
  {
   "cell_type": "code",
   "execution_count": 44,
   "metadata": {},
   "outputs": [
    {
     "data": {
      "text/plain": [
       "[1, 4, 9, 16, 25, 36, 49, 64, 81, 100]"
      ]
     },
     "execution_count": 44,
     "metadata": {},
     "output_type": "execute_result"
    }
   ],
   "source": [
    "ans"
   ]
  },
  {
   "cell_type": "code",
   "execution_count": 56,
   "metadata": {},
   "outputs": [
    {
     "name": "stdout",
     "output_type": "stream",
     "text": [
      "Odd Number  1: 1\n",
      "Odd Number  3: 9\n",
      "Odd Number  5: 25\n",
      "Odd Number  7: 49\n",
      "Odd Number  9: 81\n",
      "[1, 9, 25, 49, 81]\n"
     ]
    }
   ],
   "source": [
    "#2.only take the squares of odd numbers in the list A\n",
    "A=[1,2,3,4,5,6,7,8,9,10]\n",
    "ans=list()\n",
    "for i in A:\n",
    "    if i%2!=0:\n",
    "        print(f\"Odd Number  {i}: {i**2}\")\n",
    "        ans.append(i**2)\n",
    "print(ans)\n"
   ]
  },
  {
   "cell_type": "code",
   "execution_count": 2,
   "metadata": {},
   "outputs": [
    {
     "name": "stdout",
     "output_type": "stream",
     "text": [
      "[1, 9, 25, 49, 81]\n"
     ]
    }
   ],
   "source": [
    "#How can we do the above problem in a single code using list comprrehension\n",
    "A=[1,2,3,4,5,6,7,8,9,10]\n",
    "ans=[i**2 for i in A if i%2!=0]\n",
    "print(ans)\n",
    "    \n",
    "    "
   ]
  },
  {
   "cell_type": "code",
   "execution_count": 6,
   "metadata": {},
   "outputs": [],
   "source": [
    "#Count Method\n",
    "A=[1,2,2,4,5,6,6,6,6,7,7,7]"
   ]
  },
  {
   "cell_type": "code",
   "execution_count": 8,
   "metadata": {},
   "outputs": [
    {
     "data": {
      "text/plain": [
       "4"
      ]
     },
     "execution_count": 8,
     "metadata": {},
     "output_type": "execute_result"
    }
   ],
   "source": [
    "A.count(6)"
   ]
  },
  {
   "cell_type": "code",
   "execution_count": 12,
   "metadata": {},
   "outputs": [
    {
     "name": "stdout",
     "output_type": "stream",
     "text": [
      "Element =1  Occurences :1\n",
      "Element =2  Occurences :2\n",
      "Element =2  Occurences :2\n",
      "Element =4  Occurences :1\n",
      "Element =5  Occurences :1\n",
      "Element =6  Occurences :4\n",
      "Element =6  Occurences :4\n",
      "Element =6  Occurences :4\n",
      "Element =6  Occurences :4\n",
      "Element =7  Occurences :3\n",
      "Element =7  Occurences :3\n",
      "Element =7  Occurences :3\n"
     ]
    }
   ],
   "source": [
    "#Count Method using for loop\n",
    "A=[1,2,2,4,5,6,6,6,6,7,7,7]\n",
    "for i in A:\n",
    "    print(f\"Element ={i}  Occurences :{A.count(i)}\")"
   ]
  },
  {
   "cell_type": "code",
   "execution_count": 17,
   "metadata": {},
   "outputs": [
    {
     "name": "stdout",
     "output_type": "stream",
     "text": [
      "Index= S Occurences :1\n",
      "Index= u Occurences :1\n",
      "Index= n Occurences :2\n",
      "Index= n Occurences :2\n",
      "Index= y Occurences :1\n"
     ]
    }
   ],
   "source": [
    "#How  many characters are there in Sunny\n",
    "A=\"Sunny\"\n",
    "for i in A:\n",
    "    print(f\"Index= {i} Occurences :{A.count(i)}\")"
   ]
  },
  {
   "cell_type": "code",
   "execution_count": 19,
   "metadata": {},
   "outputs": [],
   "source": [
    "#Extend method - It unravels the list\n",
    "A=[1,2,3]\n",
    "B=[11,12,13]\n"
   ]
  },
  {
   "cell_type": "code",
   "execution_count": 20,
   "metadata": {},
   "outputs": [],
   "source": [
    "A.append(B)"
   ]
  },
  {
   "cell_type": "code",
   "execution_count": 21,
   "metadata": {},
   "outputs": [
    {
     "data": {
      "text/plain": [
       "[1, 2, 3, [11, 12, 13]]"
      ]
     },
     "execution_count": 21,
     "metadata": {},
     "output_type": "execute_result"
    }
   ],
   "source": [
    "A"
   ]
  },
  {
   "cell_type": "code",
   "execution_count": 22,
   "metadata": {},
   "outputs": [],
   "source": [
    "A.extend(B)"
   ]
  },
  {
   "cell_type": "code",
   "execution_count": 23,
   "metadata": {},
   "outputs": [
    {
     "data": {
      "text/plain": [
       "[1, 2, 3, [11, 12, 13], 11, 12, 13]"
      ]
     },
     "execution_count": 23,
     "metadata": {},
     "output_type": "execute_result"
    }
   ],
   "source": [
    "A"
   ]
  },
  {
   "cell_type": "code",
   "execution_count": 24,
   "metadata": {},
   "outputs": [],
   "source": [
    "#Index method\n",
    "A=[1,3,4,56,\"sunny\",4+3j]"
   ]
  },
  {
   "cell_type": "code",
   "execution_count": 27,
   "metadata": {},
   "outputs": [
    {
     "data": {
      "text/plain": [
       "4"
      ]
     },
     "execution_count": 27,
     "metadata": {},
     "output_type": "execute_result"
    }
   ],
   "source": [
    "A.index(\"sunny\")"
   ]
  },
  {
   "cell_type": "code",
   "execution_count": 38,
   "metadata": {},
   "outputs": [],
   "source": [
    "#print the index of all the complex numbers in the list A\n",
    "A=[1,3,4,56,5+6j,\"sunny\",4+3j]\n"
   ]
  },
  {
   "cell_type": "code",
   "execution_count": 46,
   "metadata": {},
   "outputs": [
    {
     "name": "stdout",
     "output_type": "stream",
     "text": [
      "Element :1,Data type :<class 'int'>,Index :0\n",
      "Element :3,Data type :<class 'int'>,Index :1\n",
      "Element :4,Data type :<class 'int'>,Index :2\n",
      "Element :56,Data type :<class 'int'>,Index :3\n",
      "Element :(5+6j),Data type :<class 'complex'>,Index :4\n",
      "Element :sunny,Data type :<class 'str'>,Index :5\n",
      "Element :(4+3j),Data type :<class 'complex'>,Index :6\n",
      "Complex numbers in lists are : [(5+6j), (4+3j)]\n"
     ]
    }
   ],
   "source": [
    "#print the index of all the complex numbers  the list A\n",
    "ans=list()\n",
    "for i in A:\n",
    "    print(f\"Element :{i},Data type :{type(i)},Index :{A.index(i)}\")\n",
    "    if type(i)==complex:\n",
    "        ans.append(i)\n",
    "print(f\"Complex numbers in lists are : {ans}\")\n",
    "        \n",
    "    "
   ]
  },
  {
   "cell_type": "code",
   "execution_count": 48,
   "metadata": {},
   "outputs": [
    {
     "name": "stdout",
     "output_type": "stream",
     "text": [
      "Element :1,Data type :<class 'int'>,Index :0\n",
      "Element :3,Data type :<class 'int'>,Index :1\n",
      "Element :4,Data type :<class 'int'>,Index :2\n",
      "Element :56,Data type :<class 'int'>,Index :3\n",
      "Element :(5+6j),Data type :<class 'complex'>,Index :4\n",
      "Element :sunny,Data type :<class 'str'>,Index :5\n",
      "Element :(4+3j),Data type :<class 'complex'>,Index :6\n",
      "Complex numbers in lists are : [(5+6j), (4+3j)]\n"
     ]
    }
   ],
   "source": [
    "#USe of isinstance() to check number is complex in the list\n",
    "#print the index of all the complex numbers  the list A uusing is instance method\n",
    "ans=list()\n",
    "for i in A:\n",
    "    print(f\"Element :{i},Data type :{type(i)},Index :{A.index(i)}\")\n",
    "    #if type(i)==complex:\n",
    "    if isinstance(i,complex):\n",
    "        ans.append(i)\n",
    "print(f\"Complex numbers in lists are : {ans}\")\n",
    "        "
   ]
  },
  {
   "cell_type": "code",
   "execution_count": 54,
   "metadata": {},
   "outputs": [
    {
     "name": "stdout",
     "output_type": "stream",
     "text": [
      "Complex numbers are :[(5+6j), (4+3j)]\n"
     ]
    }
   ],
   "source": [
    "#Single line code for this problem\n",
    "ans=list()\n",
    "answer=[i for i in A if type(i)==complex]\n",
    "print(f\"Complex numbers are :{answer}\")\n"
   ]
  },
  {
   "cell_type": "code",
   "execution_count": 51,
   "metadata": {},
   "outputs": [
    {
     "name": "stdout",
     "output_type": "stream",
     "text": [
      "Element :1,Data type :<class 'int'>,Index :0\n",
      "Element :3,Data type :<class 'int'>,Index :1\n",
      "Element :4,Data type :<class 'int'>,Index :2\n",
      "Element :56,Data type :<class 'int'>,Index :3\n",
      "Element :(5+6j),Data type :<class 'complex'>,Index :4\n",
      "Element :sunny,Data type :<class 'str'>,Index :5\n",
      "Element :(4+3j),Data type :<class 'complex'>,Index :6\n",
      "Numbers are : [1, 3, 4, 56, (5+6j), (4+3j)]\n"
     ]
    }
   ],
   "source": [
    "#USe of isinstance() to check number is complex or int in the list A\n",
    "answer=list()\n",
    "for i in A:\n",
    "    print(f\"Element :{i},Data type :{type(i)},Index :{A.index(i)}\")\n",
    "    if isinstance(i,(complex,int)):\n",
    "        answer.append(i)\n",
    "print(f\"Numbers are : {answer}\")"
   ]
  },
  {
   "cell_type": "code",
   "execution_count": 56,
   "metadata": {},
   "outputs": [
    {
     "data": {
      "text/plain": [
       "[1, 2, 3, 4, 5, 99]"
      ]
     },
     "execution_count": 56,
     "metadata": {},
     "output_type": "execute_result"
    }
   ],
   "source": [
    "#Append Method\n",
    "A=[1,2,3,4,5]\n",
    "A.append(99)\n",
    "A\n"
   ]
  },
  {
   "cell_type": "code",
   "execution_count": 57,
   "metadata": {},
   "outputs": [
    {
     "data": {
      "text/plain": [
       "[1, 2, 'Sunny', 3, 4, 5]"
      ]
     },
     "execution_count": 57,
     "metadata": {},
     "output_type": "execute_result"
    }
   ],
   "source": [
    "#Insert Method -Appends element at specific index\n",
    "A=[1,2,3,4,5]\n",
    "A.insert(2,\"Sunny\")\n",
    "A"
   ]
  },
  {
   "cell_type": "code",
   "execution_count": 2,
   "metadata": {},
   "outputs": [],
   "source": [
    "#remove method\n",
    "A=[1,2,3,455,6,77]\n",
    "A.remove(77)"
   ]
  },
  {
   "cell_type": "code",
   "execution_count": 3,
   "metadata": {},
   "outputs": [
    {
     "data": {
      "text/plain": [
       "[1, 2, 3, 455, 6]"
      ]
     },
     "execution_count": 3,
     "metadata": {},
     "output_type": "execute_result"
    }
   ],
   "source": [
    "A"
   ]
  },
  {
   "cell_type": "code",
   "execution_count": 4,
   "metadata": {},
   "outputs": [
    {
     "data": {
      "text/plain": [
       "[1, 2, 3, 455, 6, 77]"
      ]
     },
     "execution_count": 4,
     "metadata": {},
     "output_type": "execute_result"
    }
   ],
   "source": [
    "A=[1,1,2,3,455,6,77]\n",
    "A.remove(1) #will remove the first occurence of 1\n",
    "A"
   ]
  },
  {
   "cell_type": "code",
   "execution_count": 5,
   "metadata": {},
   "outputs": [
    {
     "ename": "ValueError",
     "evalue": "list.remove(x): x not in list",
     "output_type": "error",
     "traceback": [
      "\u001b[1;31m---------------------------------------------------------------------------\u001b[0m",
      "\u001b[1;31mValueError\u001b[0m                                Traceback (most recent call last)",
      "\u001b[1;32m<ipython-input-5-e0bd01b69a65>\u001b[0m in \u001b[0;36m<module>\u001b[1;34m\u001b[0m\n\u001b[0;32m      1\u001b[0m \u001b[0mA\u001b[0m\u001b[1;33m=\u001b[0m\u001b[1;33m[\u001b[0m\u001b[1;36m1\u001b[0m\u001b[1;33m,\u001b[0m\u001b[1;36m1\u001b[0m\u001b[1;33m,\u001b[0m\u001b[1;36m2\u001b[0m\u001b[1;33m,\u001b[0m\u001b[1;36m3\u001b[0m\u001b[1;33m,\u001b[0m\u001b[1;36m455\u001b[0m\u001b[1;33m,\u001b[0m\u001b[1;36m6\u001b[0m\u001b[1;33m,\u001b[0m\u001b[1;36m77\u001b[0m\u001b[1;33m]\u001b[0m\u001b[1;33m\u001b[0m\u001b[1;33m\u001b[0m\u001b[0m\n\u001b[1;32m----> 2\u001b[1;33m \u001b[0mA\u001b[0m\u001b[1;33m.\u001b[0m\u001b[0mremove\u001b[0m\u001b[1;33m(\u001b[0m\u001b[1;36m999\u001b[0m\u001b[1;33m)\u001b[0m\u001b[1;33m\u001b[0m\u001b[1;33m\u001b[0m\u001b[0m\n\u001b[0m\u001b[0;32m      3\u001b[0m \u001b[0mA\u001b[0m\u001b[1;33m\u001b[0m\u001b[1;33m\u001b[0m\u001b[0m\n",
      "\u001b[1;31mValueError\u001b[0m: list.remove(x): x not in list"
     ]
    }
   ],
   "source": [
    "A=[1,1,2,3,455,6,77]\n",
    "A.remove(999)\n",
    "A"
   ]
  },
  {
   "cell_type": "code",
   "execution_count": 6,
   "metadata": {},
   "outputs": [],
   "source": [
    "#difference b/w pop and remove is that\n",
    "#In pop we use indexes to remove the value\n",
    "#in remove we use the element itself to  get it removed from list"
   ]
  },
  {
   "cell_type": "markdown",
   "metadata": {},
   "source": [
    "#### Tuples - are immutable.Notation -().Wherever data integrity required we use tuple.Length of  tuple cannot be changed however we can change the length of lists.Slicing operations can be performed on tuple"
   ]
  },
  {
   "cell_type": "code",
   "execution_count": 7,
   "metadata": {},
   "outputs": [],
   "source": [
    "A=(1,2,3)"
   ]
  },
  {
   "cell_type": "code",
   "execution_count": 8,
   "metadata": {},
   "outputs": [
    {
     "data": {
      "text/plain": [
       "tuple"
      ]
     },
     "execution_count": 8,
     "metadata": {},
     "output_type": "execute_result"
    }
   ],
   "source": [
    "type(A)"
   ]
  },
  {
   "cell_type": "code",
   "execution_count": 9,
   "metadata": {},
   "outputs": [
    {
     "data": {
      "text/plain": [
       "1"
      ]
     },
     "execution_count": 9,
     "metadata": {},
     "output_type": "execute_result"
    }
   ],
   "source": [
    "A[0]"
   ]
  },
  {
   "cell_type": "code",
   "execution_count": 11,
   "metadata": {},
   "outputs": [
    {
     "data": {
      "text/plain": [
       "3"
      ]
     },
     "execution_count": 11,
     "metadata": {},
     "output_type": "execute_result"
    }
   ],
   "source": [
    "A[2]"
   ]
  },
  {
   "cell_type": "code",
   "execution_count": 14,
   "metadata": {},
   "outputs": [
    {
     "ename": "TypeError",
     "evalue": "'tuple' object does not support item assignment",
     "output_type": "error",
     "traceback": [
      "\u001b[1;31m---------------------------------------------------------------------------\u001b[0m",
      "\u001b[1;31mTypeError\u001b[0m                                 Traceback (most recent call last)",
      "\u001b[1;32m<ipython-input-14-ba0b3a67a7e9>\u001b[0m in \u001b[0;36m<module>\u001b[1;34m\u001b[0m\n\u001b[1;32m----> 1\u001b[1;33m \u001b[0mA\u001b[0m\u001b[1;33m[\u001b[0m\u001b[1;36m0\u001b[0m\u001b[1;33m]\u001b[0m\u001b[1;33m=\u001b[0m\u001b[1;36m22\u001b[0m\u001b[1;33m\u001b[0m\u001b[1;33m\u001b[0m\u001b[0m\n\u001b[0m",
      "\u001b[1;31mTypeError\u001b[0m: 'tuple' object does not support item assignment"
     ]
    }
   ],
   "source": [
    "A[0]=22"
   ]
  },
  {
   "cell_type": "code",
   "execution_count": 15,
   "metadata": {},
   "outputs": [],
   "source": [
    "A=(22,12,34,1)\n"
   ]
  },
  {
   "cell_type": "code",
   "execution_count": 16,
   "metadata": {},
   "outputs": [
    {
     "ename": "AttributeError",
     "evalue": "'tuple' object has no attribute 'sort'",
     "output_type": "error",
     "traceback": [
      "\u001b[1;31m---------------------------------------------------------------------------\u001b[0m",
      "\u001b[1;31mAttributeError\u001b[0m                            Traceback (most recent call last)",
      "\u001b[1;32m<ipython-input-16-cc92ed99d76d>\u001b[0m in \u001b[0;36m<module>\u001b[1;34m\u001b[0m\n\u001b[1;32m----> 1\u001b[1;33m \u001b[0mA\u001b[0m\u001b[1;33m.\u001b[0m\u001b[0msort\u001b[0m\u001b[1;33m(\u001b[0m\u001b[1;33m)\u001b[0m\u001b[1;33m\u001b[0m\u001b[1;33m\u001b[0m\u001b[0m\n\u001b[0m",
      "\u001b[1;31mAttributeError\u001b[0m: 'tuple' object has no attribute 'sort'"
     ]
    }
   ],
   "source": [
    "A.sort()"
   ]
  },
  {
   "cell_type": "code",
   "execution_count": 17,
   "metadata": {},
   "outputs": [],
   "source": [
    "A=sorted(A) #It has changed tuple into list"
   ]
  },
  {
   "cell_type": "code",
   "execution_count": 18,
   "metadata": {},
   "outputs": [
    {
     "data": {
      "text/plain": [
       "[1, 12, 22, 34]"
      ]
     },
     "execution_count": 18,
     "metadata": {},
     "output_type": "execute_result"
    }
   ],
   "source": [
    "A"
   ]
  },
  {
   "cell_type": "code",
   "execution_count": 19,
   "metadata": {},
   "outputs": [
    {
     "data": {
      "text/plain": [
       "(1, 12, 22, 34, 1, 12, 22, 34)"
      ]
     },
     "execution_count": 19,
     "metadata": {},
     "output_type": "execute_result"
    }
   ],
   "source": [
    "A=(1, 12, 22, 34)\n",
    "A*2"
   ]
  },
  {
   "cell_type": "code",
   "execution_count": 20,
   "metadata": {},
   "outputs": [
    {
     "ename": "TypeError",
     "evalue": "unsupported operand type(s) for ** or pow(): 'tuple' and 'int'",
     "output_type": "error",
     "traceback": [
      "\u001b[1;31m---------------------------------------------------------------------------\u001b[0m",
      "\u001b[1;31mTypeError\u001b[0m                                 Traceback (most recent call last)",
      "\u001b[1;32m<ipython-input-20-c6cd36636038>\u001b[0m in \u001b[0;36m<module>\u001b[1;34m\u001b[0m\n\u001b[1;32m----> 1\u001b[1;33m \u001b[0mA\u001b[0m\u001b[1;33m**\u001b[0m\u001b[1;36m2\u001b[0m\u001b[1;33m\u001b[0m\u001b[1;33m\u001b[0m\u001b[0m\n\u001b[0m",
      "\u001b[1;31mTypeError\u001b[0m: unsupported operand type(s) for ** or pow(): 'tuple' and 'int'"
     ]
    }
   ],
   "source": [
    "A**2"
   ]
  },
  {
   "cell_type": "code",
   "execution_count": 22,
   "metadata": {},
   "outputs": [
    {
     "data": {
      "text/plain": [
       "34"
      ]
     },
     "execution_count": 22,
     "metadata": {},
     "output_type": "execute_result"
    }
   ],
   "source": [
    "max(A)"
   ]
  },
  {
   "cell_type": "code",
   "execution_count": 23,
   "metadata": {},
   "outputs": [
    {
     "data": {
      "text/plain": [
       "1"
      ]
     },
     "execution_count": 23,
     "metadata": {},
     "output_type": "execute_result"
    }
   ],
   "source": [
    "min(A)"
   ]
  },
  {
   "cell_type": "code",
   "execution_count": 24,
   "metadata": {},
   "outputs": [
    {
     "data": {
      "text/plain": [
       "1"
      ]
     },
     "execution_count": 24,
     "metadata": {},
     "output_type": "execute_result"
    }
   ],
   "source": [
    "A.index(12)"
   ]
  },
  {
   "cell_type": "code",
   "execution_count": 25,
   "metadata": {},
   "outputs": [
    {
     "data": {
      "text/plain": [
       "1"
      ]
     },
     "execution_count": 25,
     "metadata": {},
     "output_type": "execute_result"
    }
   ],
   "source": [
    "A.count(22)"
   ]
  },
  {
   "cell_type": "code",
   "execution_count": 26,
   "metadata": {},
   "outputs": [
    {
     "data": {
      "text/plain": [
       "69"
      ]
     },
     "execution_count": 26,
     "metadata": {},
     "output_type": "execute_result"
    }
   ],
   "source": [
    "sum(A)"
   ]
  },
  {
   "cell_type": "code",
   "execution_count": 27,
   "metadata": {},
   "outputs": [
    {
     "ename": "AttributeError",
     "evalue": "'tuple' object has no attribute 'reverse'",
     "output_type": "error",
     "traceback": [
      "\u001b[1;31m---------------------------------------------------------------------------\u001b[0m",
      "\u001b[1;31mAttributeError\u001b[0m                            Traceback (most recent call last)",
      "\u001b[1;32m<ipython-input-27-3a481cdb0e63>\u001b[0m in \u001b[0;36m<module>\u001b[1;34m\u001b[0m\n\u001b[1;32m----> 1\u001b[1;33m \u001b[0mA\u001b[0m\u001b[1;33m.\u001b[0m\u001b[0mreverse\u001b[0m\u001b[1;33m(\u001b[0m\u001b[1;33m)\u001b[0m\u001b[1;33m\u001b[0m\u001b[1;33m\u001b[0m\u001b[0m\n\u001b[0m",
      "\u001b[1;31mAttributeError\u001b[0m: 'tuple' object has no attribute 'reverse'"
     ]
    }
   ],
   "source": [
    "A.reverse()"
   ]
  },
  {
   "cell_type": "code",
   "execution_count": 50,
   "metadata": {},
   "outputs": [
    {
     "name": "stdout",
     "output_type": "stream",
     "text": [
      "What you wants to buy :phone\n",
      "phone is available in stock\n",
      "('phone', 10000)\n"
     ]
    }
   ],
   "source": [
    "#Lets take an example of amazon there are so many items on there website\n",
    "#Lets say we have these items on amazon website listed with there prices\n",
    "amazon_website=[(\"watch\",5000),(\"phone\",10000),(\"laptop\",50000),(\"shirt\",1000)]\n",
    "#Now we need a user input what he wants  to buy\n",
    "my_choice=input(\"What you wants to buy :\")\n",
    "my_choice\n",
    "#If product is avaiable on website it will say yes it is available otherwise out of stock\n",
    "for i in amazon_website:\n",
    "    if my_choice==i[0]:\n",
    "        print(f\"{i[0]} is available in stock\")\n",
    "        print(i)\n",
    "        "
   ]
  },
  {
   "cell_type": "code",
   "execution_count": 51,
   "metadata": {},
   "outputs": [],
   "source": [
    "#Sets - unordered collection of u ique elements"
   ]
  },
  {
   "cell_type": "code",
   "execution_count": 52,
   "metadata": {},
   "outputs": [
    {
     "data": {
      "text/plain": [
       "{1, 12, 23, 34, 73}"
      ]
     },
     "execution_count": 52,
     "metadata": {},
     "output_type": "execute_result"
    }
   ],
   "source": [
    "A={23,12,34,73,1} #It has ordered the list as all the elements are of same datatype\n",
    "A "
   ]
  },
  {
   "cell_type": "code",
   "execution_count": 55,
   "metadata": {},
   "outputs": [
    {
     "data": {
      "text/plain": [
       "{2, 22, 3, 56, 'Sunny'}"
      ]
     },
     "execution_count": 55,
     "metadata": {},
     "output_type": "execute_result"
    }
   ],
   "source": [
    "A={22,3,2,3,56,\"Sunny\"}\n",
    "A"
   ]
  },
  {
   "cell_type": "code",
   "execution_count": 56,
   "metadata": {},
   "outputs": [
    {
     "ename": "TypeError",
     "evalue": "unsupported operand type(s) for +: 'set' and 'set'",
     "output_type": "error",
     "traceback": [
      "\u001b[1;31m---------------------------------------------------------------------------\u001b[0m",
      "\u001b[1;31mTypeError\u001b[0m                                 Traceback (most recent call last)",
      "\u001b[1;32m<ipython-input-56-5a269dc91d27>\u001b[0m in \u001b[0;36m<module>\u001b[1;34m\u001b[0m\n\u001b[0;32m      1\u001b[0m \u001b[0mA\u001b[0m\u001b[1;33m=\u001b[0m\u001b[1;33m{\u001b[0m\u001b[1;36m3\u001b[0m\u001b[1;33m,\u001b[0m\u001b[1;36m5\u001b[0m\u001b[1;33m,\u001b[0m\u001b[1;36m6\u001b[0m\u001b[1;33m,\u001b[0m\u001b[1;36m7\u001b[0m\u001b[1;33m}\u001b[0m\u001b[1;33m\u001b[0m\u001b[1;33m\u001b[0m\u001b[0m\n\u001b[0;32m      2\u001b[0m \u001b[0mB\u001b[0m\u001b[1;33m=\u001b[0m\u001b[1;33m{\u001b[0m\u001b[1;36m12\u001b[0m\u001b[1;33m,\u001b[0m\u001b[1;36m43\u001b[0m\u001b[1;33m,\u001b[0m\u001b[1;36m56\u001b[0m\u001b[1;33m}\u001b[0m\u001b[1;33m\u001b[0m\u001b[1;33m\u001b[0m\u001b[0m\n\u001b[1;32m----> 3\u001b[1;33m \u001b[0mA\u001b[0m\u001b[1;33m+\u001b[0m\u001b[0mB\u001b[0m\u001b[1;33m\u001b[0m\u001b[1;33m\u001b[0m\u001b[0m\n\u001b[0m",
      "\u001b[1;31mTypeError\u001b[0m: unsupported operand type(s) for +: 'set' and 'set'"
     ]
    }
   ],
   "source": [
    "A={3,5,6,7}\n",
    "B={12,43,56} #Set does not suppport concatenation of two sets\n",
    "A+B"
   ]
  },
  {
   "cell_type": "code",
   "execution_count": 59,
   "metadata": {},
   "outputs": [
    {
     "data": {
      "text/plain": [
       "{3, 5, 6, 7, 34}"
      ]
     },
     "execution_count": 59,
     "metadata": {},
     "output_type": "execute_result"
    }
   ],
   "source": [
    "A={3,5,6,7}\n",
    "A.add(34)\n",
    "A"
   ]
  },
  {
   "cell_type": "code",
   "execution_count": 63,
   "metadata": {},
   "outputs": [
    {
     "data": {
      "text/plain": [
       "[1, 2, 3, 4, 5, 22, 89]"
      ]
     },
     "execution_count": 63,
     "metadata": {},
     "output_type": "execute_result"
    }
   ],
   "source": [
    "#Suppose you have list and you are asked to return the unique elemnts\n",
    "l=[1,1,2,22,22,3,3,3,3,3,4,4,5,5,5,5,89]\n",
    "#convert it into set\n",
    "set(l) #It will remove all the duplicate elemets\n",
    "#Now we want it to be in the form of list not in set then again we have to change it into list\n",
    "l1=list(set(l))\n",
    "l1"
   ]
  },
  {
   "cell_type": "code",
   "execution_count": 65,
   "metadata": {},
   "outputs": [
    {
     "data": {
      "text/plain": [
       "{3, 6, 7}"
      ]
     },
     "execution_count": 65,
     "metadata": {},
     "output_type": "execute_result"
    }
   ],
   "source": [
    "A={3,5,6,7}\n",
    "A.remove(5)\n",
    "A"
   ]
  },
  {
   "cell_type": "code",
   "execution_count": 66,
   "metadata": {},
   "outputs": [],
   "source": [
    "#sets are mutable in nature"
   ]
  },
  {
   "cell_type": "code",
   "execution_count": 68,
   "metadata": {},
   "outputs": [
    {
     "data": {
      "text/plain": [
       "[1, 2, 3, 4, 5]"
      ]
     },
     "execution_count": 68,
     "metadata": {},
     "output_type": "execute_result"
    }
   ],
   "source": [
    "list(range(1,6))"
   ]
  },
  {
   "cell_type": "code",
   "execution_count": 9,
   "metadata": {},
   "outputs": [
    {
     "name": "stdout",
     "output_type": "stream",
     "text": [
      "i=1, Index value : 2\n",
      "i=2, Index value : 3\n",
      "i=3, Index value : 4\n",
      "i=4, Index value : 5\n",
      "i=5, Index value : 6\n",
      "i= 0 Index value :2\n",
      "2 i= 1 Index value :3\n",
      "3 i= 2 Index value :4\n",
      "4 i= 3 Index value :5\n",
      "5 i= 4 Index value :6\n",
      "6 i= 5 Index value :6\n",
      "6 "
     ]
    }
   ],
   "source": [
    "arr=[1,2,3,4,5,6]\n",
    "for i in range(1,6):#i=1,2,3,4,5\n",
    "    print(f\"i={i}, Index value : {arr[i]}\")\n",
    "    arr[i-1]=arr[i]\n",
    "    \n",
    "for i in range(0,6):#i=0,1,2,3,4,5\n",
    "    print(f\"i= {i} Index value :{arr[i]}\")\n",
    "    print(arr[i], end = \" \")"
   ]
  },
  {
   "cell_type": "code",
   "execution_count": 73,
   "metadata": {},
   "outputs": [
    {
     "data": {
      "text/plain": [
       "[0, 1, 2, 3, 4, 5]"
      ]
     },
     "execution_count": 73,
     "metadata": {},
     "output_type": "execute_result"
    }
   ],
   "source": [
    "list(range(0,6))"
   ]
  },
  {
   "cell_type": "code",
   "execution_count": 8,
   "metadata": {},
   "outputs": [
    {
     "name": "stdout",
     "output_type": "stream",
     "text": [
      "i= 0 Element :2\n",
      "2\n",
      "i= 1 Element :3\n",
      "3\n",
      "i= 2 Element :4\n",
      "4\n",
      "i= 3 Element :5\n",
      "5\n",
      "i= 4 Element :6\n",
      "6\n",
      "i= 5 Element :2\n",
      "2\n"
     ]
    }
   ],
   "source": [
    "for i in range(0,6):\n",
    "    print(f\"i= {i} Element :{arr[i]}\")\n",
    "   \n",
    "    "
   ]
  },
  {
   "cell_type": "code",
   "execution_count": 7,
   "metadata": {},
   "outputs": [
    {
     "name": "stdout",
     "output_type": "stream",
     "text": [
      "Sunny#"
     ]
    }
   ],
   "source": [
    "A=[\"Sunny\",\"Soni\"]\n",
    "print(A[0],end=\"\")"
   ]
  },
  {
   "cell_type": "code",
   "execution_count": 18,
   "metadata": {},
   "outputs": [
    {
     "name": "stdout",
     "output_type": "stream",
     "text": [
      "i= 0 Element :1\n",
      "1# i= 1 Element :2\n",
      "2# i= 2 Element :3\n",
      "3# i= 3 Element :4\n",
      "4# i= 4 Element :5\n",
      "5# i= 5 Element :6\n",
      "6# "
     ]
    }
   ],
   "source": [
    "arr = [1, 2, 3, 4, 5, 6]\n",
    "for i in range(0, 6): #i=0,1,2,3,4,5\n",
    "    print(f\"i= {i} Element :{arr[i]}\")\n",
    "    print(arr[i], end = \"# \")"
   ]
  },
  {
   "cell_type": "code",
   "execution_count": 15,
   "metadata": {},
   "outputs": [
    {
     "name": "stdout",
     "output_type": "stream",
     "text": [
      "[4, 3, 2]\n"
     ]
    }
   ],
   "source": [
    "a=[1,2,3,4,5]\n",
    "print(a[3:0:-1])"
   ]
  },
  {
   "cell_type": "code",
   "execution_count": 22,
   "metadata": {},
   "outputs": [
    {
     "name": "stdout",
     "output_type": "stream",
     "text": [
      "i=0 (10, 20, 40)\n"
     ]
    },
    {
     "ename": "TypeError",
     "evalue": "'int' object does not support item assignment",
     "output_type": "error",
     "traceback": [
      "\u001b[1;31m---------------------------------------------------------------------------\u001b[0m",
      "\u001b[1;31mTypeError\u001b[0m                                 Traceback (most recent call last)",
      "\u001b[1;32m<ipython-input-22-7f30ad2385c5>\u001b[0m in \u001b[0;36m<module>\u001b[1;34m\u001b[0m\n\u001b[0;32m      2\u001b[0m \u001b[1;32mfor\u001b[0m \u001b[0mi\u001b[0m \u001b[1;32min\u001b[0m \u001b[0mrange\u001b[0m\u001b[1;33m(\u001b[0m\u001b[0mlen\u001b[0m\u001b[1;33m(\u001b[0m\u001b[0mA\u001b[0m\u001b[1;33m)\u001b[0m\u001b[1;33m)\u001b[0m\u001b[1;33m:\u001b[0m \u001b[1;31m#i=0,1,2\u001b[0m\u001b[1;33m\u001b[0m\u001b[1;33m\u001b[0m\u001b[0m\n\u001b[0;32m      3\u001b[0m     \u001b[0mprint\u001b[0m\u001b[1;33m(\u001b[0m\u001b[1;34mf\"i={i} {A[i]}\"\u001b[0m\u001b[1;33m)\u001b[0m\u001b[1;33m\u001b[0m\u001b[1;33m\u001b[0m\u001b[0m\n\u001b[1;32m----> 4\u001b[1;33m     \u001b[0mi\u001b[0m\u001b[1;33m[\u001b[0m\u001b[1;36m2\u001b[0m\u001b[1;33m]\u001b[0m\u001b[1;33m=\u001b[0m\u001b[1;36m500\u001b[0m\u001b[1;33m\u001b[0m\u001b[1;33m\u001b[0m\u001b[0m\n\u001b[0m\u001b[0;32m      5\u001b[0m \u001b[1;33m\u001b[0m\u001b[0m\n",
      "\u001b[1;31mTypeError\u001b[0m: 'int' object does not support item assignment"
     ]
    }
   ],
   "source": [
    "A=[(10, 20, 40), (40, 50, 60), (70, 80, 90)]\n",
    "for i in range(len(A)): #i=0,1,2\n",
    "    print(f\"i={i} {A[i]}\")\n",
    "    i[2]=500\n",
    "    "
   ]
  },
  {
   "cell_type": "code",
   "execution_count": 23,
   "metadata": {},
   "outputs": [
    {
     "data": {
      "text/plain": [
       "3"
      ]
     },
     "execution_count": 23,
     "metadata": {},
     "output_type": "execute_result"
    }
   ],
   "source": [
    "A=(1,2,3)\n",
    "A[-1]"
   ]
  },
  {
   "cell_type": "code",
   "execution_count": 28,
   "metadata": {},
   "outputs": [],
   "source": [
    "l=[(10, 20, 40), (40, 50, 60), (70, 80, 90)]\n",
    "ans=[t[:-1]+ (500,) for t in l]"
   ]
  },
  {
   "cell_type": "code",
   "execution_count": 26,
   "metadata": {},
   "outputs": [
    {
     "data": {
      "text/plain": [
       "[(10, 20, 500), (40, 50, 500), (70, 80, 500)]"
      ]
     },
     "execution_count": 26,
     "metadata": {},
     "output_type": "execute_result"
    }
   ],
   "source": [
    "ans"
   ]
  },
  {
   "cell_type": "code",
   "execution_count": null,
   "metadata": {},
   "outputs": [],
   "source": []
  }
 ],
 "metadata": {
  "kernelspec": {
   "display_name": "Python 3",
   "language": "python",
   "name": "python3"
  },
  "language_info": {
   "codemirror_mode": {
    "name": "ipython",
    "version": 3
   },
   "file_extension": ".py",
   "mimetype": "text/x-python",
   "name": "python",
   "nbconvert_exporter": "python",
   "pygments_lexer": "ipython3",
   "version": "3.8.5"
  }
 },
 "nbformat": 4,
 "nbformat_minor": 4
}
