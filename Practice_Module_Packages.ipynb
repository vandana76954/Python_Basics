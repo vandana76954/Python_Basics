{
 "cells": [
  {
   "cell_type": "raw",
   "metadata": {},
   "source": [
    "Instead of using print we try to use logging of each an every activity so thatin future if we need to investigate our code or system we can go through all these logs which will help us to fix our problem so that it doesnt happen again."
   ]
  },
  {
   "cell_type": "markdown",
   "metadata": {},
   "source": [
    "### Module"
   ]
  },
  {
   "cell_type": "markdown",
   "metadata": {},
   "source": [
    "Module is a collection of functions\n",
    "#here os is a module.Somebody has already created this module.In this module we have several functions.We need to import module before using all its functions.\n",
    "How can we create our own module with lots of functions inside it.\n",
    "\n",
    "import os"
   ]
  },
  {
   "cell_type": "code",
   "execution_count": 1,
   "metadata": {},
   "outputs": [],
   "source": [
    "import test1"
   ]
  },
  {
   "cell_type": "code",
   "execution_count": 2,
   "metadata": {},
   "outputs": [
    {
     "data": {
      "text/plain": [
       "5"
      ]
     },
     "execution_count": 2,
     "metadata": {},
     "output_type": "execute_result"
    }
   ],
   "source": [
    "test1.test(2,3)"
   ]
  },
  {
   "cell_type": "code",
   "execution_count": 2,
   "metadata": {},
   "outputs": [
    {
     "data": {
      "text/plain": [
       "12"
      ]
     },
     "execution_count": 2,
     "metadata": {},
     "output_type": "execute_result"
    }
   ],
   "source": [
    "test1.test2(3,4)"
   ]
  },
  {
   "cell_type": "code",
   "execution_count": 2,
   "metadata": {},
   "outputs": [
    {
     "data": {
      "text/plain": [
       "'this is my code written in module test2'"
      ]
     },
     "execution_count": 2,
     "metadata": {},
     "output_type": "execute_result"
    }
   ],
   "source": [
    "test1.test4()"
   ]
  },
  {
   "cell_type": "code",
   "execution_count": 3,
   "metadata": {},
   "outputs": [
    {
     "data": {
      "text/plain": [
       "0.8"
      ]
     },
     "execution_count": 3,
     "metadata": {},
     "output_type": "execute_result"
    }
   ],
   "source": [
    "test1.test3(4,5)"
   ]
  },
  {
   "cell_type": "code",
   "execution_count": 4,
   "metadata": {},
   "outputs": [],
   "source": [
    "#If i want to import just one method from test1 module then \n",
    "from test1 import test4"
   ]
  },
  {
   "cell_type": "code",
   "execution_count": 6,
   "metadata": {},
   "outputs": [
    {
     "data": {
      "text/plain": [
       "'this is my code written in module test2'"
      ]
     },
     "execution_count": 6,
     "metadata": {},
     "output_type": "execute_result"
    }
   ],
   "source": [
    "test4()"
   ]
  },
  {
   "cell_type": "code",
   "execution_count": 2,
   "metadata": {},
   "outputs": [],
   "source": [
    "#if i want to import all the functions available in module\n",
    "from test1 import *"
   ]
  },
  {
   "cell_type": "code",
   "execution_count": 9,
   "metadata": {},
   "outputs": [
    {
     "data": {
      "text/plain": [
       "7"
      ]
     },
     "execution_count": 9,
     "metadata": {},
     "output_type": "execute_result"
    }
   ],
   "source": [
    "test(3,4)"
   ]
  },
  {
   "cell_type": "code",
   "execution_count": 10,
   "metadata": {},
   "outputs": [
    {
     "data": {
      "text/plain": [
       "21"
      ]
     },
     "execution_count": 10,
     "metadata": {},
     "output_type": "execute_result"
    }
   ],
   "source": [
    "test2(3,7)"
   ]
  },
  {
   "cell_type": "code",
   "execution_count": 12,
   "metadata": {},
   "outputs": [
    {
     "data": {
      "text/plain": [
       "0.5"
      ]
     },
     "execution_count": 12,
     "metadata": {},
     "output_type": "execute_result"
    }
   ],
   "source": [
    "test3(2,4)"
   ]
  },
  {
   "cell_type": "code",
   "execution_count": 13,
   "metadata": {},
   "outputs": [
    {
     "data": {
      "text/plain": [
       "'this is my code written in module test2'"
      ]
     },
     "execution_count": 13,
     "metadata": {},
     "output_type": "execute_result"
    }
   ],
   "source": [
    "test4()"
   ]
  },
  {
   "cell_type": "code",
   "execution_count": 3,
   "metadata": {},
   "outputs": [
    {
     "data": {
      "text/plain": [
       "<_io.TextIOWrapper name='my_module.py' mode='w' encoding='cp1252'>"
      ]
     },
     "execution_count": 3,
     "metadata": {},
     "output_type": "execute_result"
    }
   ],
   "source": [
    "#Lets open a new file \n",
    "open(\"my_module.py\",\"w\")"
   ]
  },
  {
   "cell_type": "code",
   "execution_count": 5,
   "metadata": {},
   "outputs": [
    {
     "name": "stdout",
     "output_type": "stream",
     "text": [
      " Volume in drive C is OS\n",
      " Volume Serial Number is 3CD7-F7A5\n",
      "\n",
      " Directory of C:\\Users\\aru78\\INEURON DATA\n",
      "\n",
      "09-11-2022  12:51    <DIR>          .\n",
      "09-11-2022  11:57    <DIR>          ..\n",
      "09-11-2022  11:17    <DIR>          .ipynb_checkpoints\n",
      "09-11-2022  12:36    <DIR>          __pycache__\n",
      "26-09-2022  20:19            10,250 Assignment-1.ipynb\n",
      "21-10-2022  12:24             5,193 Assignment-2.ipynb\n",
      "21-10-2022  12:12             5,194 Assignment-3-list-tuple.ipynb\n",
      "17-10-2022  12:35             9,406 Basics.ipynb\n",
      "02-11-2022  18:16            31,555 function_methods.ipynb\n",
      "09-11-2022  12:50                 0 my_module.py\n",
      "19-10-2022  13:18            63,494 Practice,dbi_list,tuple.ipynb\n",
      "10-10-2022  18:25            18,837 Practice_class_04.ipynb\n",
      "11-10-2022  17:53            16,995 Practice_class_05.ipynb\n",
      "08-11-2022  11:09            36,433 Practice_Exception_Handling_Part1.ipynb\n",
      "28-09-2022  16:23         2,587,532 Practice_for_loop_while_loop.ipynb\n",
      "01-11-2022  18:04            26,512 Practice_Function_Part_1.ipynb\n",
      "01-11-2022  16:53            35,776 Practice_function_part-2.ipynb\n",
      "27-09-2022  17:33            12,986 Practice_if_else_for_loop.ipynb\n",
      "05-11-2022  18:06         7,261,618 Practice_Iterator_Generator & File_System.ipynb\n",
      "08-11-2022  13:43             9,908 Practice_Logging.ipynb\n",
      "09-11-2022  12:51             5,091 Practice_Module_Packages.ipynb\n",
      "02-11-2022  18:11             5,388 Practice_Python_Program_Loops.ipynb\n",
      "17-10-2022  11:18             8,791 Practice_Session-3.ipynb\n",
      "08-10-2022  10:53           148,146 Practice_statistics_day2.ipynb\n",
      "22-09-2022  13:38            52,515 Practice_String,List,indexing .ipynb\n",
      "23-09-2022  13:51            41,488 Practice_Tuple,Set_Dict.ipynb\n",
      "08-11-2022  12:28               377 test.log\n",
      "07-11-2022  16:01                22 test.txt\n",
      "09-11-2022  12:36               434 test1.py\n",
      "08-11-2022  13:05             1,382 test2.log\n",
      "05-11-2022  13:59                 0 test2.txt\n",
      "08-11-2022  13:41             1,705 test3.log\n",
      "07-11-2022  17:01                 0 test43.txt\n",
      "              29 File(s)     10,397,028 bytes\n",
      "               4 Dir(s)  86,390,882,304 bytes free\n"
     ]
    }
   ],
   "source": [
    "ls"
   ]
  },
  {
   "cell_type": "code",
   "execution_count": 1,
   "metadata": {},
   "outputs": [],
   "source": [
    "import my_module"
   ]
  },
  {
   "cell_type": "code",
   "execution_count": 2,
   "metadata": {},
   "outputs": [
    {
     "data": {
      "text/plain": [
       "['datascience', 'blockchain', 'drone', 'robotics', 'cloud']"
      ]
     },
     "execution_count": 2,
     "metadata": {},
     "output_type": "execute_result"
    }
   ],
   "source": [
    "my_module.get_course()"
   ]
  },
  {
   "cell_type": "code",
   "execution_count": 3,
   "metadata": {},
   "outputs": [
    {
     "data": {
      "text/plain": [
       "'greetings from ineuron'"
      ]
     },
     "execution_count": 3,
     "metadata": {},
     "output_type": "execute_result"
    }
   ],
   "source": [
    "my_module.greetings()"
   ]
  },
  {
   "cell_type": "markdown",
   "metadata": {},
   "source": [
    "### Package"
   ]
  },
  {
   "cell_type": "raw",
   "metadata": {},
   "source": [
    "Package is a collection of modules \n",
    "Module means a file with number of functions"
   ]
  },
  {
   "cell_type": "markdown",
   "metadata": {},
   "source": [
    "### OOPs "
   ]
  },
  {
   "cell_type": "raw",
   "metadata": {},
   "source": [
    "OOPs concept will give structureness to our code.Initaiallt we were doing python scripting where our code was scattered.\n",
    "OOPs concrept will help us to solve the same problems done in python scripting in more structured modules format.\n",
    "It will also help in resusability of code\n",
    "\n",
    "OOPS- when  we try to do drive everything as an object and we are going to bind insie the classes and then if we perform some sort of operations or task that comes under object oriented programming.\n",
    "\n",
    "In OOPs whatever task we are going  to perform by using classes and objects."
   ]
  },
  {
   "cell_type": "code",
   "execution_count": 4,
   "metadata": {},
   "outputs": [],
   "source": [
    "#function starting with double underscore and ens with double underscore is an inbuilt function already written by someone\n",
    "class car:\n",
    "    def __init__(self,brand_name,fuel_type,body_type):\n",
    "        self.brand_name=brand_name\n",
    "        self.fuel_type=fuel_type\n",
    "        self.body_type=body_type\n",
    "    \n",
    "    def desc_car(self):\n",
    "        print(self.brand_name,self.fuel_type,self.body_type)"
   ]
  },
  {
   "cell_type": "raw",
   "metadata": {},
   "source": [
    "#here car is a class and innova is object\n",
    "\n",
    "#While running this is giving error,but why asking for arguments inside car as car is a class it is not a function\n",
    "\n",
    "#init here is called as constructor.\n",
    "\n",
    "#Constructor is a kind of entity or a kind of method or kind of function which helps my class to take an input or which is responsible for providing data to the particular class that is something called as constructor at the time of creation of object.\n",
    "\n",
    "#As innova is an object of class car it can utilise the code defined in init()\n"
   ]
  },
  {
   "cell_type": "code",
   "execution_count": 5,
   "metadata": {},
   "outputs": [
    {
     "ename": "TypeError",
     "evalue": "__init__() missing 3 required positional arguments: 'brand_name', 'fuel_type', and 'body_type'",
     "output_type": "error",
     "traceback": [
      "\u001b[1;31m---------------------------------------------------------------------------\u001b[0m",
      "\u001b[1;31mTypeError\u001b[0m                                 Traceback (most recent call last)",
      "\u001b[1;32m<ipython-input-5-6084c12d3620>\u001b[0m in \u001b[0;36m<module>\u001b[1;34m\u001b[0m\n\u001b[1;32m----> 1\u001b[1;33m \u001b[0minnova\u001b[0m\u001b[1;33m=\u001b[0m\u001b[0mcar\u001b[0m\u001b[1;33m(\u001b[0m\u001b[1;33m)\u001b[0m\u001b[1;33m\u001b[0m\u001b[1;33m\u001b[0m\u001b[0m\n\u001b[0m",
      "\u001b[1;31mTypeError\u001b[0m: __init__() missing 3 required positional arguments: 'brand_name', 'fuel_type', and 'body_type'"
     ]
    }
   ],
   "source": [
    "innova=car()"
   ]
  },
  {
   "cell_type": "code",
   "execution_count": 6,
   "metadata": {},
   "outputs": [],
   "source": [
    "innova=car(\"toyota\",\"petrol\",\"suv\")"
   ]
  },
  {
   "cell_type": "raw",
   "metadata": {},
   "source": [
    "#now our data has reached within class car and in init method with these arguments\n",
    "#whenever we have to create a function within class we have pass first argument which can be called as pointer.here self is pointing to the class only those things which is pointing via pointers. \n"
   ]
  },
  {
   "cell_type": "code",
   "execution_count": 7,
   "metadata": {},
   "outputs": [
    {
     "name": "stdout",
     "output_type": "stream",
     "text": [
      "toyota petrol suv\n"
     ]
    }
   ],
   "source": [
    "innova.desc_car()"
   ]
  },
  {
   "cell_type": "code",
   "execution_count": 9,
   "metadata": {},
   "outputs": [
    {
     "data": {
      "text/plain": [
       "'toyota'"
      ]
     },
     "execution_count": 9,
     "metadata": {},
     "output_type": "execute_result"
    }
   ],
   "source": [
    "#if we want brandname of car we will use object innova\n",
    "innova.brand_name"
   ]
  },
  {
   "cell_type": "code",
   "execution_count": 10,
   "metadata": {},
   "outputs": [],
   "source": [
    "#lets create one more object of car class\n",
    "nexon=car(\"tata\",\"petrol\",\"mini_suv\")"
   ]
  },
  {
   "cell_type": "code",
   "execution_count": 11,
   "metadata": {},
   "outputs": [
    {
     "name": "stdout",
     "output_type": "stream",
     "text": [
      "tata petrol mini_suv\n"
     ]
    }
   ],
   "source": [
    "nexon.desc_car()"
   ]
  },
  {
   "cell_type": "code",
   "execution_count": 12,
   "metadata": {},
   "outputs": [
    {
     "data": {
      "text/plain": [
       "'tata'"
      ]
     },
     "execution_count": 12,
     "metadata": {},
     "output_type": "execute_result"
    }
   ],
   "source": [
    "nexon.brand_name"
   ]
  },
  {
   "cell_type": "code",
   "execution_count": null,
   "metadata": {},
   "outputs": [],
   "source": []
  }
 ],
 "metadata": {
  "kernelspec": {
   "display_name": "Python 3",
   "language": "python",
   "name": "python3"
  },
  "language_info": {
   "codemirror_mode": {
    "name": "ipython",
    "version": 3
   },
   "file_extension": ".py",
   "mimetype": "text/x-python",
   "name": "python",
   "nbconvert_exporter": "python",
   "pygments_lexer": "ipython3",
   "version": "3.8.5"
  }
 },
 "nbformat": 4,
 "nbformat_minor": 4
}
