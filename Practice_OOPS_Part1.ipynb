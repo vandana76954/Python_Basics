{
 "cells": [
  {
   "cell_type": "code",
   "execution_count": 6,
   "metadata": {},
   "outputs": [],
   "source": [
    "class car:\n",
    "    def __init__(self,body_type,engine,fuel_type):\n",
    "        self.a=body_type\n",
    "        self.b=engine\n",
    "        self.c=fuel_type\n",
    "    \n",
    "    def desc_car(self):\n",
    "        print(\"this is my first method in car class \")\n",
    "    "
   ]
  },
  {
   "cell_type": "code",
   "execution_count": null,
   "metadata": {},
   "outputs": [],
   "source": [
    "#here car is a class and innova is object\n",
    "\n",
    "#While running this is giving error,but why asking for arguments inside car as car is a class it is not a function\n",
    "\n",
    "#init here is called as constructor.\n",
    "\n",
    "#Constructor is a kind of entity or a kind of method or kind of function which helps my class to take an input or which is responsible for providing data to the particular class that is something called as constructor at the time of creation of object.\n",
    "\n",
    "#As innova is an object of class car it can utilise the code defined in init()\n",
    "\n",
    "#class car will be able to understand the values given in left side with the help of self pointer.\n"
   ]
  },
  {
   "cell_type": "code",
   "execution_count": 7,
   "metadata": {},
   "outputs": [],
   "source": [
    "#self pointer is helping my class to bind variables(objects) and the values that we have passed at the time of creation of class\n",
    "fortuner=car(\"suv\",\"bs4\",\"petrol\")\n",
    "nexon=car(\"suv\",\"abc\",\"petrol\")"
   ]
  },
  {
   "cell_type": "raw",
   "metadata": {},
   "source": [
    "#now our data has reached within class car and in init method with these arguments\n",
    "#whenever we have to create a function within class we have pass first argument which can be called as pointer.here self is pointing to the class only those things which is pointing via pointers. "
   ]
  },
  {
   "cell_type": "code",
   "execution_count": 8,
   "metadata": {},
   "outputs": [
    {
     "data": {
      "text/plain": [
       "'suv'"
      ]
     },
     "execution_count": 8,
     "metadata": {},
     "output_type": "execute_result"
    }
   ],
   "source": [
    "fortuner.a"
   ]
  },
  {
   "cell_type": "code",
   "execution_count": 9,
   "metadata": {},
   "outputs": [
    {
     "data": {
      "text/plain": [
       "'bs4'"
      ]
     },
     "execution_count": 9,
     "metadata": {},
     "output_type": "execute_result"
    }
   ],
   "source": [
    "fortuner.b"
   ]
  },
  {
   "cell_type": "code",
   "execution_count": 10,
   "metadata": {},
   "outputs": [
    {
     "data": {
      "text/plain": [
       "'petrol'"
      ]
     },
     "execution_count": 10,
     "metadata": {},
     "output_type": "execute_result"
    }
   ],
   "source": [
    "nexon.c"
   ]
  },
  {
   "cell_type": "code",
   "execution_count": 11,
   "metadata": {},
   "outputs": [
    {
     "name": "stdout",
     "output_type": "stream",
     "text": [
      "this is my first method in car class \n"
     ]
    }
   ],
   "source": [
    "fortuner.desc_car()"
   ]
  },
  {
   "cell_type": "raw",
   "metadata": {},
   "source": [
    "#init method was just there to pass the data to the class if it is required at the time of creation of object otherwise it is not required."
   ]
  },
  {
   "cell_type": "code",
   "execution_count": 1,
   "metadata": {},
   "outputs": [],
   "source": [
    "#lets mot create init method,we dont want to pass any data to my class\n",
    "\n",
    "class car:\n",
    "    \n",
    "    def desc_car(self):\n",
    "        print(\"this is my first method in car class \")\n",
    "    "
   ]
  },
  {
   "cell_type": "code",
   "execution_count": 2,
   "metadata": {},
   "outputs": [],
   "source": [
    "x=car() # x here is object"
   ]
  },
  {
   "cell_type": "code",
   "execution_count": 4,
   "metadata": {},
   "outputs": [
    {
     "name": "stdout",
     "output_type": "stream",
     "text": [
      "this is my first method in car class \n"
     ]
    }
   ],
   "source": [
    "x.desc_car()"
   ]
  },
  {
   "cell_type": "raw",
   "metadata": {},
   "source": [
    "if we donot want to pass data to class at the time of creation of object x.we do not require init method.\n",
    "init method is required only if we need to pass data to class at the time of creation of object of class"
   ]
  },
  {
   "cell_type": "raw",
   "metadata": {},
   "source": [
    "#try to write different different method of list\n",
    "#to extract data,to reverse a list,to perform of indexing operations"
   ]
  },
  {
   "cell_type": "code",
   "execution_count": 23,
   "metadata": {},
   "outputs": [],
   "source": [
    "#Lets say we have a task to parse through each element of list which can be anything using class .\n",
    "class list_parser:\n",
    "    def parser(self,a):\n",
    "        if type(a)==list:\n",
    "            for i in a:\n",
    "                print(i)\n",
    "    \n",
    "    def reverse_list(self,z):\n",
    "        if type(z)==list:\n",
    "            return z[::-1]\n"
   ]
  },
  {
   "cell_type": "code",
   "execution_count": 24,
   "metadata": {},
   "outputs": [],
   "source": [
    "c = list_parser()"
   ]
  },
  {
   "cell_type": "code",
   "execution_count": 16,
   "metadata": {},
   "outputs": [
    {
     "name": "stdout",
     "output_type": "stream",
     "text": [
      "1\n",
      "2\n",
      "3\n",
      "4\n",
      "5\n"
     ]
    }
   ],
   "source": [
    "c.parser([1,2,3,4,5])"
   ]
  },
  {
   "cell_type": "code",
   "execution_count": 25,
   "metadata": {},
   "outputs": [
    {
     "data": {
      "text/plain": [
       "[6, 9, 2, 4, 3, 1]"
      ]
     },
     "execution_count": 25,
     "metadata": {},
     "output_type": "execute_result"
    }
   ],
   "source": [
    "c.reverse_list([1,3,4,2,9,6])"
   ]
  },
  {
   "cell_type": "raw",
   "metadata": {},
   "source": [
    "#here we have to pass the data again and again so inorder to avoid that we will use init constructor which will directly pass data to class at the time of creation of object\n"
   ]
  },
  {
   "cell_type": "code",
   "execution_count": 1,
   "metadata": {},
   "outputs": [],
   "source": [
    "class list_parser:\n",
    "    def __init__(self,l):\n",
    "        self.l=l\n",
    "        \n",
    "    def parser(self):\n",
    "        if type(self.l)==list:\n",
    "            for i in self.l:\n",
    "                print(i)\n",
    "    \n",
    "    def reverse_list(self):\n",
    "        if type(self.l)==list:\n",
    "            return self.l[::-1]\n"
   ]
  },
  {
   "cell_type": "code",
   "execution_count": 2,
   "metadata": {},
   "outputs": [],
   "source": [
    "c = list_parser([[1,3,4,2,9,6]]) #at the time of object creation we will pass the daat"
   ]
  },
  {
   "cell_type": "code",
   "execution_count": 3,
   "metadata": {},
   "outputs": [
    {
     "name": "stdout",
     "output_type": "stream",
     "text": [
      "[1, 3, 4, 2, 9, 6]\n"
     ]
    }
   ],
   "source": [
    "#if we want all  our functions to pass the same data given in init method w will use self\n",
    "c.parser()"
   ]
  },
  {
   "cell_type": "code",
   "execution_count": 6,
   "metadata": {},
   "outputs": [
    {
     "data": {
      "text/plain": [
       "[[1, 3, 4, 2, 9, 6]]"
      ]
     },
     "execution_count": 6,
     "metadata": {},
     "output_type": "execute_result"
    }
   ],
   "source": [
    "c.reverse_list()"
   ]
  },
  {
   "cell_type": "code",
   "execution_count": 6,
   "metadata": {},
   "outputs": [],
   "source": [
    "d={\"name\":\"vandana\",\"phone\":78688868,\"email\":\"vhvhvh@gmal.com\"}"
   ]
  },
  {
   "cell_type": "code",
   "execution_count": 18,
   "metadata": {},
   "outputs": [],
   "source": [
    "def d_keys(c):\n",
    "    if type(c)==dict:\n",
    "        return c.keys()\n",
    "    else:\n",
    "        return \"you have not passed dictionary\""
   ]
  },
  {
   "cell_type": "code",
   "execution_count": 19,
   "metadata": {},
   "outputs": [
    {
     "data": {
      "text/plain": [
       "'you have not passed dictionary'"
      ]
     },
     "execution_count": 19,
     "metadata": {},
     "output_type": "execute_result"
    }
   ],
   "source": [
    "d_keys(\"jhgfjgj\")"
   ]
  },
  {
   "cell_type": "code",
   "execution_count": 20,
   "metadata": {},
   "outputs": [
    {
     "data": {
      "text/plain": [
       "dict_keys(['a', 'b'])"
      ]
     },
     "execution_count": 20,
     "metadata": {},
     "output_type": "execute_result"
    }
   ],
   "source": [
    "d_keys({\"a\":23,\"b\":[1,2,3,4]})"
   ]
  },
  {
   "cell_type": "raw",
   "metadata": {},
   "source": [
    "#creating class for dictionary parsing\n",
    "1.write a function to get all the keys from dictionary\n",
    "2.write a function to get all the values from dictionary\n",
    "3.write a function to throw an exception in case input is not a dictionary\n",
    "4.write a function to take user_input and then parse a key and a value out of dictionary\n",
    "5.write a function to insert new key value pair into dictionary"
   ]
  },
  {
   "cell_type": "code",
   "execution_count": 37,
   "metadata": {},
   "outputs": [],
   "source": [
    "\n",
    "class dict_parser:\n",
    "    def __init__(self,d):\n",
    "        self.d=d\n",
    "  #here we are using custom function not_dict() which means it will return 1(True) if it is a dictionary otherwise it will raise an exception    \n",
    "    def getkeys(self):\n",
    "        if self.not_dict(): \n",
    "            return list(self.d.keys())\n",
    "        \n",
    "    def getvalues(self):\n",
    "        if self.not_dict():\n",
    "            return list(self.d.values())\n",
    "    \n",
    "    def not_dict(self):\n",
    "        if type(self.d)!=dict:\n",
    "            raise Exception (self.d,\"input not dictionary\")\n",
    "        return 1\n",
    "    \n",
    "    def user_input(self):\n",
    "        self.d=eval(input())\n",
    "        print(self.d,type(self.d))\n",
    "        print(self.getkeys())\n",
    "        print(self.getvalues())\n",
    "                \n",
    "    def insertion(self,key,value):\n",
    "        self.d[key]=value\n",
    "        print(f\"Key Added :{key}\")\n",
    "        print(f\"Value Added :{value}\")\n",
    "        \n",
    "        \n",
    "        \n",
    "                \n",
    "    \n",
    "      "
   ]
  },
  {
   "cell_type": "code",
   "execution_count": 38,
   "metadata": {},
   "outputs": [],
   "source": [
    "x=dict_parser({\"a\":\"vandana\",\"b\":\"sudh\",\"c\":1234,\"d\":[1,2,3,4]})"
   ]
  },
  {
   "cell_type": "code",
   "execution_count": 22,
   "metadata": {},
   "outputs": [
    {
     "data": {
      "text/plain": [
       "dict_keys(['a', 'b', 'c', 'd'])"
      ]
     },
     "execution_count": 22,
     "metadata": {},
     "output_type": "execute_result"
    }
   ],
   "source": [
    "x.getkeys()"
   ]
  },
  {
   "cell_type": "code",
   "execution_count": 23,
   "metadata": {},
   "outputs": [
    {
     "data": {
      "text/plain": [
       "dict_values(['vandana', 'sudh', 1234, [1, 2, 3, 4]])"
      ]
     },
     "execution_count": 23,
     "metadata": {},
     "output_type": "execute_result"
    }
   ],
   "source": [
    "x.getvalues()"
   ]
  },
  {
   "cell_type": "code",
   "execution_count": 36,
   "metadata": {},
   "outputs": [
    {
     "name": "stdout",
     "output_type": "stream",
     "text": [
      "('a', 'vandana')\n",
      "('b', 'sudh')\n",
      "('c', 1234)\n",
      "('d', [1, 2, 3, 4])\n"
     ]
    }
   ],
   "source": [
    "x.not_dict()"
   ]
  },
  {
   "cell_type": "code",
   "execution_count": 39,
   "metadata": {},
   "outputs": [
    {
     "data": {
      "text/plain": [
       "{'a': 'vandana', 'b': 'sudh', 'c': 1234, 'd': [1, 2, 3, 4], 'key5': 'arun'}"
      ]
     },
     "execution_count": 39,
     "metadata": {},
     "output_type": "execute_result"
    }
   ],
   "source": [
    "x.user_input()"
   ]
  },
  {
   "cell_type": "code",
   "execution_count": null,
   "metadata": {},
   "outputs": [],
   "source": [
    "x.insertion(\"sudhanshu\",\"ineuron\")"
   ]
  },
  {
   "cell_type": "code",
   "execution_count": 32,
   "metadata": {},
   "outputs": [],
   "source": [
    "#another solution to the same problem\n",
    "class dict_parser:\n",
    "    def __init__(self,d):\n",
    "        if type(d)!=dict:\n",
    "            raise Exception(\"input not dictionary\")\n",
    "        self.d=d\n",
    "        \n",
    "    def getkeys(self):\n",
    "        return self.d.keys()\n",
    "        \n",
    "    def getvalues(self):\n",
    "        return self.d.values()\n",
    "        \n",
    "    def user_input(self):\n",
    "        a=input(\"Enter Key :\")\n",
    "        b=input (\"Enter Value\")\n",
    "        self.d[a]=b\n",
    "        print(f\"Dictionary Items are :{self.d.items()}\")\n",
    "        \n",
    "    def insert(self,key,value):\n",
    "        self.d[key]=value\n",
    "        print(f\"Final Dictionary Items are :{self.d.items()}\")\n",
    "        "
   ]
  },
  {
   "cell_type": "code",
   "execution_count": 33,
   "metadata": {},
   "outputs": [
    {
     "ename": "Exception",
     "evalue": "input not dictionary",
     "output_type": "error",
     "traceback": [
      "\u001b[1;31m---------------------------------------------------------------------------\u001b[0m",
      "\u001b[1;31mException\u001b[0m                                 Traceback (most recent call last)",
      "\u001b[1;32m<ipython-input-33-c2cf43cb6205>\u001b[0m in \u001b[0;36m<module>\u001b[1;34m\u001b[0m\n\u001b[1;32m----> 1\u001b[1;33m \u001b[0mz\u001b[0m\u001b[1;33m=\u001b[0m\u001b[0mdict_parser\u001b[0m\u001b[1;33m(\u001b[0m\u001b[1;34m\"iugufguy\"\u001b[0m\u001b[1;33m)\u001b[0m \u001b[1;31m#while creating object of class if i am not passing dictionary it will raise exception\u001b[0m\u001b[1;33m\u001b[0m\u001b[1;33m\u001b[0m\u001b[0m\n\u001b[0m",
      "\u001b[1;32m<ipython-input-32-37de4a33546b>\u001b[0m in \u001b[0;36m__init__\u001b[1;34m(self, d)\u001b[0m\n\u001b[0;32m      3\u001b[0m     \u001b[1;32mdef\u001b[0m \u001b[0m__init__\u001b[0m\u001b[1;33m(\u001b[0m\u001b[0mself\u001b[0m\u001b[1;33m,\u001b[0m\u001b[0md\u001b[0m\u001b[1;33m)\u001b[0m\u001b[1;33m:\u001b[0m\u001b[1;33m\u001b[0m\u001b[1;33m\u001b[0m\u001b[0m\n\u001b[0;32m      4\u001b[0m         \u001b[1;32mif\u001b[0m \u001b[0mtype\u001b[0m\u001b[1;33m(\u001b[0m\u001b[0md\u001b[0m\u001b[1;33m)\u001b[0m\u001b[1;33m!=\u001b[0m\u001b[0mdict\u001b[0m\u001b[1;33m:\u001b[0m\u001b[1;33m\u001b[0m\u001b[1;33m\u001b[0m\u001b[0m\n\u001b[1;32m----> 5\u001b[1;33m             \u001b[1;32mraise\u001b[0m \u001b[0mException\u001b[0m\u001b[1;33m(\u001b[0m\u001b[1;34m\"input not dictionary\"\u001b[0m\u001b[1;33m)\u001b[0m\u001b[1;33m\u001b[0m\u001b[1;33m\u001b[0m\u001b[0m\n\u001b[0m\u001b[0;32m      6\u001b[0m         \u001b[0mself\u001b[0m\u001b[1;33m.\u001b[0m\u001b[0md\u001b[0m\u001b[1;33m=\u001b[0m\u001b[0md\u001b[0m\u001b[1;33m\u001b[0m\u001b[1;33m\u001b[0m\u001b[0m\n\u001b[0;32m      7\u001b[0m \u001b[1;33m\u001b[0m\u001b[0m\n",
      "\u001b[1;31mException\u001b[0m: input not dictionary"
     ]
    }
   ],
   "source": [
    "z=dict_parser(\"iugufguy\") #while creating object of class if i am not passing dictionary it will raise exception "
   ]
  },
  {
   "cell_type": "code",
   "execution_count": 34,
   "metadata": {},
   "outputs": [],
   "source": [
    "z=dict_parser({\"a\":\"vandana\",\"b\":\"sudh\",\"c\":1234,\"d\":[1,2,3,4]})"
   ]
  },
  {
   "cell_type": "code",
   "execution_count": 35,
   "metadata": {},
   "outputs": [
    {
     "data": {
      "text/plain": [
       "dict_keys(['a', 'b', 'c', 'd'])"
      ]
     },
     "execution_count": 35,
     "metadata": {},
     "output_type": "execute_result"
    }
   ],
   "source": [
    "z.getkeys()"
   ]
  },
  {
   "cell_type": "code",
   "execution_count": 36,
   "metadata": {},
   "outputs": [
    {
     "data": {
      "text/plain": [
       "dict_values(['vandana', 'sudh', 1234, [1, 2, 3, 4]])"
      ]
     },
     "execution_count": 36,
     "metadata": {},
     "output_type": "execute_result"
    }
   ],
   "source": [
    "z.getvalues()"
   ]
  },
  {
   "cell_type": "code",
   "execution_count": 37,
   "metadata": {},
   "outputs": [
    {
     "name": "stdout",
     "output_type": "stream",
     "text": [
      "Enter Key :kfhhugh\n",
      "Enter Value879\n",
      "Dictionary Items are :dict_items([('a', 'vandana'), ('b', 'sudh'), ('c', 1234), ('d', [1, 2, 3, 4]), ('kfhhugh', '879')])\n"
     ]
    }
   ],
   "source": [
    "z.user_input()"
   ]
  },
  {
   "cell_type": "code",
   "execution_count": 38,
   "metadata": {},
   "outputs": [
    {
     "name": "stdout",
     "output_type": "stream",
     "text": [
      "Final Dictionary Items are :dict_items([('a', 'vandana'), ('b', 'sudh'), ('c', 1234), ('d', [1, 2, 3, 4]), ('kfhhugh', '879'), ('sudhanshu', 76864)])\n"
     ]
    }
   ],
   "source": [
    "z.insert(\"sudhanshu\",76864)"
   ]
  },
  {
   "cell_type": "raw",
   "metadata": {},
   "source": [
    "Questions:\n",
    "1.create your own package for all the list functions\n",
    "2.create your own package for all the tuple functions\n",
    "3.create your own package for all the dictionary functions\n",
    "4.create your own package for all the set functions"
   ]
  }
 ],
 "metadata": {
  "kernelspec": {
   "display_name": "Python 3",
   "language": "python",
   "name": "python3"
  },
  "language_info": {
   "codemirror_mode": {
    "name": "ipython",
    "version": 3
   },
   "file_extension": ".py",
   "mimetype": "text/x-python",
   "name": "python",
   "nbconvert_exporter": "python",
   "pygments_lexer": "ipython3",
   "version": "3.8.5"
  }
 },
 "nbformat": 4,
 "nbformat_minor": 4
}
