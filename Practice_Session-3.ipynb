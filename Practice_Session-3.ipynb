{
 "cells": [
  {
   "cell_type": "markdown",
   "metadata": {},
   "source": [
    "# Practice - Session- 3"
   ]
  },
  {
   "cell_type": "code",
   "execution_count": 4,
   "metadata": {},
   "outputs": [
    {
     "name": "stdout",
     "output_type": "stream",
     "text": [
      "Hey Friend, is class started: [0-False,1-True]1\n",
      "Since class started...\n",
      "Lets concentrate\n"
     ]
    }
   ],
   "source": [
    "class_started=bool(input(\"Hey Friend, is class started: [0-False,1-True]\"))\n",
    "if class_started:\n",
    "    print(\"Since class started...\")\n",
    "    print(\"Lets concentrate\")\n",
    "else:\n",
    "    print(\"Since class is not started...\")\n",
    "    print(\"let's revise\")    "
   ]
  },
  {
   "cell_type": "code",
   "execution_count": 4,
   "metadata": {},
   "outputs": [
    {
     "name": "stdout",
     "output_type": "stream",
     "text": [
      "1\n"
     ]
    }
   ],
   "source": [
    "print(class_started)"
   ]
  },
  {
   "cell_type": "code",
   "execution_count": 3,
   "metadata": {},
   "outputs": [
    {
     "name": "stdout",
     "output_type": "stream",
     "text": [
      "Hey Friend, is class started: [0-False,1-True]0\n",
      "False\n",
      "Since class is not started...\n",
      "let's revise\n"
     ]
    }
   ],
   "source": [
    "class_started= bool(int(input(\"Hey Friend, is class started: [0-False,1-True]\")))\n",
    "print(class_started)\n",
    "if class_started==True:\n",
    "    print(\"Since class started...\")\n",
    "    print(\"Lets concentrate\")\n",
    "else:\n",
    "    print(\"Since class is not started...\")\n",
    "    print(\"let's revise\")    "
   ]
  },
  {
   "cell_type": "code",
   "execution_count": 7,
   "metadata": {},
   "outputs": [
    {
     "name": "stdout",
     "output_type": "stream",
     "text": [
      "Hey Friend, is class started: [0-False,1-True]1\n",
      "True\n",
      "Since class started...\n",
      "Lets concentrate\n"
     ]
    }
   ],
   "source": [
    "class_started=bool(int(input(\"Hey Friend, is class started: [0-False,1-True]\")))\n",
    "print(class_started)\n",
    "if class_started:\n",
    "    print(\"Since class started...\")\n",
    "    print(\"Lets concentrate\")\n",
    "else:\n",
    "    print(\"Since class is not started...\")\n",
    "    print(\"let's revise\")    "
   ]
  },
  {
   "cell_type": "code",
   "execution_count": 17,
   "metadata": {},
   "outputs": [
    {
     "name": "stdout",
     "output_type": "stream",
     "text": [
      "Enter a Number :6\n",
      "Number is divisible by 3\n"
     ]
    }
   ],
   "source": [
    "a=int(input(\"Enter a Number :\"))\n",
    "if a%3==0:\n",
    "    print(\"Number is divisible by 3\")\n",
    "elif a%5==0:\n",
    "    print(\"Number is divisible by 5\")\n",
    "else:\n",
    "    print(\"Number is not divisible by 3  or 5\")\n"
   ]
  },
  {
   "cell_type": "code",
   "execution_count": 2,
   "metadata": {},
   "outputs": [
    {
     "name": "stdout",
     "output_type": "stream",
     "text": [
      "Enter Length: 4\n",
      "Enter width: 5\n",
      "It's a Rectangle\n",
      "Area of Rectangle : 20\n"
     ]
    }
   ],
   "source": [
    "length=int(input(\"Enter Length: \"))\n",
    "width=int(input(\"Enter width: \"))\n",
    "if length==width:\n",
    "    print(\"It's a Square\")\n",
    "else:\n",
    "    print(\"It's a Rectangle\")\n",
    "    area=length*width\n",
    "    print(f'Area of Rectangle : {area}')\n"
   ]
  },
  {
   "cell_type": "code",
   "execution_count": 21,
   "metadata": {},
   "outputs": [
    {
     "name": "stdout",
     "output_type": "stream",
     "text": [
      "Enter Radius_1 :5\n",
      "Enter Radius_2 :4\n",
      "Area of first Circle is Greater than Second Circle\n",
      "Area of first Circle is :78.5\n"
     ]
    }
   ],
   "source": [
    "PI=3.14\n",
    "radius_1=float(input(\"Enter Radius_1 :\"))\n",
    "radius_2=float(input(\"Enter Radius_2 :\"))\n",
    "if radius_1>radius_2:\n",
    "    print(\"Area of first Circle is Greater than Second Circle\")\n",
    "    area_1=PI*(radius_1)*(radius_1)\n",
    "    print(f\"Area of first Circle is :{area_1}\")\n",
    "elif radius_2>radius_1:\n",
    "    print(\"Area of Second Circle is Greater than first Circle\")\n",
    "    area_2=PI*(radius_2)*(radius_2)\n",
    "    print(f\"Area of Second Circle is :{area_2}\")\n",
    "else: \n",
    "    print(\"Area of both Circle is Equal \")\n",
    "        "
   ]
  },
  {
   "cell_type": "code",
   "execution_count": 18,
   "metadata": {},
   "outputs": [
    {
     "name": "stdout",
     "output_type": "stream",
     "text": [
      "Enter Radius_1 :3\n",
      "Enter Radius_2 :2\n",
      "Area of first Circle is Greater than Second Circle\n",
      "Area of first Circle is :28.259999999999998\n"
     ]
    }
   ],
   "source": [
    "PI=3.14\n",
    "radius_1=float(input(\"Enter Radius_1 :\"))\n",
    "radius_2=float(input(\"Enter Radius_2 :\"))\n",
    "if radius_1>radius_2:\n",
    "    print(\"Area of first Circle is Greater than Second Circle\")\n",
    "    area_1=PI*(radius_1)*(radius_1)\n",
    "    print(f\"Area of first Circle is :{area_1}\")\n",
    "elif radius_2>radius_1:\n",
    "    print(\"Area of Second Circle is Greater than first Circle\")\n",
    "    area_2=PI*(radius_2)*(radius_2)\n",
    "    print(f\"Area of Second Circle is :{area_2}\")\n",
    "else: \n",
    "    print(\"Area of both Circle is Equal \")"
   ]
  },
  {
   "cell_type": "code",
   "execution_count": 25,
   "metadata": {},
   "outputs": [
    {
     "name": "stdout",
     "output_type": "stream",
     "text": [
      "Enter Year to be checked :1900\n",
      "Its not a leap year\n"
     ]
    }
   ],
   "source": [
    "#Check if it is a Leap year or not using if else\n",
    "year=int(input(\"Enter Year to be checked :\"))\n",
    "if year%400==0:\n",
    "    print(\"Its a leap year\")\n",
    "elif year%100==0:\n",
    "    print(\"Its not a leap year\")\n",
    "elif year%4==0:\n",
    "    print(\"its a leap year\")\n",
    "else:\n",
    "    print(\"Its is not a leap year\")\n",
    "\n",
    "    \n",
    "    \n",
    "    \n",
    "    "
   ]
  },
  {
   "cell_type": "code",
   "execution_count": 40,
   "metadata": {},
   "outputs": [
    {
     "name": "stdout",
     "output_type": "stream",
     "text": [
      "Enter Year to be checked :2003\n",
      "Its not a leap year\n"
     ]
    }
   ],
   "source": [
    "year=int(input(\"Enter Year to be checked :\"))\n",
    "if year%4==0:\n",
    "    if year%100==0:\n",
    "        if year%400==0:\n",
    "            print(f\"Its a leap year\")\n",
    "        else:\n",
    "             print(f\"Its not leap year\")\n",
    "    else:\n",
    "         print(f\"Its a leap year\")\n",
    "else:\n",
    "    print(f\"Its not a leap year\")\n",
    "         \n",
    "            \n",
    "    "
   ]
  },
  {
   "cell_type": "code",
   "execution_count": 48,
   "metadata": {},
   "outputs": [
    {
     "name": "stdout",
     "output_type": "stream",
     "text": [
      "False\n"
     ]
    }
   ],
   "source": [
    "A=5.0\n",
    "B=10/2\n",
    "print(A is B)"
   ]
  },
  {
   "cell_type": "code",
   "execution_count": 51,
   "metadata": {},
   "outputs": [
    {
     "name": "stdout",
     "output_type": "stream",
     "text": [
      "Enter A:15.8\n",
      "Enter B:43.6\n",
      "Enter C:12.0\n",
      "the largest number is :43.6\n"
     ]
    }
   ],
   "source": [
    "A=float(input(\"Enter A:\"))\n",
    "B=float(input(\"Enter B:\"))\n",
    "C=float(input(\"Enter C:\"))\n",
    "if (A>=B)and(A>=C):\n",
    "    largest=A\n",
    "elif(B>=A)and (B>=C):\n",
    "    largest=B\n",
    "else:\n",
    "    largest=C\n",
    "\n",
    "print(f\"the largest number is :{largest}\")\n",
    "\n"
   ]
  },
  {
   "cell_type": "code",
   "execution_count": 53,
   "metadata": {},
   "outputs": [
    {
     "name": "stdout",
     "output_type": "stream",
     "text": [
      "Enter number  1234\n",
      "type of number  <class 'str'>\n"
     ]
    }
   ],
   "source": [
    "number1 = input(\"Enter number  \")\n",
    "print(\"type of number \", type(number1))"
   ]
  },
  {
   "cell_type": "code",
   "execution_count": null,
   "metadata": {},
   "outputs": [],
   "source": []
  }
 ],
 "metadata": {
  "kernelspec": {
   "display_name": "Python 3",
   "language": "python",
   "name": "python3"
  },
  "language_info": {
   "codemirror_mode": {
    "name": "ipython",
    "version": 3
   },
   "file_extension": ".py",
   "mimetype": "text/x-python",
   "name": "python",
   "nbconvert_exporter": "python",
   "pygments_lexer": "ipython3",
   "version": "3.8.5"
  }
 },
 "nbformat": 4,
 "nbformat_minor": 4
}
