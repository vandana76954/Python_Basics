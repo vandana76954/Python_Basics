{
 "cells": [
  {
   "cell_type": "markdown",
   "metadata": {},
   "source": [
    "### Online Food orders - Zomato,Swiggy,Uber eats\n",
    "#### 1.If you order more than Rs 499, discount=20%\n",
    "#### 2. If you order more than Rs 999, discount=30%\n"
   ]
  },
  {
   "cell_type": "code",
   "execution_count": 5,
   "metadata": {},
   "outputs": [
    {
     "name": "stdout",
     "output_type": "stream",
     "text": [
      "Total Amount: 800\n",
      "Amount to be paid after discount of 20% : 640.0\n"
     ]
    }
   ],
   "source": [
    "total_amount=int(input(\"Total Amount: \"))\n",
    "if total_amount>999:\n",
    "    discount=total_amount*0.70\n",
    "    print(f\"Amount to be paid after discount of 30% : {discount}\")\n",
    "elif total_amount<=999 and total_amount>499:\n",
    "    discount=total_amount*0.80\n",
    "    print(f\"Amount to be paid after discount of 20% : {discount}\")\n",
    "else:\n",
    "    print(f\"No Discount Available: {total_amount}\")\n",
    "    "
   ]
  },
  {
   "cell_type": "code",
   "execution_count": 8,
   "metadata": {},
   "outputs": [
    {
     "name": "stdout",
     "output_type": "stream",
     "text": [
      "Enter No :3\n",
      "Its a Positive number\n"
     ]
    }
   ],
   "source": [
    "#Print if the number is positive or negative\n",
    "val=float(input(\"Enter No :\"))\n",
    "if val>=0:\n",
    "    if val==0:\n",
    "        print(\"Its a Zero\")\n",
    "    else:\n",
    "        print(\"Its a Positive number\")\n",
    "else:\n",
    "    print(\"Its a Negative Number\")"
   ]
  },
  {
   "cell_type": "code",
   "execution_count": 9,
   "metadata": {},
   "outputs": [
    {
     "name": "stdout",
     "output_type": "stream",
     "text": [
      "Enter No :9\n",
      "No\n"
     ]
    }
   ],
   "source": [
    "#This is also not recommended approach to use this way\n",
    "#Print yes if the number is greater than 99\n",
    "val=float(input(\"Enter No :\"))\n",
    "print(\"Yes\"if val>99 else \"No\")"
   ]
  },
  {
   "cell_type": "code",
   "execution_count": 10,
   "metadata": {},
   "outputs": [
    {
     "name": "stdout",
     "output_type": "stream",
     "text": [
      "Your Score : 100\n",
      "I will attempt next year\n",
      "Your Score : 200\n",
      "I will attempt next year\n",
      "Your Score : 300\n",
      "I will attempt next year\n",
      "Your Score : 399\n",
      "I will attempt next year\n"
     ]
    }
   ],
   "source": [
    "#While loop\n",
    "#UPSC exams ,Government exams\n",
    "#I will attempt next year exam if my scores of current year is less than cutoff\n",
    "total_marks=1000\n",
    "cutoff=400\n",
    "scores=[100,200,300,399,500]\n",
    "#I will keep on attempting till i succeed\n",
    "year=0\n",
    "while scores[year]<cutoff: #Till the time condition is true it will execute otherwise not\n",
    "    print(f\"Your Score : {scores[year]}\")\n",
    "    print(\"I will attempt next year\")\n",
    "    year=year+1"
   ]
  },
  {
   "cell_type": "code",
   "execution_count": 11,
   "metadata": {},
   "outputs": [
    {
     "data": {
      "text/plain": [
       "100"
      ]
     },
     "execution_count": 11,
     "metadata": {},
     "output_type": "execute_result"
    }
   ],
   "source": [
    "scores[0]"
   ]
  },
  {
   "cell_type": "code",
   "execution_count": 12,
   "metadata": {},
   "outputs": [],
   "source": [
    "#Infinite Loop:If your condition is always true then your loop will keep on running\n",
    "#while=True:\n",
    "#    print(\"YES\")\n"
   ]
  },
  {
   "cell_type": "code",
   "execution_count": 14,
   "metadata": {},
   "outputs": [
    {
     "name": "stdout",
     "output_type": "stream",
     "text": [
      "Current Sum: 10\n",
      "Current Sum: 20\n",
      "Current Sum: 30\n",
      "Current Sum: 40\n",
      "Current Sum: 50\n"
     ]
    }
   ],
   "source": [
    "#Child is learning to count 10 Rupees note as you have given 5 notes\n",
    "notes=5\n",
    "i=1 #1st note\n",
    "while i<=notes:\n",
    "    print(f\"Current Sum: {i*10}\")\n",
    "    i=i+1\n"
   ]
  },
  {
   "cell_type": "code",
   "execution_count": 24,
   "metadata": {},
   "outputs": [
    {
     "name": "stdout",
     "output_type": "stream",
     "text": [
      "Current Station is :station01\n",
      "My destination station is :station03\n",
      "continue the journey I haven't reached the destination\n",
      "Next Station : station02\n",
      "Current Station is :station02\n",
      "My destination station is :station03\n",
      "continue the journey I haven't reached the destination\n",
      "Next Station : station03\n"
     ]
    }
   ],
   "source": [
    "#YOu will continue your journey unless untill your station comes\n",
    "stations=[\"station01\",\"station02\",\"station03\",\"station04\"]\n",
    "current_station=0\n",
    "destination_station=\"station03\"\n",
    "while stations[current_station]!=destination_station:\n",
    "    print(f\"Current Station is :{stations[current_station]}\")\n",
    "    print(f\"My destination station is :{destination_station}\")\n",
    "    print(\"continue the journey I haven't reached the destination\")\n",
    "    current_station=current_station+1\n",
    "    print(f\"Next Station : {stations[current_station]}\")"
   ]
  },
  {
   "cell_type": "code",
   "execution_count": 25,
   "metadata": {},
   "outputs": [
    {
     "name": "stdout",
     "output_type": "stream",
     "text": [
      "Current Station is :station01\n",
      "My destination station is :station03\n",
      "Continue the journey I haven't reached the destination\n",
      "Next Station : station02\n",
      "Current Station is :station02\n",
      "My destination station is :station03\n",
      "Continue the journey I haven't reached the destination\n",
      "Next Station : station03\n",
      "I have reached the destination_station : station03\n"
     ]
    }
   ],
   "source": [
    "#While else statement:\n",
    "stations=[\"station01\",\"station02\",\"station03\",\"station04\"]\n",
    "current_station=0\n",
    "destination_station=\"station03\"\n",
    "while stations[current_station]!=destination_station:\n",
    "    print(f\"Current Station is :{stations[current_station]}\")\n",
    "    print(f\"My destination station is :{destination_station}\")\n",
    "    print(\"Continue the journey I haven't reached the destination\")\n",
    "    current_station=current_station+1\n",
    "    print(f\"Next Station : {stations[current_station]}\")\n",
    "else:\n",
    "    print(f\"I have reached the destination_station : {stations[current_station]}\")"
   ]
  },
  {
   "cell_type": "code",
   "execution_count": 26,
   "metadata": {},
   "outputs": [
    {
     "name": "stdout",
     "output_type": "stream",
     "text": [
      "0\n",
      "1\n",
      "2\n",
      "3\n",
      "4\n",
      "5\n",
      "6\n",
      "7\n",
      "8\n",
      "9\n"
     ]
    }
   ],
   "source": [
    "#For loop\n",
    "for i in range(0,10):\n",
    "    print(i)"
   ]
  },
  {
   "cell_type": "code",
   "execution_count": 31,
   "metadata": {},
   "outputs": [
    {
     "name": "stdout",
     "output_type": "stream",
     "text": [
      "10 X 1=10\n",
      "10 X 2=20\n",
      "10 X 3=30\n",
      "10 X 4=40\n",
      "10 X 5=50\n",
      "10 X 6=60\n",
      "10 X 7=70\n",
      "10 X 8=80\n",
      "10 X 9=90\n"
     ]
    }
   ],
   "source": [
    "#Time table using for loop\n",
    "for i in range(1,10):\n",
    "    print(f\"10 X {i}={10*i}\")"
   ]
  },
  {
   "cell_type": "code",
   "execution_count": 32,
   "metadata": {},
   "outputs": [
    {
     "name": "stdout",
     "output_type": "stream",
     "text": [
      "2 X 1 = 2\n",
      "2 X 2 = 4\n",
      "2 X 3 = 6\n",
      "2 X 4 = 8\n",
      "2 X 5 = 10\n",
      "2 X 6 = 12\n",
      "2 X 7 = 14\n",
      "2 X 8 = 16\n",
      "2 X 9 = 18\n",
      "2 X 10 = 20\n"
     ]
    }
   ],
   "source": [
    "#Time table of 2\n",
    "for i in range(1,11):\n",
    "    print(f\"2 X {i} = {2*i}\")\n"
   ]
  },
  {
   "cell_type": "code",
   "execution_count": 6,
   "metadata": {},
   "outputs": [
    {
     "data": {
      "text/plain": [
       "'sunnysunnysunnysunnysunnysunnysunnysunnysunnysunny'"
      ]
     },
     "execution_count": 6,
     "metadata": {},
     "output_type": "execute_result"
    }
   ],
   "source": [
    "#String concatenation\n",
    "\"sunny\"*10\n"
   ]
  },
  {
   "cell_type": "code",
   "execution_count": 7,
   "metadata": {},
   "outputs": [
    {
     "data": {
      "text/plain": [
       "'**********'"
      ]
     },
     "execution_count": 7,
     "metadata": {},
     "output_type": "execute_result"
    }
   ],
   "source": [
    "\"*\"*10"
   ]
  },
  {
   "cell_type": "code",
   "execution_count": 4,
   "metadata": {},
   "outputs": [
    {
     "name": "stdout",
     "output_type": "stream",
     "text": [
      "*\n",
      "**\n",
      "***\n",
      "****\n",
      "*****\n",
      "******\n",
      "*******\n",
      "********\n",
      "*********\n"
     ]
    }
   ],
   "source": [
    "#Draw patterns\n",
    "for i in range(1,10):\n",
    "    print('*'*i)"
   ]
  },
  {
   "cell_type": "code",
   "execution_count": 13,
   "metadata": {},
   "outputs": [
    {
     "name": "stdout",
     "output_type": "stream",
     "text": [
      "0=0+200\n",
      "Total sum after adding :200\n",
      "====================\n",
      "200=200+120\n",
      "Total sum after adding :320\n",
      "====================\n",
      "320=320+169\n",
      "Total sum after adding :489\n",
      "====================\n",
      "489=489+70\n",
      "Total sum after adding :559\n",
      "====================\n",
      "Total amount to be paid :559\n"
     ]
    }
   ],
   "source": [
    "#LEts say you have bought some items from amazon and you want to find total of all the elements\n",
    "cost_of_items=[200,120,169,70]\n",
    "total_sum=0\n",
    "for i in range(0,4):\n",
    "    print(f\"{total_sum}={total_sum}+{cost_of_items[i]}\")\n",
    "    total_sum=total_sum+cost_of_items[i]\n",
    "    print(f\"Total sum after adding :{total_sum}\")\n",
    "    print(\"====================\")\n",
    "print(f\"Total amount to be paid :{total_sum}\")"
   ]
  },
  {
   "cell_type": "code",
   "execution_count": 22,
   "metadata": {},
   "outputs": [
    {
     "name": "stdout",
     "output_type": "stream",
     "text": [
      "200\n",
      "120\n",
      "169\n",
      "70\n"
     ]
    }
   ],
   "source": [
    "cost_of_items=[200,120,169,70]\n",
    "#total_cost=0\n",
    "for cost in cost_of_items:\n",
    "    print(cost)"
   ]
  },
  {
   "cell_type": "code",
   "execution_count": 23,
   "metadata": {},
   "outputs": [
    {
     "name": "stdout",
     "output_type": "stream",
     "text": [
      "200\n",
      "120\n",
      "169\n",
      "70\n"
     ]
    }
   ],
   "source": [
    "cost_of_items=[200,120,169,70]\n",
    "total_cost=0\n",
    "for cost in cost_of_items:\n",
    "    print(cost)"
   ]
  },
  {
   "cell_type": "code",
   "execution_count": 14,
   "metadata": {},
   "outputs": [
    {
     "name": "stdout",
     "output_type": "stream",
     "text": [
      "0=0+200\n",
      "Total sum after adding :200\n",
      "====================\n",
      "200=200+120\n",
      "Total sum after adding :320\n",
      "====================\n",
      "320=320+169\n",
      "Total sum after adding :489\n",
      "====================\n",
      "489=489+70\n",
      "Total sum after adding :559\n",
      "====================\n",
      "Total amount to be paid :559\n"
     ]
    }
   ],
   "source": [
    "cost_of_items=[200,120,169,70]\n",
    "total_sum=0\n",
    "for cost in cost_of_items:\n",
    "    print(f\"{total_sum}={total_sum}+{cost}\")\n",
    "    total_sum=total_sum+cost\n",
    "    print(f\"Total sum after adding :{total_sum}\")\n",
    "    print(\"====================\")\n",
    "print(f\"Total amount to be paid :{total_sum}\")"
   ]
  },
  {
   "cell_type": "code",
   "execution_count": 35,
   "metadata": {},
   "outputs": [
    {
     "name": "stdout",
     "output_type": "stream",
     "text": [
      "station01\n",
      "Continue the journey I haven't reached the destination \n",
      "station02\n",
      "Continue the journey I haven't reached the destination \n",
      "station03\n",
      "Reached destination\n"
     ]
    }
   ],
   "source": [
    "\n",
    "#Train journey\n",
    "stations=[\"station01\",\"station02\",\"station03\",\"station04\"]\n",
    "destination_station=\"station03\"\n",
    "for stat in stations:\n",
    "    print(f\"{stat}\")\n",
    "    if stat!=destination_station:\n",
    "        print(\"Continue the journey I haven't reached the destination \")\n",
    "    else:\n",
    "        print(\"Reached destination\")\n",
    "        break\n",
    "    \n",
    "        \n",
    "    "
   ]
  },
  {
   "cell_type": "code",
   "execution_count": 52,
   "metadata": {},
   "outputs": [
    {
     "name": "stdout",
     "output_type": "stream",
     "text": [
      "100\n",
      "300\n",
      "429\n",
      "885\n",
      "1885\n",
      "2084\n"
     ]
    }
   ],
   "source": [
    "#Lets take example of shopping items of amazon added in your cart with use of break keyword\n",
    "cost_of_items=[100,200,129,456,1000,199,299]\n",
    "total_sum=0\n",
    "budget=2000\n",
    "for cost in cost_of_items:\n",
    "    total_sum=total_sum+cost\n",
    "    print(f\"{total_sum}\")\n",
    "    if total_sum >= budget:\n",
    "        break\n",
    "        \n",
    "\n",
    "     \n",
    "    "
   ]
  },
  {
   "cell_type": "code",
   "execution_count": 47,
   "metadata": {},
   "outputs": [
    {
     "name": "stdout",
     "output_type": "stream",
     "text": [
      "name\n"
     ]
    }
   ],
   "source": [
    "l=[\"name\",\"email_id\",\"phone_no\",\"address\"]\n",
    "for i in l:\n",
    "    if i==\"email_id\":\n",
    "        break\n",
    "    else:\n",
    "        print(i)\n",
    "        \n",
    "    "
   ]
  },
  {
   "cell_type": "code",
   "execution_count": 53,
   "metadata": {},
   "outputs": [
    {
     "name": "stdout",
     "output_type": "stream",
     "text": [
      "1\n",
      "2\n",
      "3\n",
      "4\n",
      "5\n",
      "6\n",
      "7\n",
      "8\n",
      "9\n",
      "10\n",
      "11\n",
      "12\n",
      "13\n",
      "14\n",
      "15\n",
      "16\n",
      "17\n",
      "18\n",
      "19\n",
      "20\n",
      "21\n",
      "22\n",
      "23\n",
      "24\n",
      "25\n",
      "26\n",
      "27\n",
      "28\n",
      "29\n",
      "30\n",
      "31\n",
      "32\n",
      "33\n",
      "34\n",
      "35\n",
      "36\n",
      "37\n",
      "38\n",
      "39\n",
      "40\n",
      "41\n",
      "42\n",
      "43\n",
      "44\n",
      "45\n",
      "46\n",
      "47\n",
      "48\n",
      "49\n",
      "50\n"
     ]
    }
   ],
   "source": [
    "for i in range(1,100):  \n",
    "    if i>50:\n",
    "        break\n",
    "    else:\n",
    "        print(i)"
   ]
  },
  {
   "cell_type": "code",
   "execution_count": 54,
   "metadata": {},
   "outputs": [
    {
     "data": {
      "text/plain": [
       "1"
      ]
     },
     "execution_count": 54,
     "metadata": {},
     "output_type": "execute_result"
    }
   ],
   "source": [
    "1%2"
   ]
  },
  {
   "cell_type": "code",
   "execution_count": 56,
   "metadata": {},
   "outputs": [
    {
     "name": "stdout",
     "output_type": "stream",
     "text": [
      "1\n",
      "3\n",
      "5\n",
      "7\n",
      "9\n",
      "11\n",
      "13\n",
      "15\n",
      "17\n",
      "19\n"
     ]
    }
   ],
   "source": [
    "#Continue keyword in for loop\n",
    "for i in range(1,20):\n",
    "    if i%2==0: #if no is even than start the loop again\n",
    "        continue\n",
    "    print(i)"
   ]
  },
  {
   "cell_type": "code",
   "execution_count": 58,
   "metadata": {},
   "outputs": [
    {
     "name": "stdout",
     "output_type": "stream",
     "text": [
      "2\n",
      "4\n",
      "6\n",
      "8\n",
      "10\n",
      "12\n",
      "14\n",
      "16\n",
      "18\n"
     ]
    }
   ],
   "source": [
    "#Continue keyword in for loop\n",
    "for i in range(1,20):\n",
    "    if i%2!=0: #if no is odd than start the loop again\n",
    "        continue\n",
    "    print(i)"
   ]
  },
  {
   "cell_type": "code",
   "execution_count": null,
   "metadata": {},
   "outputs": [],
   "source": []
  }
 ],
 "metadata": {
  "kernelspec": {
   "display_name": "Python 3",
   "language": "python",
   "name": "python3"
  },
  "language_info": {
   "codemirror_mode": {
    "name": "ipython",
    "version": 3
   },
   "file_extension": ".py",
   "mimetype": "text/x-python",
   "name": "python",
   "nbconvert_exporter": "python",
   "pygments_lexer": "ipython3",
   "version": "3.8.5"
  }
 },
 "nbformat": 4,
 "nbformat_minor": 4
}
