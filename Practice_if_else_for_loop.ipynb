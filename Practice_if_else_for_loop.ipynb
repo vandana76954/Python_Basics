{
 "cells": [
  {
   "cell_type": "code",
   "execution_count": null,
   "metadata": {},
   "outputs": [],
   "source": [
    "a=10"
   ]
  },
  {
   "cell_type": "code",
   "execution_count": null,
   "metadata": {},
   "outputs": [],
   "source": [
    "a<15"
   ]
  },
  {
   "cell_type": "code",
   "execution_count": null,
   "metadata": {},
   "outputs": [],
   "source": [
    "#We are suppose to follow the indentation in python otherwise it will give an error\n",
    "if a<15:\n",
    "    print(\"It is smaller\")"
   ]
  },
  {
   "cell_type": "code",
   "execution_count": null,
   "metadata": {},
   "outputs": [],
   "source": [
    "#Whenever we dont want to do anything with the is statement we can use a reserved word pass.It will not give any error and makes statement void.\n",
    "if a<15:\n",
    "    pass"
   ]
  },
  {
   "cell_type": "code",
   "execution_count": null,
   "metadata": {},
   "outputs": [],
   "source": [
    "#It will not give any output as this will not return anything\n",
    "if 24<15 :\n",
    "    print(\"My name is sudh\")"
   ]
  },
  {
   "cell_type": "code",
   "execution_count": null,
   "metadata": {},
   "outputs": [],
   "source": [
    "#You can check \n",
    "24<15"
   ]
  },
  {
   "cell_type": "code",
   "execution_count": null,
   "metadata": {},
   "outputs": [],
   "source": [
    "if(2<5):\n",
    "    print(\"Number is smaller\")\n",
    "else:\n",
    "    print(\"Number is Greater\")"
   ]
  },
  {
   "cell_type": "code",
   "execution_count": null,
   "metadata": {},
   "outputs": [],
   "source": [
    "income=100\n",
    "if income<50:\n",
    "    print(\"I will buy a phone\")\n",
    "elif income<70:\n",
    "    print(\"I will buy a car\")\n",
    "elif income<90:\n",
    "    print(\"I will rent a house\")\n",
    "else:\n",
    "    print(\"I wont be ablle to buy anything\")\n"
   ]
  },
  {
   "cell_type": "code",
   "execution_count": null,
   "metadata": {},
   "outputs": [],
   "source": [
    "#If we want our user the feasibility to enter input.We use input function for it.\n",
    "#Input will always try to take string data\n",
    "#So what we suppose to do is typecasting conversion  over here in this example.\n",
    "income = int(input(\"Income\"))\n",
    "if income<50:\n",
    "    print(\"I will buy a phone\")\n",
    "elif income<70:\n",
    "    print(\"I will buy a car\")\n",
    "elif income<90:\n",
    "    print(\"I will rent a house\")\n",
    "else:\n",
    "    print(\"I wont be ablle to buy anything\")\n"
   ]
  },
  {
   "cell_type": "code",
   "execution_count": null,
   "metadata": {},
   "outputs": [],
   "source": [
    "total_price = int(input(\"Total_Price :\"))\n",
    "if total_price >=20000:\n",
    "    discount=total_price*.20\n",
    "    print(\"Discount given is 20% :\" ,discount)\n",
    "elif total_price <=7000:\n",
    "    discount=total_price*.05\n",
    "    print(\"Discount given is 5%  :\",discount)\n",
    "else:\n",
    "    print(\"No Discount Available\")"
   ]
  },
  {
   "cell_type": "code",
   "execution_count": null,
   "metadata": {},
   "outputs": [],
   "source": [
    "coupon = input(\"Coupon Code :\")\n",
    "paid_amount=int(input(\"Enter Paid Amount :\"))\n",
    "if coupon == \"AXISBANK5\":\n",
    "    print(\"Yoy will be able to get a discount of 5 % \")\n",
    "    after_discount=paid_amount-paid_amount*0.05\n",
    "    print(\"You will be able to get one neuron course with this amount :\",after_discount)\n",
    "else:\n",
    "    print(\"Kindly apply a valid coupon code\")\n",
    "    \n"
   ]
  },
  {
   "cell_type": "code",
   "execution_count": null,
   "metadata": {},
   "outputs": [],
   "source": [
    "study_hour=int(input(\"Enter Study Hour :\"))\n",
    "if study_hour < 1:\n",
    "    print(\"You will be able to finish this course in 8-9 months\")\n",
    "elif(study_hour<4 and study_hour>1):\n",
    "    print(\"You will be able to finish this course in 6 months\")\n",
    "elif(study_hour<8 and study_hour>4):\n",
    "    print(\"You will be able to finish this course in 3 months\")\n",
    "else:\n",
    "    print(\"It will be difficult to finish this course\")\n"
   ]
  },
  {
   "cell_type": "code",
   "execution_count": null,
   "metadata": {},
   "outputs": [],
   "source": [
    "s=input(\"Enter a string to start :\")\n",
    "course=input(\"Enter a Course name :\")\n",
    "service=input(\"Enter service name :\")\n",
    "if s==\"oneneuron\":\n",
    "    if course==\"DSA\":\n",
    "        print(\"Yes its available under oneneuron and in  multiple mode for job preparation of core concepts \")\n",
    "    elif course==\"BlockChain\":\n",
    "        print(\"\"\"This course in not available right now.\n",
    "        Kindly raise your demand and we will try to fulfill in 60 days\"\"\")\n",
    "    elif course==\"FSDS\":\n",
    "        print(\"Yes its available,you can start learning\")\n",
    "    else:\n",
    "        print(\"This course is not available\")\n",
    "elif s==\"oneneuronservice\":\n",
    "    if service==\"courserequest\":\n",
    "        print(\"\"\"NOTE : Dear Learner You can raise demand for any new course , and we will fulfill it in 60 days \"\"\")\n",
    "    elif service==\"module\":\n",
    "        print(\"\"\"NOTE : Dear Learner You can raise demand for any new module , and we will fulfill it in 60 days \"\"\")\n",
    "    elif service==\"doubt\":\n",
    "        print(\"\"\"NOTE : Dear Learner You can raise demand for any doubt clearing , and we will fulfill it in 24 hours \"\"\")\n",
    "    elif service==\"workwithus\":\n",
    "        print(\"\"\"NOTE : Dear Learner You can raise demand to work with our team, and we will fulfill it\"\"\")\n",
    "    else:\n",
    "        print(\"Kindly provide us your valuable feedback and we will fulfill it\")\n",
    "else:\n",
    "    print(\"Kindly connect with our team\")\n",
    "    \n",
    "    \n",
    "    \n",
    "    \n",
    "    \n"
   ]
  },
  {
   "cell_type": "code",
   "execution_count": null,
   "metadata": {},
   "outputs": [],
   "source": [
    "#FRom list we can extract each element using For loop\n",
    "l=[1,2,3,4,5,6,7]\n",
    "for i in l:\n",
    "    print(i)\n",
    "#By default for loop will first extract the zer index value and iterate further"
   ]
  },
  {
   "cell_type": "code",
   "execution_count": null,
   "metadata": {},
   "outputs": [],
   "source": [
    "#FRom string we can extract each element using For loop\n",
    "s = \"Vandana\"\n",
    "for i in s:\n",
    "    print(i)"
   ]
  },
  {
   "cell_type": "code",
   "execution_count": null,
   "metadata": {},
   "outputs": [],
   "source": [
    "#FRom tuple we can extract each element using For loop\n",
    "t=(1,2,3,4,5,6,6)\n",
    "for i in t:\n",
    "    print(i)"
   ]
  },
  {
   "cell_type": "code",
   "execution_count": null,
   "metadata": {},
   "outputs": [],
   "source": [
    "#Inside the list if you want to extract the datatype of each element using for loop\n",
    "l=[1,4,5.6,4.7j,\"sudh\"]\n",
    "for i in l:\n",
    "    print(type(i),\"Data type of\",i)"
   ]
  },
  {
   "cell_type": "code",
   "execution_count": null,
   "metadata": {},
   "outputs": [],
   "source": [
    "#If you want to add 2 to every element of list\n",
    "l=[1,4,5.6]\n",
    "for i in l:\n",
    "    print(i+2)"
   ]
  },
  {
   "cell_type": "code",
   "execution_count": null,
   "metadata": {},
   "outputs": [],
   "source": [
    "#if i want after additioni want the output to be in the form of list not an individual value\n",
    "l=[1,4,5.6]\n",
    "l1=[]\n",
    "for i in l:\n",
    "    print(i+2)\n",
    "    l1.append(i+2)\n",
    "    "
   ]
  },
  {
   "cell_type": "code",
   "execution_count": null,
   "metadata": {},
   "outputs": [],
   "source": [
    "l1"
   ]
  },
  {
   "cell_type": "code",
   "execution_count": null,
   "metadata": {},
   "outputs": [],
   "source": [
    "#If i want to extract only integer dataype from the list using for loop\n",
    "l=[2,45,78,12,\"sudh\",6+7j,[56,67,78,\"sunny\"]]\n",
    "for i in l:\n",
    "    if type(i)== int:\n",
    "        print(i)\n",
    "    elif type(i)== list:\n",
    "        for j in i:\n",
    "            if type(j)==int:\n",
    "                 print(j)\n",
    "    \n"
   ]
  },
  {
   "cell_type": "code",
   "execution_count": null,
   "metadata": {},
   "outputs": [],
   "source": [
    "#Try to extract all the list of char if element is string\n",
    "l=[2,45,78,12,\"sudh\",6+7j,[56,67,78,\"sunny\"]]\n",
    "for i in l:\n",
    "    if type(i)== str:\n",
    "        l1=[]\n",
    "        print(i)\n",
    "        l1.append(i)\n",
    "    elif type(i)==list:\n",
    "        for j in i:\n",
    "            if type(j)== str:\n",
    "                print(j)\n",
    "                l1.append(j)\n",
    "      \n",
    "    "
   ]
  },
  {
   "cell_type": "code",
   "execution_count": null,
   "metadata": {},
   "outputs": [],
   "source": [
    "l1"
   ]
  },
  {
   "cell_type": "code",
   "execution_count": 6,
   "metadata": {},
   "outputs": [
    {
     "name": "stdout",
     "output_type": "stream",
     "text": [
      "Square of 2 is : 4\n",
      "Square of 45 is : 2025\n",
      "Square of 78 is : 6084\n",
      "Square of 12 is : 144\n",
      "Square of 56 is : 3136\n",
      "Square of 67 is : 4489\n",
      "Square of 78 is : 6084\n"
     ]
    }
   ],
   "source": [
    "#Try to return a list after doing square of all the int element\n",
    "l=[2,45,78,12,\"sudh\",6+7j,[56,67,78,\"sunny\"]]\n",
    "l1=[]\n",
    "for i in l:\n",
    "    if type(i)==int:\n",
    "        print(f\"Square of {i} is :\", i**2)\n",
    "    elif type(i)==list:\n",
    "        for j in i:\n",
    "            if type(j)==int:\n",
    "                print(f\"Square of {j} is :\",j**2)\n",
    "            "
   ]
  },
  {
   "cell_type": "code",
   "execution_count": null,
   "metadata": {},
   "outputs": [],
   "source": [
    "#Try to print index of every element in the list.Use range function which creates a range of dataset.\n",
    "l=[2,45,78,12,\"sudh\",6+7j,[56,67,78,\"sunny\"]]\n",
    "\n",
    "  "
   ]
  },
  {
   "cell_type": "code",
   "execution_count": null,
   "metadata": {},
   "outputs": [],
   "source": [
    "len(l)"
   ]
  },
  {
   "cell_type": "code",
   "execution_count": null,
   "metadata": {},
   "outputs": [],
   "source": [
    "#Try to print index of every element in the list.Use range function which creates a range of dataset.\n",
    "l=[2,45,78,12,\"sudh\",6+7j,[56,67,78,\"sunny\"]]\n",
    "for i in range(len(l)):\n",
    "    print(\"Index of\",i,\"for an element\",l[i])"
   ]
  },
  {
   "cell_type": "code",
   "execution_count": null,
   "metadata": {},
   "outputs": [],
   "source": [
    "#Other way to print index of all the elements of list using for loop\n",
    "#Enumerate will help us to get tuples of element with its indexes\n",
    "l=[2,45,78,12,\"sudh\",6+7j,[56,67,78,\"sunny\"]]\n",
    "for i in enumerate(l):\n",
    "    print(i)"
   ]
  },
  {
   "cell_type": "code",
   "execution_count": 3,
   "metadata": {},
   "outputs": [
    {
     "name": "stdout",
     "output_type": "stream",
     "text": [
      "['s']\n",
      "['s', 'u']\n",
      "['s', 'u', 'd']\n",
      "['s', 'u', 'd', 'h']\n"
     ]
    }
   ],
   "source": [
    "#Try to extract all the list of char if element is string\n",
    "l=[2,45,78,12,\"sudh\",6+7j,[56,67,78,\"sunny\"]]\n",
    "for i in l:\n",
    "    l1=[]\n",
    "    if type(i)==str:\n",
    "        for j in i:\n",
    "            l1.append(j)\n",
    "            print(l1)\n",
    "        "
   ]
  },
  {
   "cell_type": "code",
   "execution_count": 5,
   "metadata": {},
   "outputs": [
    {
     "name": "stdout",
     "output_type": "stream",
     "text": [
      "Square of 2 is : 4\n",
      "Square of 45 is : 2025\n",
      "Square of 78 is : 6084\n",
      "Square of 12 is : 144\n"
     ]
    }
   ],
   "source": [
    "#Try to return a list after doing square of all the int element\n",
    "l=[2,45,78,12,\"sudh\",6+7j,[56,67,78,\"sunny\"]]\n",
    "l1=[]\n",
    "for i in l:\n",
    "    if type(i)==int:\n",
    "        print(f\"Square of {i} is :\", i**2)\n",
    "        l1.append(i**2)"
   ]
  },
  {
   "cell_type": "code",
   "execution_count": null,
   "metadata": {},
   "outputs": [],
   "source": []
  },
  {
   "cell_type": "code",
   "execution_count": null,
   "metadata": {},
   "outputs": [],
   "source": []
  }
 ],
 "metadata": {
  "kernelspec": {
   "display_name": "Python 3",
   "language": "python",
   "name": "python3"
  },
  "language_info": {
   "codemirror_mode": {
    "name": "ipython",
    "version": 3
   },
   "file_extension": ".py",
   "mimetype": "text/x-python",
   "name": "python",
   "nbconvert_exporter": "python",
   "pygments_lexer": "ipython3",
   "version": "3.8.5"
  }
 },
 "nbformat": 4,
 "nbformat_minor": 4
}
