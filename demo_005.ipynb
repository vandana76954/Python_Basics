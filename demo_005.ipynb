{
  "cells": [
    {
      "cell_type": "markdown",
      "metadata": {
        "id": "00gtlTl6A_Iv"
      },
      "source": [
        "### **Arithmatic Operators**\n",
        "\n",
        "|Operation|Meaning|\n",
        "|:-:|:-:|\n",
        "| **+** |addition|\n",
        "| **-** |subtraction|\n",
        "| **\\*** |multiplication|\n",
        "| **/** |true division|\n",
        "| **//** |integer division|\n",
        "| **%** |the modulo operator|\n",
        "\n",
        "\n",
        "Here `+`, `-`, `*`, `/` are regular arithmatic operators. Lets look at the `//` and `%` operators\n",
        "\n",
        "Usecase or examples - \n",
        "    \n",
        "```python\n",
        "var_a = 5\n",
        "var_b = 25\n",
        "integer_division = var_b // var_a\n",
        "print(f\"integer division: {var_b}/{var_a}={integer_division}\")\n",
        "```\n",
        "\n",
        "OUTPUT: integer division: 25/5=5\n",
        "\n",
        "```python\n",
        "var_a = 3\n",
        "var_b = 25\n",
        "integer_division = var_b // var_a\n",
        "print(f\"integer division: {var_b}/{var_a}={integer_division}\")\n",
        "```\n",
        "\n",
        "OUTPUT: integer division: 25/3=8\n",
        "\n",
        "```python\n",
        "var_a = 5\n",
        "var_b = 25\n",
        "remainder = var_b % var_a\n",
        "print(f\"remainder: {var_b}/{var_a} is {remainder}\")\n",
        "```\n",
        "\n",
        "OUTPUT: remainder: 25/5 is 0\n",
        "\n",
        "```python\n",
        "var_a = 3\n",
        "var_b = 25\n",
        "remainder = var_b % var_a\n",
        "print(f\"remainder: {var_b}/{var_a} is {remainder}\")\n",
        "```\n",
        "\n",
        "OUTPUT: remainder: 25/3 is 1\n",
        "\n"
      ]
    },
    {
      "cell_type": "code",
      "execution_count": null,
      "metadata": {
        "colab": {
          "base_uri": "https://localhost:8080/"
        },
        "id": "1Lva-RcBI7pA",
        "outputId": "46fadb33-d0c0-43c5-f7de-f77b3ec51fcd"
      },
      "outputs": [
        {
          "data": {
            "text/plain": [
              "45"
            ]
          },
          "execution_count": 1,
          "metadata": {},
          "output_type": "execute_result"
        }
      ],
      "source": [
        "A = 22\n",
        "B = 23\n",
        "\n",
        "A + B"
      ]
    },
    {
      "cell_type": "code",
      "execution_count": null,
      "metadata": {
        "colab": {
          "base_uri": "https://localhost:8080/"
        },
        "id": "ftWOuZmJBT04",
        "outputId": "59b3ad86-ff1f-499e-9c72-346a5eff0414"
      },
      "outputs": [
        {
          "data": {
            "text/plain": [
              "-1"
            ]
          },
          "execution_count": 2,
          "metadata": {},
          "output_type": "execute_result"
        }
      ],
      "source": [
        "A - B"
      ]
    },
    {
      "cell_type": "code",
      "execution_count": null,
      "metadata": {
        "colab": {
          "base_uri": "https://localhost:8080/"
        },
        "id": "13yNMpk5Bcm3",
        "outputId": "56500db5-8da1-46e6-dbe4-fc1748ea826b"
      },
      "outputs": [
        {
          "data": {
            "text/plain": [
              "0.9565217391304348"
            ]
          },
          "execution_count": 3,
          "metadata": {},
          "output_type": "execute_result"
        }
      ],
      "source": [
        "A / B"
      ]
    },
    {
      "cell_type": "code",
      "execution_count": null,
      "metadata": {
        "colab": {
          "base_uri": "https://localhost:8080/"
        },
        "id": "-GeaMJLUBjEP",
        "outputId": "774fcd1d-5abe-4a38-f223-e10e39f57e30"
      },
      "outputs": [
        {
          "data": {
            "text/plain": [
              "0"
            ]
          },
          "execution_count": 4,
          "metadata": {},
          "output_type": "execute_result"
        }
      ],
      "source": [
        "A // B"
      ]
    },
    {
      "cell_type": "code",
      "execution_count": null,
      "metadata": {
        "colab": {
          "base_uri": "https://localhost:8080/"
        },
        "id": "TLDn7qOhBnB_",
        "outputId": "ee2d31e7-763d-48d7-e660-9d6310e62204"
      },
      "outputs": [
        {
          "data": {
            "text/plain": [
              "2"
            ]
          },
          "execution_count": 5,
          "metadata": {},
          "output_type": "execute_result"
        }
      ],
      "source": [
        "A = 5\n",
        "B = 2\n",
        "\n",
        "A // B "
      ]
    },
    {
      "cell_type": "code",
      "execution_count": null,
      "metadata": {
        "colab": {
          "base_uri": "https://localhost:8080/"
        },
        "id": "FkvGdikYByX3",
        "outputId": "80866c10-a908-4072-9581-301d0a7d03e2"
      },
      "outputs": [
        {
          "data": {
            "text/plain": [
              "1"
            ]
          },
          "execution_count": 6,
          "metadata": {},
          "output_type": "execute_result"
        }
      ],
      "source": [
        "A % B "
      ]
    },
    {
      "cell_type": "code",
      "execution_count": null,
      "metadata": {
        "colab": {
          "base_uri": "https://localhost:8080/"
        },
        "id": "gn-SABT4B1d-",
        "outputId": "d00c630e-c54d-4bab-e14a-3d3e2e6047b0"
      },
      "outputs": [
        {
          "data": {
            "text/plain": [
              "0"
            ]
          },
          "execution_count": 7,
          "metadata": {},
          "output_type": "execute_result"
        }
      ],
      "source": [
        "A = 4\n",
        "B = 2\n",
        "\n",
        "A % B"
      ]
    },
    {
      "cell_type": "code",
      "execution_count": null,
      "metadata": {
        "colab": {
          "base_uri": "https://localhost:8080/"
        },
        "id": "MYXFI_30Cdx3",
        "outputId": "d13fa41e-f762-4bb7-8c2f-b5d3193c3005"
      },
      "outputs": [
        {
          "name": "stdout",
          "output_type": "stream",
          "text": [
            "A: 55 is NOT divisible by B: 2\n"
          ]
        }
      ],
      "source": [
        "A = 55\n",
        "B = 2 \n",
        "\n",
        "\n",
        "if A % B == 0:\n",
        "  print(f\"A: {A} is divisible by B: {B}\")\n",
        "else:\n",
        "  print(f\"A: {A} is NOT divisible by B: {B}\")"
      ]
    },
    {
      "cell_type": "code",
      "execution_count": null,
      "metadata": {
        "colab": {
          "base_uri": "https://localhost:8080/"
        },
        "id": "93U_bSrnC9iW",
        "outputId": "4fee38bf-b947-433e-c6f3-416c8e5a1354"
      },
      "outputs": [
        {
          "name": "stdout",
          "output_type": "stream",
          "text": [
            "A: 54 is divisible by B: 2\n"
          ]
        }
      ],
      "source": [
        "A = 54\n",
        "B = 2 \n",
        "\n",
        "\n",
        "if A % B == 0:\n",
        "  print(f\"A: {A} is divisible by B: {B}\")\n",
        "else:\n",
        "  print(f\"A: {A} is NOT divisible by B: {B}\")"
      ]
    },
    {
      "cell_type": "code",
      "execution_count": null,
      "metadata": {
        "colab": {
          "base_uri": "https://localhost:8080/"
        },
        "id": "jrbTo984DA41",
        "outputId": "5941c714-bcc5-4f2e-c22f-af3d686d2c98"
      },
      "outputs": [
        {
          "name": "stdout",
          "output_type": "stream",
          "text": [
            "A: 54 is divisible by B: 3\n"
          ]
        }
      ],
      "source": [
        "A = 54\n",
        "B = 3 \n",
        "\n",
        "\n",
        "if A % B == 0:\n",
        "  print(f\"A: {A} is divisible by B: {B}\")\n",
        "else:\n",
        "  print(f\"A: {A} is NOT divisible by B: {B}\")"
      ]
    },
    {
      "cell_type": "code",
      "execution_count": null,
      "metadata": {
        "colab": {
          "base_uri": "https://localhost:8080/"
        },
        "id": "5GomCbNmDKJW",
        "outputId": "c5b18cb5-de2e-404d-bf5a-b26e686f325a"
      },
      "outputs": [
        {
          "name": "stdout",
          "output_type": "stream",
          "text": [
            "A: 55 is NOT divisible by B: 3\n"
          ]
        }
      ],
      "source": [
        "A = 55\n",
        "B = 3 \n",
        "\n",
        "\n",
        "if A % B == 0:\n",
        "  print(f\"A: {A} is divisible by B: {B}\")\n",
        "else:\n",
        "  print(f\"A: {A} is NOT divisible by B: {B}\")"
      ]
    },
    {
      "cell_type": "code",
      "execution_count": null,
      "metadata": {
        "colab": {
          "base_uri": "https://localhost:8080/"
        },
        "id": "o4ebP8LRDNzU",
        "outputId": "5d67bf80-3b2b-45cf-c8f1-a4187136a6af"
      },
      "outputs": [
        {
          "data": {
            "text/plain": [
              "2.0"
            ]
          },
          "execution_count": 12,
          "metadata": {},
          "output_type": "execute_result"
        }
      ],
      "source": [
        "A = 4\n",
        "\n",
        "A**(1/2)"
      ]
    },
    {
      "cell_type": "markdown",
      "metadata": {
        "id": "DpmdbomsD6Kv"
      },
      "source": [
        "### String methods"
      ]
    },
    {
      "cell_type": "markdown",
      "metadata": {
        "id": "AsJSiyAJFItT"
      },
      "source": [
        "if N characters or elements are there in a string then\n",
        "\n",
        "the index range will vary from 0 to N-1\n",
        "for example is \"Sunny\" N = 5\n",
        "index value is ranging from 0 to 4\n",
        "\n",
        "to index in reverse order the index  ranges from -1 to -N"
      ]
    },
    {
      "cell_type": "code",
      "execution_count": null,
      "metadata": {
        "colab": {
          "base_uri": "https://localhost:8080/",
          "height": 36
        },
        "id": "_5eVyygjERpM",
        "outputId": "85c67f6a-c4e8-4de5-90e3-32f0504ac3ca"
      },
      "outputs": [
        {
          "data": {
            "application/vnd.google.colaboratory.intrinsic+json": {
              "type": "string"
            },
            "text/plain": [
              "'S'"
            ]
          },
          "execution_count": 14,
          "metadata": {},
          "output_type": "execute_result"
        }
      ],
      "source": [
        "# String indexing\n",
        "#       01234\n",
        "#       -5-4-3-2-1\n",
        "name = \"Sunny\"\n",
        "\n",
        "name[0]"
      ]
    },
    {
      "cell_type": "code",
      "execution_count": null,
      "metadata": {
        "colab": {
          "base_uri": "https://localhost:8080/",
          "height": 36
        },
        "id": "--Zr02U1EyyV",
        "outputId": "0e0d6ae7-4490-4267-9c75-963f3b02f594"
      },
      "outputs": [
        {
          "data": {
            "application/vnd.google.colaboratory.intrinsic+json": {
              "type": "string"
            },
            "text/plain": [
              "'y'"
            ]
          },
          "execution_count": 15,
          "metadata": {},
          "output_type": "execute_result"
        }
      ],
      "source": [
        "name[4]"
      ]
    },
    {
      "cell_type": "code",
      "execution_count": null,
      "metadata": {
        "colab": {
          "base_uri": "https://localhost:8080/",
          "height": 36
        },
        "id": "GhOUWsFwE1tW",
        "outputId": "db87d614-d8bf-47b5-d077-8c3a48ebd268"
      },
      "outputs": [
        {
          "data": {
            "application/vnd.google.colaboratory.intrinsic+json": {
              "type": "string"
            },
            "text/plain": [
              "'y'"
            ]
          },
          "execution_count": 16,
          "metadata": {},
          "output_type": "execute_result"
        }
      ],
      "source": [
        "name[-1]"
      ]
    },
    {
      "cell_type": "code",
      "execution_count": null,
      "metadata": {
        "colab": {
          "base_uri": "https://localhost:8080/",
          "height": 36
        },
        "id": "-Z7zD1XRE9b_",
        "outputId": "d83cc4b0-058f-4e1c-afa4-b8d1dcd27757"
      },
      "outputs": [
        {
          "data": {
            "application/vnd.google.colaboratory.intrinsic+json": {
              "type": "string"
            },
            "text/plain": [
              "'S'"
            ]
          },
          "execution_count": 19,
          "metadata": {},
          "output_type": "execute_result"
        }
      ],
      "source": [
        "name[-5]"
      ]
    },
    {
      "cell_type": "code",
      "execution_count": null,
      "metadata": {
        "colab": {
          "base_uri": "https://localhost:8080/",
          "height": 36
        },
        "id": "Xku-LeOWFqcr",
        "outputId": "9545f767-7ad9-4f7f-c76b-97f7c70087c2"
      },
      "outputs": [
        {
          "data": {
            "application/vnd.google.colaboratory.intrinsic+json": {
              "type": "string"
            },
            "text/plain": [
              "'unny'"
            ]
          },
          "execution_count": 20,
          "metadata": {},
          "output_type": "execute_result"
        }
      ],
      "source": [
        "# String slicing \n",
        "#       01234\n",
        "#       -5-4-3-2-1\n",
        "name = \"Sunny\"\n",
        "\n",
        "name[1:] # [starting: ending]"
      ]
    },
    {
      "cell_type": "code",
      "execution_count": null,
      "metadata": {
        "colab": {
          "base_uri": "https://localhost:8080/",
          "height": 36
        },
        "id": "POxkXPRwGKa8",
        "outputId": "649660cd-9856-4241-96dc-588513996360"
      },
      "outputs": [
        {
          "data": {
            "application/vnd.google.colaboratory.intrinsic+json": {
              "type": "string"
            },
            "text/plain": [
              "'un'"
            ]
          },
          "execution_count": 22,
          "metadata": {},
          "output_type": "execute_result"
        }
      ],
      "source": [
        "name[1:3] # This means that ending is excluded"
      ]
    },
    {
      "cell_type": "code",
      "execution_count": null,
      "metadata": {
        "colab": {
          "base_uri": "https://localhost:8080/",
          "height": 36
        },
        "id": "TUJu5iyhGQxU",
        "outputId": "fa7802f4-41bf-4c97-9b12-e3409a592877"
      },
      "outputs": [
        {
          "data": {
            "application/vnd.google.colaboratory.intrinsic+json": {
              "type": "string"
            },
            "text/plain": [
              "'unn'"
            ]
          },
          "execution_count": 23,
          "metadata": {},
          "output_type": "execute_result"
        }
      ],
      "source": [
        "name[1:4]"
      ]
    },
    {
      "cell_type": "code",
      "execution_count": null,
      "metadata": {
        "colab": {
          "base_uri": "https://localhost:8080/",
          "height": 36
        },
        "id": "SYloGBiOGeeq",
        "outputId": "71c8777f-5a65-448a-a61e-2fb4e00f0026"
      },
      "outputs": [
        {
          "data": {
            "application/vnd.google.colaboratory.intrinsic+json": {
              "type": "string"
            },
            "text/plain": [
              "'unny'"
            ]
          },
          "execution_count": 24,
          "metadata": {},
          "output_type": "execute_result"
        }
      ],
      "source": [
        "name[1:5] # 5 is not included"
      ]
    },
    {
      "cell_type": "code",
      "execution_count": null,
      "metadata": {
        "colab": {
          "base_uri": "https://localhost:8080/",
          "height": 36
        },
        "id": "LCWoF644GlGS",
        "outputId": "67eb21d2-7fc6-4bb9-a881-d04b26ae8979"
      },
      "outputs": [
        {
          "data": {
            "application/vnd.google.colaboratory.intrinsic+json": {
              "type": "string"
            },
            "text/plain": [
              "'unn'"
            ]
          },
          "execution_count": 25,
          "metadata": {},
          "output_type": "execute_result"
        }
      ],
      "source": [
        "name[-4:-1]"
      ]
    },
    {
      "cell_type": "code",
      "execution_count": null,
      "metadata": {
        "colab": {
          "base_uri": "https://localhost:8080/"
        },
        "id": "G79J1ssnGuqj",
        "outputId": "ba55322b-0b06-4b96-c9fe-4af2373a87f5"
      },
      "outputs": [
        {
          "name": "stdout",
          "output_type": "stream",
          "text": [
            "its 08th of the month: 10 of the year: 2022\n"
          ]
        }
      ],
      "source": [
        "# index 0123456789\n",
        "date = \"08/10/2022\"\n",
        "\n",
        "# today's date, Month and year\n",
        "\n",
        "today_s_date = date[0:2]\n",
        "month = date[3:5]\n",
        "year = date[6:]\n",
        "\n",
        "print(f\"its {today_s_date}th of the month: {month} of the year: {year}\")"
      ]
    },
    {
      "cell_type": "code",
      "execution_count": null,
      "metadata": {
        "colab": {
          "base_uri": "https://localhost:8080/"
        },
        "id": "R7ZfEFAQH5ep",
        "outputId": "5e14ee2e-8481-41f8-af34-cae6c8e8280a"
      },
      "outputs": [
        {
          "name": "stdout",
          "output_type": "stream",
          "text": [
            "enter date of birth in the format DD/MM/YYYY: 17/02/1989\n",
            "The user was born in the month of 02 in the year: 1989 on date: 17\n"
          ]
        }
      ],
      "source": [
        "# index 0123456789\n",
        "data = input(\"enter date of birth in the format DD/MM/YYYY: \")\n",
        "\n",
        "# today's date, Month and year\n",
        "\n",
        "date = data[0:2]\n",
        "month = data[3:5]\n",
        "year = data[6:]\n",
        "\n",
        "print(f\"The user was born in the month of {month} in the year: {year} on date: {date}\")"
      ]
    },
    {
      "cell_type": "code",
      "execution_count": null,
      "metadata": {
        "colab": {
          "base_uri": "https://localhost:8080/"
        },
        "id": "-AHFqGztIfRS",
        "outputId": "4d27087c-d58a-4008-9f73-bcde99d57552"
      },
      "outputs": [
        {
          "name": "stdout",
          "output_type": "stream",
          "text": [
            "enter date of birth in the format DD/MMM/YYYY: 17/Mar/1992\n",
            "The user was born in the month of Mar in the year: 1992 on date: 17\n"
          ]
        }
      ],
      "source": [
        "# index 0123456789                              012345678\n",
        "data = input(\"enter date of birth in the format DD/MMM/YYYY: \")\n",
        "\n",
        "# today's date, Month and year\n",
        "\n",
        "date = data[0:2]\n",
        "month = data[3:6]\n",
        "year = data[7:]\n",
        "\n",
        "print(f\"The user was born in the month of {month} in the year: {year} on date: {date}\")"
      ]
    },
    {
      "cell_type": "code",
      "execution_count": null,
      "metadata": {
        "colab": {
          "base_uri": "https://localhost:8080/",
          "height": 36
        },
        "id": "O_THqkWIJ5VS",
        "outputId": "b9c9ae3a-f0f3-4b62-b661-340bf2e34f16"
      },
      "outputs": [
        {
          "data": {
            "application/vnd.google.colaboratory.intrinsic+json": {
              "type": "string"
            },
            "text/plain": [
              "'Sny'"
            ]
          },
          "execution_count": 32,
          "metadata": {},
          "output_type": "execute_result"
        }
      ],
      "source": [
        "name = \"Sunny\" # S_n_y\n",
        "\n",
        "name[0:5:2] # start: ending: step"
      ]
    },
    {
      "cell_type": "code",
      "execution_count": null,
      "metadata": {
        "colab": {
          "base_uri": "https://localhost:8080/",
          "height": 36
        },
        "id": "GQUVog1PKLmQ",
        "outputId": "bde57c2b-5cbf-4113-88f9-4fbb277eec3f"
      },
      "outputs": [
        {
          "data": {
            "application/vnd.google.colaboratory.intrinsic+json": {
              "type": "string"
            },
            "text/plain": [
              "'Sny'"
            ]
          },
          "execution_count": 33,
          "metadata": {},
          "output_type": "execute_result"
        }
      ],
      "source": [
        "\n",
        "name[0::2] # start: ending: step"
      ]
    },
    {
      "cell_type": "code",
      "execution_count": null,
      "metadata": {
        "colab": {
          "base_uri": "https://localhost:8080/",
          "height": 36
        },
        "id": "SILt0JbOKQVR",
        "outputId": "53628b1b-db75-487b-9eb0-a23e77fb3d72"
      },
      "outputs": [
        {
          "data": {
            "application/vnd.google.colaboratory.intrinsic+json": {
              "type": "string"
            },
            "text/plain": [
              "'Sn'"
            ]
          },
          "execution_count": 34,
          "metadata": {},
          "output_type": "execute_result"
        }
      ],
      "source": [
        "# step is 3 -> S__n_\n",
        "name[0:5:3] # start: ending: step"
      ]
    },
    {
      "cell_type": "code",
      "execution_count": null,
      "metadata": {
        "colab": {
          "base_uri": "https://localhost:8080/",
          "height": 36
        },
        "id": "_t37ZmRTK8Uj",
        "outputId": "46cdf813-d70f-4f93-a8b5-979f41ef21ca"
      },
      "outputs": [
        {
          "data": {
            "application/vnd.google.colaboratory.intrinsic+json": {
              "type": "string"
            },
            "text/plain": [
              "'SnyBaenCada'"
            ]
          },
          "execution_count": 35,
          "metadata": {},
          "output_type": "execute_result"
        }
      ],
      "source": [
        "name = \"Sunny Bhaveen Chandra\"\n",
        "\n",
        "name[0::2]"
      ]
    },
    {
      "cell_type": "code",
      "execution_count": null,
      "metadata": {
        "colab": {
          "base_uri": "https://localhost:8080/",
          "height": 36
        },
        "id": "-UbWADW2LR1P",
        "outputId": "630a545d-9fff-492f-85e4-b700fb883346"
      },
      "outputs": [
        {
          "data": {
            "application/vnd.google.colaboratory.intrinsic+json": {
              "type": "string"
            },
            "text/plain": [
              "'SnBvnhd'"
            ]
          },
          "execution_count": 36,
          "metadata": {},
          "output_type": "execute_result"
        }
      ],
      "source": [
        "name = \"Sunny Bhaveen Chandra\"\n",
        "\n",
        "name[0::3]"
      ]
    },
    {
      "cell_type": "code",
      "execution_count": null,
      "metadata": {
        "colab": {
          "base_uri": "https://localhost:8080/",
          "height": 36
        },
        "id": "RRyWntMnLWvm",
        "outputId": "95656462-9782-4453-9e04-36f4eb0e04cc"
      },
      "outputs": [
        {
          "data": {
            "application/vnd.google.colaboratory.intrinsic+json": {
              "type": "string"
            },
            "text/plain": [
              "'SnyBaenCada'"
            ]
          },
          "execution_count": 39,
          "metadata": {},
          "output_type": "execute_result"
        }
      ],
      "source": [
        "name = \"Sunny Bhaveen Chandra\"\n",
        "\n",
        "name[::2]"
      ]
    },
    {
      "cell_type": "code",
      "execution_count": null,
      "metadata": {
        "colab": {
          "base_uri": "https://localhost:8080/",
          "height": 36
        },
        "id": "Hy18rzGCLjuA",
        "outputId": "4e138046-097c-42fe-e036-40d9e4520486"
      },
      "outputs": [
        {
          "data": {
            "application/vnd.google.colaboratory.intrinsic+json": {
              "type": "string"
            },
            "text/plain": [
              "'SnBvnhd'"
            ]
          },
          "execution_count": 40,
          "metadata": {},
          "output_type": "execute_result"
        }
      ],
      "source": [
        "name = \"Sunny Bhaveen Chandra\"\n",
        "\n",
        "name[::3]"
      ]
    },
    {
      "cell_type": "code",
      "execution_count": null,
      "metadata": {
        "colab": {
          "base_uri": "https://localhost:8080/",
          "height": 36
        },
        "id": "CK8qY9qFLmWf",
        "outputId": "a31ab4df-96dc-45f2-b0a9-639bbe08f0ca"
      },
      "outputs": [
        {
          "data": {
            "application/vnd.google.colaboratory.intrinsic+json": {
              "type": "string"
            },
            "text/plain": [
              "'ardnahC neevahB ynnuS'"
            ]
          },
          "execution_count": 41,
          "metadata": {},
          "output_type": "execute_result"
        }
      ],
      "source": [
        "name = \"Sunny Bhaveen Chandra\"\n",
        "\n",
        "name[::-1]"
      ]
    },
    {
      "cell_type": "code",
      "execution_count": null,
      "metadata": {
        "colab": {
          "base_uri": "https://localhost:8080/",
          "height": 36
        },
        "id": "To6FgWWaLspP",
        "outputId": "8ad15a10-0207-44d8-8d1d-6bf55a8a5dda"
      },
      "outputs": [
        {
          "data": {
            "application/vnd.google.colaboratory.intrinsic+json": {
              "type": "string"
            },
            "text/plain": [
              "'adaCneaBynS'"
            ]
          },
          "execution_count": 42,
          "metadata": {},
          "output_type": "execute_result"
        }
      ],
      "source": [
        "name = \"Sunny Bhaveen Chandra\"\n",
        "\n",
        "name[::-2]"
      ]
    },
    {
      "cell_type": "code",
      "execution_count": null,
      "metadata": {
        "colab": {
          "base_uri": "https://localhost:8080/"
        },
        "id": "XKWfQiVBJCHB",
        "outputId": "d6d1bac3-b400-4b33-959c-2a1810eb0a02"
      },
      "outputs": [
        {
          "name": "stdout",
          "output_type": "stream",
          "text": [
            "input a string: radar\n",
            "radar radar\n"
          ]
        }
      ],
      "source": [
        "# Palindrome sequence \n",
        "# madam # read from left or right it will be same\n",
        "# malayalam\n",
        "# nayan\n",
        "# bob\n",
        "# Radar\n",
        "\n",
        "data = input(\"input a string: \")\n",
        "reverse = data[::-1] # start: end: step\n",
        "\n",
        "print(data, reverse)"
      ]
    },
    {
      "cell_type": "code",
      "execution_count": null,
      "metadata": {
        "colab": {
          "base_uri": "https://localhost:8080/"
        },
        "id": "rMvk8tsaMCJZ",
        "outputId": "64e3750a-127b-4ed7-fa1b-8cae3fb4082f"
      },
      "outputs": [
        {
          "name": "stdout",
          "output_type": "stream",
          "text": [
            "input a string: Radar\n",
            "input string: Radar is NOT a palindrome\n"
          ]
        }
      ],
      "source": [
        "data = input(\"input a string: \")\n",
        "reverse = data[::-1] # start: end: step\n",
        "\n",
        "if data == reverse:\n",
        "  print(f\"input string: {data} is palindrome\")\n",
        "else:\n",
        "  print(f\"input string: {data} is NOT a palindrome\")"
      ]
    },
    {
      "cell_type": "code",
      "execution_count": null,
      "metadata": {
        "colab": {
          "base_uri": "https://localhost:8080/"
        },
        "id": "8F624QrWMf8f",
        "outputId": "210e5256-068f-4570-beea-7eb66165151c"
      },
      "outputs": [
        {
          "name": "stdout",
          "output_type": "stream",
          "text": [
            "input a string: sunny\n",
            "input string: sunny is NOT a palindrome\n"
          ]
        }
      ],
      "source": [
        "data = input(\"input a string: \")\n",
        "reverse = data[::-1] # start: end: step\n",
        "\n",
        "if data == reverse:\n",
        "  print(f\"input string: {data} is palindrome\")\n",
        "else:\n",
        "  print(f\"input string: {data} is NOT a palindrome\")"
      ]
    },
    {
      "cell_type": "code",
      "execution_count": null,
      "metadata": {
        "id": "YM8YSeM_MjdQ"
      },
      "outputs": [],
      "source": [
        "data = input(\"input a string: \")\n",
        "reverse = data[::-1] # start: end: step\n",
        "\n",
        "if data == reverse:\n",
        "  print(f\"input string: {data} is palindrome\")\n",
        "else:\n",
        "  print(f\"input string: {data} is NOT a palindrome\")"
      ]
    },
    {
      "cell_type": "code",
      "execution_count": null,
      "metadata": {
        "id": "SH3pPDG_DeKt"
      },
      "outputs": [],
      "source": [
        "sentence = \"Now Playing - 1st Oct Live Class Python if else condition basics\"\n"
      ]
    },
    {
      "cell_type": "markdown",
      "metadata": {
        "id": "J7SEQuKGM5ZW"
      },
      "source": [
        "### Mutability\n",
        "\n",
        "Mutable means subject to change or which can be changed"
      ]
    },
    {
      "cell_type": "code",
      "execution_count": null,
      "metadata": {
        "colab": {
          "base_uri": "https://localhost:8080/",
          "height": 205
        },
        "id": "j81J5PHbM4CW",
        "outputId": "88fceb69-7f11-4505-84c4-f5fef67cdc35"
      },
      "outputs": [
        {
          "ename": "TypeError",
          "evalue": "ignored",
          "output_type": "error",
          "traceback": [
            "\u001b[0;31m---------------------------------------------------------------------------\u001b[0m",
            "\u001b[0;31mTypeError\u001b[0m                                 Traceback (most recent call last)",
            "\u001b[0;32m<ipython-input-48-d912c0ed5bde>\u001b[0m in \u001b[0;36m<module>\u001b[0;34m\u001b[0m\n\u001b[1;32m      3\u001b[0m \u001b[0;31m# Replace S with F?\u001b[0m\u001b[0;34m\u001b[0m\u001b[0;34m\u001b[0m\u001b[0;34m\u001b[0m\u001b[0m\n\u001b[1;32m      4\u001b[0m \u001b[0;34m\u001b[0m\u001b[0m\n\u001b[0;32m----> 5\u001b[0;31m \u001b[0mname\u001b[0m\u001b[0;34m[\u001b[0m\u001b[0;36m0\u001b[0m\u001b[0;34m]\u001b[0m \u001b[0;34m=\u001b[0m \u001b[0;34m\"F\"\u001b[0m\u001b[0;34m\u001b[0m\u001b[0;34m\u001b[0m\u001b[0m\n\u001b[0m",
            "\u001b[0;31mTypeError\u001b[0m: 'str' object does not support item assignment"
          ]
        }
      ],
      "source": [
        "name = \"Sunny\"\n",
        "\n",
        "# Replace S with F?\n",
        "\n",
        "name[0] = \"F\" # immutablility  # String "
      ]
    },
    {
      "cell_type": "code",
      "execution_count": null,
      "metadata": {
        "colab": {
          "base_uri": "https://localhost:8080/",
          "height": 36
        },
        "id": "4iwn8l4VNGW2",
        "outputId": "24187bd8-edd4-4995-d449-c7518a70d83f"
      },
      "outputs": [
        {
          "data": {
            "application/vnd.google.colaboratory.intrinsic+json": {
              "type": "string"
            },
            "text/plain": [
              "'Funny'"
            ]
          },
          "execution_count": 50,
          "metadata": {},
          "output_type": "execute_result"
        }
      ],
      "source": [
        "\"F\" + name[1:]"
      ]
    },
    {
      "cell_type": "code",
      "execution_count": null,
      "metadata": {
        "colab": {
          "base_uri": "https://localhost:8080/",
          "height": 36
        },
        "id": "tC8jsAQCNnAX",
        "outputId": "937f2cc6-1a32-4034-8374-70281de47627"
      },
      "outputs": [
        {
          "data": {
            "application/vnd.google.colaboratory.intrinsic+json": {
              "type": "string"
            },
            "text/plain": [
              "'Sunny'"
            ]
          },
          "execution_count": 51,
          "metadata": {},
          "output_type": "execute_result"
        }
      ],
      "source": [
        "name"
      ]
    },
    {
      "cell_type": "code",
      "execution_count": null,
      "metadata": {
        "colab": {
          "base_uri": "https://localhost:8080/",
          "height": 36
        },
        "id": "caaAkMW3NuJO",
        "outputId": "3f816a47-204a-4d29-d7cf-2db0f39389ab"
      },
      "outputs": [
        {
          "data": {
            "application/vnd.google.colaboratory.intrinsic+json": {
              "type": "string"
            },
            "text/plain": [
              "'Funny'"
            ]
          },
          "execution_count": 52,
          "metadata": {},
          "output_type": "execute_result"
        }
      ],
      "source": [
        "name = \"F\" + name[1:]\n",
        "\n",
        "name"
      ]
    },
    {
      "cell_type": "code",
      "execution_count": null,
      "metadata": {
        "colab": {
          "base_uri": "https://localhost:8080/",
          "height": 36
        },
        "id": "7WOvVOEKNzf_",
        "outputId": "4639dfef-5c3d-43bb-e1ae-23f06f625cb5"
      },
      "outputs": [
        {
          "data": {
            "application/vnd.google.colaboratory.intrinsic+json": {
              "type": "string"
            },
            "text/plain": [
              "'FunnYYY'"
            ]
          },
          "execution_count": 55,
          "metadata": {},
          "output_type": "execute_result"
        }
      ],
      "source": [
        "name = name.replace(\"y\", \"YYY\")\n",
        "name"
      ]
    },
    {
      "cell_type": "code",
      "execution_count": null,
      "metadata": {
        "colab": {
          "base_uri": "https://localhost:8080/",
          "height": 36
        },
        "id": "9gUFafJCN7y0",
        "outputId": "508f6f82-58fd-4dac-bf21-544e1a1f688d"
      },
      "outputs": [
        {
          "data": {
            "application/vnd.google.colaboratory.intrinsic+json": {
              "type": "string"
            },
            "text/plain": [
              "'Funny'"
            ]
          },
          "execution_count": 54,
          "metadata": {},
          "output_type": "execute_result"
        }
      ],
      "source": [
        "name"
      ]
    },
    {
      "cell_type": "code",
      "execution_count": null,
      "metadata": {
        "id": "cBwbZKccN9yO"
      },
      "outputs": [],
      "source": [
        "name = \"Sunny BHAVEEN CHANDRA\"\n",
        "\n",
        "name = name.replace(\"Sunny\", \"SUNNY\")"
      ]
    },
    {
      "cell_type": "code",
      "execution_count": null,
      "metadata": {
        "colab": {
          "base_uri": "https://localhost:8080/",
          "height": 36
        },
        "id": "CnjeJ71iOSFl",
        "outputId": "00838e4f-ef51-466e-85ba-f5d7a466b810"
      },
      "outputs": [
        {
          "data": {
            "application/vnd.google.colaboratory.intrinsic+json": {
              "type": "string"
            },
            "text/plain": [
              "'SUNNY BHAVEEN CHANDRA'"
            ]
          },
          "execution_count": 59,
          "metadata": {},
          "output_type": "execute_result"
        }
      ],
      "source": [
        "name\n"
      ]
    },
    {
      "cell_type": "code",
      "execution_count": null,
      "metadata": {
        "colab": {
          "base_uri": "https://localhost:8080/",
          "height": 36
        },
        "id": "9vyyNgRaOV7F",
        "outputId": "71a28030-5afd-4679-f569-523294e68b15"
      },
      "outputs": [
        {
          "data": {
            "application/vnd.google.colaboratory.intrinsic+json": {
              "type": "string"
            },
            "text/plain": [
              "'SuNNy BHAVEEN CHANDRA'"
            ]
          },
          "execution_count": 60,
          "metadata": {},
          "output_type": "execute_result"
        }
      ],
      "source": [
        "name = \"Sunny BHAVEEN CHANDRA\"\n",
        "\n",
        "name = name.replace(\"n\", \"N\")\n",
        "name"
      ]
    },
    {
      "cell_type": "markdown",
      "metadata": {
        "id": "yeweX7wsO7TO"
      },
      "source": [
        "https://docs.python.org/3/library/string.html"
      ]
    },
    {
      "cell_type": "code",
      "execution_count": null,
      "metadata": {
        "colab": {
          "base_uri": "https://localhost:8080/",
          "height": 36
        },
        "id": "TZnD7VPzOgON",
        "outputId": "7b87585c-6c40-4f8e-faed-4e21a8c71a4a"
      },
      "outputs": [
        {
          "data": {
            "application/vnd.google.colaboratory.intrinsic+json": {
              "type": "string"
            },
            "text/plain": [
              "'Sunny_BHAVEEN_CHANDRA'"
            ]
          },
          "execution_count": 61,
          "metadata": {},
          "output_type": "execute_result"
        }
      ],
      "source": [
        "name = \"Sunny BHAVEEN CHANDRA\"\n",
        "\n",
        "name = name.replace(\" \", \"_\")\n",
        "name"
      ]
    },
    {
      "cell_type": "markdown",
      "metadata": {
        "id": "aSVGRTQXPWNk"
      },
      "source": [
        "### length of the string"
      ]
    },
    {
      "cell_type": "code",
      "execution_count": null,
      "metadata": {
        "colab": {
          "base_uri": "https://localhost:8080/"
        },
        "id": "MICoN_a3PB_E",
        "outputId": "f6457520-7a01-4a28-ba99-069a5a82f431"
      },
      "outputs": [
        {
          "data": {
            "text/plain": [
              "21"
            ]
          },
          "execution_count": 62,
          "metadata": {},
          "output_type": "execute_result"
        }
      ],
      "source": [
        "len(name)"
      ]
    },
    {
      "cell_type": "code",
      "execution_count": null,
      "metadata": {
        "colab": {
          "base_uri": "https://localhost:8080/"
        },
        "id": "QkXVxC3LPcIk",
        "outputId": "8bf106c4-228a-4b16-a860-a75710fa8276"
      },
      "outputs": [
        {
          "data": {
            "text/plain": [
              "5"
            ]
          },
          "execution_count": 63,
          "metadata": {},
          "output_type": "execute_result"
        }
      ],
      "source": [
        "len(\"Sunny\")"
      ]
    },
    {
      "cell_type": "code",
      "execution_count": null,
      "metadata": {
        "colab": {
          "base_uri": "https://localhost:8080/"
        },
        "id": "u9lXtCpnPfsk",
        "outputId": "115b3a9a-cfb2-4637-b0df-e9aacf6d67e9"
      },
      "outputs": [
        {
          "data": {
            "text/plain": [
              "8"
            ]
          },
          "execution_count": 65,
          "metadata": {},
          "output_type": "execute_result"
        }
      ],
      "source": [
        "len(\"Sunny   \")\n"
      ]
    },
    {
      "cell_type": "code",
      "execution_count": null,
      "metadata": {
        "colab": {
          "base_uri": "https://localhost:8080/"
        },
        "id": "sKSE966FPlis",
        "outputId": "bdaf6038-5922-4340-b980-a434b2777c07"
      },
      "outputs": [
        {
          "data": {
            "text/plain": [
              "8"
            ]
          },
          "execution_count": 66,
          "metadata": {},
          "output_type": "execute_result"
        }
      ],
      "source": [
        "len(\"Sunny   \"  )"
      ]
    },
    {
      "cell_type": "code",
      "execution_count": null,
      "metadata": {
        "colab": {
          "base_uri": "https://localhost:8080/"
        },
        "id": "ZqA84b5VPw7s",
        "outputId": "93adaf0d-5a0d-4ab8-8637-11d2490efa55"
      },
      "outputs": [
        {
          "data": {
            "text/plain": [
              "5"
            ]
          },
          "execution_count": 68,
          "metadata": {},
          "output_type": "execute_result"
        }
      ],
      "source": [
        "name = \" Sunny   \"\n",
        "\n",
        "name = name.replace(\" \", \"\")\n",
        "len(name)"
      ]
    },
    {
      "cell_type": "markdown",
      "metadata": {
        "id": "FLBNI3VTS68q"
      },
      "source": [
        "1. String indexing\n",
        "2. String slicing\n",
        "3. String skipping\n",
        "4. String reversal\n",
        "5. String replace method\n",
        "6. length of the string\n",
        "7. String is immutable because we cannot directly assign any value using indexing\n"
      ]
    },
    {
      "cell_type": "code",
      "execution_count": null,
      "metadata": {
        "colab": {
          "base_uri": "https://localhost:8080/",
          "height": 36
        },
        "id": "_SVKQnwQP9Yr",
        "outputId": "23993d5a-7140-493e-e6a3-b9621bbde207"
      },
      "outputs": [
        {
          "data": {
            "application/vnd.google.colaboratory.intrinsic+json": {
              "type": "string"
            },
            "text/plain": [
              "'y'"
            ]
          },
          "execution_count": 69,
          "metadata": {},
          "output_type": "execute_result"
        }
      ],
      "source": [
        "name = \"Sunny Bhaveen Chandra\"\n",
        "name[4]"
      ]
    },
    {
      "cell_type": "code",
      "execution_count": null,
      "metadata": {
        "colab": {
          "base_uri": "https://localhost:8080/",
          "height": 36
        },
        "id": "jjZvMYXKTT3A",
        "outputId": "5b1f025e-c174-4e20-9176-f9adb2ba83bf"
      },
      "outputs": [
        {
          "data": {
            "application/vnd.google.colaboratory.intrinsic+json": {
              "type": "string"
            },
            "text/plain": [
              "'Bhaveen'"
            ]
          },
          "execution_count": 70,
          "metadata": {},
          "output_type": "execute_result"
        }
      ],
      "source": [
        "name = \"Sunny Bhaveen Chandra\"\n",
        "name[6:13]"
      ]
    },
    {
      "cell_type": "code",
      "execution_count": null,
      "metadata": {
        "colab": {
          "base_uri": "https://localhost:8080/",
          "height": 36
        },
        "id": "1Ivh_lvRTZKB",
        "outputId": "41d48d11-bc79-4696-fcc8-a3855f6804a7"
      },
      "outputs": [
        {
          "data": {
            "application/vnd.google.colaboratory.intrinsic+json": {
              "type": "string"
            },
            "text/plain": [
              "'SnBvnhd'"
            ]
          },
          "execution_count": 71,
          "metadata": {},
          "output_type": "execute_result"
        }
      ],
      "source": [
        "name = \"Sunny Bhaveen Chandra\"\n",
        "name[::3]"
      ]
    },
    {
      "cell_type": "code",
      "execution_count": null,
      "metadata": {
        "colab": {
          "base_uri": "https://localhost:8080/",
          "height": 36
        },
        "id": "aPLWtTZLTiGy",
        "outputId": "9b5bd1cd-85be-4809-a419-6367ac4c9868"
      },
      "outputs": [
        {
          "data": {
            "application/vnd.google.colaboratory.intrinsic+json": {
              "type": "string"
            },
            "text/plain": [
              "'ardnahC neevahB ynnuS'"
            ]
          },
          "execution_count": 72,
          "metadata": {},
          "output_type": "execute_result"
        }
      ],
      "source": [
        "name = \"Sunny Bhaveen Chandra\"\n",
        "name[::-1]"
      ]
    },
    {
      "cell_type": "code",
      "execution_count": null,
      "metadata": {
        "colab": {
          "base_uri": "https://localhost:8080/",
          "height": 36
        },
        "id": "XjGCoP4GTomy",
        "outputId": "2780aa3d-5748-468e-caeb-5c318f500d5c"
      },
      "outputs": [
        {
          "data": {
            "application/vnd.google.colaboratory.intrinsic+json": {
              "type": "string"
            },
            "text/plain": [
              "'Sunny=Bhaveen=Chandra'"
            ]
          },
          "execution_count": 73,
          "metadata": {},
          "output_type": "execute_result"
        }
      ],
      "source": [
        "name.replace(\" \", \"=\")"
      ]
    },
    {
      "cell_type": "code",
      "execution_count": null,
      "metadata": {
        "colab": {
          "base_uri": "https://localhost:8080/"
        },
        "id": "M6XklcwVTvZo",
        "outputId": "3389424a-971f-495a-c4b2-88b758225283"
      },
      "outputs": [
        {
          "data": {
            "text/plain": [
              "21"
            ]
          },
          "execution_count": 74,
          "metadata": {},
          "output_type": "execute_result"
        }
      ],
      "source": [
        "name = \"Sunny Bhaveen Chandra\"\n",
        "len(name)"
      ]
    },
    {
      "cell_type": "code",
      "execution_count": null,
      "metadata": {
        "colab": {
          "base_uri": "https://localhost:8080/",
          "height": 169
        },
        "id": "dFNc2WSrT174",
        "outputId": "e26c8a9a-9df7-4166-9fdd-a18b649515ea"
      },
      "outputs": [
        {
          "ename": "TypeError",
          "evalue": "ignored",
          "output_type": "error",
          "traceback": [
            "\u001b[0;31m---------------------------------------------------------------------------\u001b[0m",
            "\u001b[0;31mTypeError\u001b[0m                                 Traceback (most recent call last)",
            "\u001b[0;32m<ipython-input-75-8e56d6d4b47d>\u001b[0m in \u001b[0;36m<module>\u001b[0;34m\u001b[0m\n\u001b[0;32m----> 1\u001b[0;31m \u001b[0mname\u001b[0m\u001b[0;34m[\u001b[0m\u001b[0;36m0\u001b[0m\u001b[0;34m]\u001b[0m \u001b[0;34m=\u001b[0m \u001b[0;34m\"F\"\u001b[0m \u001b[0;31m# This is not allowed\u001b[0m\u001b[0;34m\u001b[0m\u001b[0;34m\u001b[0m\u001b[0m\n\u001b[0m",
            "\u001b[0;31mTypeError\u001b[0m: 'str' object does not support item assignment"
          ]
        }
      ],
      "source": [
        "name[0] = \"F\" # This is not allowed"
      ]
    },
    {
      "cell_type": "code",
      "execution_count": null,
      "metadata": {
        "colab": {
          "base_uri": "https://localhost:8080/",
          "height": 36
        },
        "id": "jyXXOvB9UAqh",
        "outputId": "5b08ddcc-ad75-43bc-c63e-4954c91db5ba"
      },
      "outputs": [
        {
          "data": {
            "application/vnd.google.colaboratory.intrinsic+json": {
              "type": "string"
            },
            "text/plain": [
              "'adaCneaBynS'"
            ]
          },
          "execution_count": 76,
          "metadata": {},
          "output_type": "execute_result"
        }
      ],
      "source": [
        "name[::-2]"
      ]
    },
    {
      "cell_type": "code",
      "execution_count": null,
      "metadata": {
        "colab": {
          "base_uri": "https://localhost:8080/",
          "height": 36
        },
        "id": "cC5Pwq6kUHcg",
        "outputId": "9995857a-d9a6-4352-ea72-d7cb96df6390"
      },
      "outputs": [
        {
          "data": {
            "application/vnd.google.colaboratory.intrinsic+json": {
              "type": "string"
            },
            "text/plain": [
              "'yhe a'"
            ]
          },
          "execution_count": 77,
          "metadata": {},
          "output_type": "execute_result"
        }
      ],
      "source": [
        "name[4:19:3]\n"
      ]
    },
    {
      "cell_type": "code",
      "execution_count": null,
      "metadata": {
        "colab": {
          "base_uri": "https://localhost:8080/",
          "height": 36
        },
        "id": "gvh79qZEULCg",
        "outputId": "a94f4833-9723-49fa-bc27-e4a8dee01dac"
      },
      "outputs": [
        {
          "data": {
            "application/vnd.google.colaboratory.intrinsic+json": {
              "type": "string"
            },
            "text/plain": [
              "''"
            ]
          },
          "execution_count": 78,
          "metadata": {},
          "output_type": "execute_result"
        }
      ],
      "source": [
        "name[-5:-5:]"
      ]
    },
    {
      "cell_type": "markdown",
      "metadata": {
        "id": "AdfeRu-hUsMy"
      },
      "source": [
        "### Count specific characters in a string"
      ]
    },
    {
      "cell_type": "code",
      "execution_count": null,
      "metadata": {
        "colab": {
          "base_uri": "https://localhost:8080/"
        },
        "id": "UPK2T-fdUT6Y",
        "outputId": "72533877-3ff9-4c99-8814-43ebaf713891"
      },
      "outputs": [
        {
          "data": {
            "text/plain": [
              "2"
            ]
          },
          "execution_count": 80,
          "metadata": {},
          "output_type": "execute_result"
        }
      ],
      "source": [
        "name = \"Sunny\"\n",
        "\n",
        "name.count(\"n\")"
      ]
    },
    {
      "cell_type": "markdown",
      "metadata": {
        "id": "Y4KybfVLVCAi"
      },
      "source": [
        "### Split operation"
      ]
    },
    {
      "cell_type": "code",
      "execution_count": null,
      "metadata": {
        "colab": {
          "base_uri": "https://localhost:8080/"
        },
        "id": "RlWGFZZfU0k5",
        "outputId": "00c3cf95-2551-4c8b-87b0-c5af5a3a9b07"
      },
      "outputs": [
        {
          "data": {
            "text/plain": [
              "['Sunny', 'Bhaveen', 'Chandra']"
            ]
          },
          "execution_count": 81,
          "metadata": {},
          "output_type": "execute_result"
        }
      ],
      "source": [
        "name = \"Sunny Bhaveen Chandra\"\n",
        "name.split(\" \")"
      ]
    },
    {
      "cell_type": "code",
      "execution_count": null,
      "metadata": {
        "colab": {
          "base_uri": "https://localhost:8080/"
        },
        "id": "SF6JFwrqVGm_",
        "outputId": "183c1fb9-58b3-4b4e-cbfa-2e9bd793301d"
      },
      "outputs": [
        {
          "name": "stdout",
          "output_type": "stream",
          "text": [
            "\n",
            "First name: Sunny\n",
            "Middle name: Bhaveen\n",
            "Sir name: Chandra\n",
            "\n"
          ]
        }
      ],
      "source": [
        "first_name, middle_name, sir_name = name.split(\" \")\n",
        "\n",
        "print(f\"\"\"\n",
        "First name: {first_name}\n",
        "Middle name: {middle_name}\n",
        "Sir name: {sir_name}\n",
        "\"\"\")"
      ]
    },
    {
      "cell_type": "code",
      "execution_count": null,
      "metadata": {
        "colab": {
          "base_uri": "https://localhost:8080/"
        },
        "id": "QlbFvweoVd14",
        "outputId": "62099c9c-d473-4db4-ad62-0e2fe22ee982"
      },
      "outputs": [
        {
          "name": "stdout",
          "output_type": "stream",
          "text": [
            "enter date of birth in the format DD/MMM/YYYY: 19/Feb/1999\n",
            "The user was born in the month of Feb in the year: 1999 on date: 19\n"
          ]
        }
      ],
      "source": [
        "# index 0123456789                              012345678\n",
        "data = input(\"enter date of birth in the format DD/MMM/YYYY: \")\n",
        "\n",
        "# today's date, Month and year\n",
        "\n",
        "date, month, year = data.split(\"/\")\n",
        "\n",
        "print(f\"The user was born in the month of {month} in the year: {year} on date: {date}\")"
      ]
    },
    {
      "cell_type": "code",
      "execution_count": null,
      "metadata": {
        "colab": {
          "base_uri": "https://localhost:8080/"
        },
        "id": "kiAzjDwuVvXP",
        "outputId": "3a12181d-bae7-4168-b49c-4accf952727e"
      },
      "outputs": [
        {
          "name": "stdout",
          "output_type": "stream",
          "text": [
            "enter date of birth in the format DD/MMM/YYYY: 17/Feb-2000\n"
          ]
        },
        {
          "data": {
            "text/plain": [
              "['17', 'Feb-2000']"
            ]
          },
          "execution_count": 85,
          "metadata": {},
          "output_type": "execute_result"
        }
      ],
      "source": [
        "data = input(\"enter date of birth in the format DD/MMM/YYYY: \")\n",
        "data.split(\"/\")"
      ]
    },
    {
      "cell_type": "code",
      "execution_count": null,
      "metadata": {
        "colab": {
          "base_uri": "https://localhost:8080/"
        },
        "id": "eMZE9JcQV0yI",
        "outputId": "fafd11e6-e10f-4fa6-d80b-3eb1469baf6b"
      },
      "outputs": [
        {
          "data": {
            "text/plain": [
              "['Sunny', 'Bhaveen', 'Chandra']"
            ]
          },
          "execution_count": 86,
          "metadata": {},
          "output_type": "execute_result"
        }
      ],
      "source": [
        "name = \"Sunny_Bhaveen_Chandra\"\n",
        "\n",
        "name.split(\"_\")"
      ]
    },
    {
      "cell_type": "code",
      "execution_count": null,
      "metadata": {
        "colab": {
          "base_uri": "https://localhost:8080/"
        },
        "id": "pZNw1Q-yWQJP",
        "outputId": "b679f44a-dbb4-41e6-bd5a-eae06b604823"
      },
      "outputs": [
        {
          "data": {
            "text/plain": [
              "['Su', '', 'y_Bhavee', '_Cha', 'dra']"
            ]
          },
          "execution_count": 87,
          "metadata": {},
          "output_type": "execute_result"
        }
      ],
      "source": [
        "name.split(\"n\")"
      ]
    },
    {
      "cell_type": "code",
      "execution_count": null,
      "metadata": {
        "colab": {
          "base_uri": "https://localhost:8080/"
        },
        "id": "sfn-VrhGWUYv",
        "outputId": "d3af7c26-09cd-4820-e862-6963a01bdb14"
      },
      "outputs": [
        {
          "data": {
            "text/plain": [
              "['Sunny_Bhaveen_Chandra']"
            ]
          },
          "execution_count": 88,
          "metadata": {},
          "output_type": "execute_result"
        }
      ],
      "source": [
        "name.split(\".\")"
      ]
    },
    {
      "cell_type": "code",
      "execution_count": null,
      "metadata": {
        "colab": {
          "base_uri": "https://localhost:8080/"
        },
        "id": "VHNMbv3ZWb3m",
        "outputId": "eaa2a981-ba70-4c47-9a3d-864e7fb0865c"
      },
      "outputs": [
        {
          "name": "stdout",
          "output_type": "stream",
          "text": [
            "Enter the date in DD/MM/YYYY: 17th/March/95\n"
          ]
        },
        {
          "data": {
            "text/plain": [
              "['17th', 'March', '95']"
            ]
          },
          "execution_count": 89,
          "metadata": {},
          "output_type": "execute_result"
        }
      ],
      "source": [
        "date = input(\"Enter the date in DD/MM/YYYY: \")\n",
        "date.split(\"/\")"
      ]
    },
    {
      "cell_type": "code",
      "execution_count": null,
      "metadata": {
        "colab": {
          "base_uri": "https://localhost:8080/"
        },
        "id": "Scd5T62pWrHP",
        "outputId": "39b2c4fb-14a7-45b0-8d75-7e0f4e2cd76f"
      },
      "outputs": [
        {
          "name": "stdout",
          "output_type": "stream",
          "text": [
            "17th March 95\n"
          ]
        }
      ],
      "source": [
        "A,B,C = date.split(\"/\")\n",
        "\n",
        "print(A, B, C)"
      ]
    },
    {
      "cell_type": "code",
      "execution_count": null,
      "metadata": {
        "colab": {
          "base_uri": "https://localhost:8080/"
        },
        "id": "16EKHwZOW-Ru",
        "outputId": "795076dd-80a9-423e-c43f-d2aac2b41da6"
      },
      "outputs": [
        {
          "data": {
            "text/plain": [
              "['17th', 'March', '95']"
            ]
          },
          "execution_count": 91,
          "metadata": {},
          "output_type": "execute_result"
        }
      ],
      "source": [
        "A = date.split(\"/\")\n",
        "A"
      ]
    },
    {
      "cell_type": "code",
      "execution_count": null,
      "metadata": {
        "colab": {
          "base_uri": "https://localhost:8080/",
          "height": 36
        },
        "id": "YgNvSM9sXEGu",
        "outputId": "dcebd37c-1318-442a-f531-c0742456e4a1"
      },
      "outputs": [
        {
          "data": {
            "application/vnd.google.colaboratory.intrinsic+json": {
              "type": "string"
            },
            "text/plain": [
              "'17th'"
            ]
          },
          "execution_count": 92,
          "metadata": {},
          "output_type": "execute_result"
        }
      ],
      "source": [
        "A[0]"
      ]
    },
    {
      "cell_type": "code",
      "execution_count": null,
      "metadata": {
        "colab": {
          "base_uri": "https://localhost:8080/",
          "height": 36
        },
        "id": "URmX6lk3XIH_",
        "outputId": "19a3d8ea-b9e6-42d2-b59a-edeeb797752c"
      },
      "outputs": [
        {
          "data": {
            "application/vnd.google.colaboratory.intrinsic+json": {
              "type": "string"
            },
            "text/plain": [
              "'March'"
            ]
          },
          "execution_count": 93,
          "metadata": {},
          "output_type": "execute_result"
        }
      ],
      "source": [
        "A[1]"
      ]
    },
    {
      "cell_type": "code",
      "execution_count": null,
      "metadata": {
        "colab": {
          "base_uri": "https://localhost:8080/"
        },
        "id": "_UHjf_k4XLsv",
        "outputId": "6983a72f-52a3-4792-b672-855904df0c91"
      },
      "outputs": [
        {
          "data": {
            "text/plain": [
              "3"
            ]
          },
          "execution_count": 94,
          "metadata": {},
          "output_type": "execute_result"
        }
      ],
      "source": [
        "len(A)"
      ]
    },
    {
      "cell_type": "markdown",
      "metadata": {
        "id": "K3xAi9UjXeWg"
      },
      "source": [
        "### lower upper, title case etc"
      ]
    },
    {
      "cell_type": "code",
      "execution_count": null,
      "metadata": {
        "colab": {
          "base_uri": "https://localhost:8080/",
          "height": 36
        },
        "id": "h3s8--9yXVjW",
        "outputId": "2230d44e-bb4e-4279-c861-a495eb496475"
      },
      "outputs": [
        {
          "data": {
            "application/vnd.google.colaboratory.intrinsic+json": {
              "type": "string"
            },
            "text/plain": [
              "'sunny bhaveen chandra'"
            ]
          },
          "execution_count": 95,
          "metadata": {},
          "output_type": "execute_result"
        }
      ],
      "source": [
        "name = \"Sunny Bhaveen Chandra\"\n",
        "\n",
        "name.lower()"
      ]
    },
    {
      "cell_type": "code",
      "execution_count": null,
      "metadata": {
        "colab": {
          "base_uri": "https://localhost:8080/",
          "height": 36
        },
        "id": "wjBwWD4lXoc1",
        "outputId": "d30cc54d-7bf8-4b5f-ed7e-5919731e958f"
      },
      "outputs": [
        {
          "data": {
            "application/vnd.google.colaboratory.intrinsic+json": {
              "type": "string"
            },
            "text/plain": [
              "'SUNNY BHAVEEN CHANDRA'"
            ]
          },
          "execution_count": 96,
          "metadata": {},
          "output_type": "execute_result"
        }
      ],
      "source": [
        "name.upper()"
      ]
    },
    {
      "cell_type": "code",
      "execution_count": null,
      "metadata": {
        "colab": {
          "base_uri": "https://localhost:8080/"
        },
        "id": "dkynwUy4XrId",
        "outputId": "467d9aa5-4721-4c45-c54a-50d32d06bb50"
      },
      "outputs": [
        {
          "name": "stdout",
          "output_type": "stream",
          "text": [
            "Enter your name: farIYA\n",
            "user input: farIYA\n",
            "name in upper case: FARIYA\n",
            "name in lower case: fariya\n",
            "name in title case: Fariya\n",
            "name in capitalize case: Fariya\n",
            "name in swapcase case: FARiya\n"
          ]
        }
      ],
      "source": [
        "name = input(\"Enter your name: \")\n",
        "\n",
        "print(f\"user input: {name}\")\n",
        "print(f\"name in upper case: {name.upper()}\")\n",
        "print(f\"name in lower case: {name.lower()}\")\n",
        "print(f\"name in title case: {name.title()}\") # \n",
        "print(f\"name in capitalize case: {name.capitalize()}\")\n",
        "print(f\"name in swapcase case: {name.swapcase()}\")"
      ]
    },
    {
      "cell_type": "code",
      "execution_count": null,
      "metadata": {
        "colab": {
          "base_uri": "https://localhost:8080/"
        },
        "id": "U9n9ZODZYLge",
        "outputId": "23a9e8ec-e18a-4c04-8ab3-2d03fe072717"
      },
      "outputs": [
        {
          "name": "stdout",
          "output_type": "stream",
          "text": [
            "user input: Today is the best DAY of my Life.\n",
            "name in upper case: TODAY IS THE BEST DAY OF MY LIFE.\n",
            "name in lower case: today is the best day of my life.\n",
            "name in title case: Today Is The Best Day Of My Life.\n",
            "name in capitalize case: Today is the best day of my life.\n",
            "name in swapcase case: tODAY IS THE BEST day OF MY lIFE.\n"
          ]
        }
      ],
      "source": [
        "name = \"Today is the best DAY of my Life.\"\n",
        "\n",
        "print(f\"user input: {name}\")\n",
        "print(f\"name in upper case: {name.upper()}\")\n",
        "print(f\"name in lower case: {name.lower()}\")\n",
        "print(f\"name in title case: {name.title()}\") # \n",
        "print(f\"name in capitalize case: {name.capitalize()}\")\n",
        "print(f\"name in swapcase case: {name.swapcase()}\")"
      ]
    },
    {
      "cell_type": "code",
      "execution_count": null,
      "metadata": {
        "colab": {
          "base_uri": "https://localhost:8080/",
          "height": 36
        },
        "id": "ifLf7TFiZuYl",
        "outputId": "12fc075c-39a9-4504-c1f2-3eb4600f280b"
      },
      "outputs": [
        {
          "data": {
            "application/vnd.google.colaboratory.intrinsic+json": {
              "type": "string"
            },
            "text/plain": [
              "'S*u*n*n*y* *B*h*a*v*e*e*n* *C*h*a*n*d*r*a'"
            ]
          },
          "execution_count": 103,
          "metadata": {},
          "output_type": "execute_result"
        }
      ],
      "source": [
        "name = \"Sunny Bhaveen Chandra\"\n",
        "\n",
        "\"*\".join(name)"
      ]
    },
    {
      "cell_type": "code",
      "execution_count": null,
      "metadata": {
        "colab": {
          "base_uri": "https://localhost:8080/",
          "height": 36
        },
        "id": "SPTikYP-Z86M",
        "outputId": "97ef030a-79fd-4394-ea4d-7b5015431fbb"
      },
      "outputs": [
        {
          "data": {
            "application/vnd.google.colaboratory.intrinsic+json": {
              "type": "string"
            },
            "text/plain": [
              "'S_u_n_n_y_ _B_h_a_v_e_e_n_ _C_h_a_n_d_r_a'"
            ]
          },
          "execution_count": 104,
          "metadata": {},
          "output_type": "execute_result"
        }
      ],
      "source": [
        "name = \"Sunny Bhaveen Chandra\"\n",
        "\n",
        "\"_\".join(name)"
      ]
    },
    {
      "cell_type": "code",
      "execution_count": null,
      "metadata": {
        "colab": {
          "base_uri": "https://localhost:8080/",
          "height": 36
        },
        "id": "bhCK5afWaA7T",
        "outputId": "a62909c7-cffc-4a6b-aa96-3a1be44f0834"
      },
      "outputs": [
        {
          "data": {
            "application/vnd.google.colaboratory.intrinsic+json": {
              "type": "string"
            },
            "text/plain": [
              "'S|u|n|n|y| |B|h|a|v|e|e|n| |C|h|a|n|d|r|a'"
            ]
          },
          "execution_count": 105,
          "metadata": {},
          "output_type": "execute_result"
        }
      ],
      "source": [
        "name = \"Sunny Bhaveen Chandra\"\n",
        "\n",
        "\"|\".join(name)"
      ]
    },
    {
      "cell_type": "code",
      "execution_count": null,
      "metadata": {
        "colab": {
          "base_uri": "https://localhost:8080/",
          "height": 36
        },
        "id": "pWuPYKohaa_G",
        "outputId": "0675bc7e-d085-4d3a-8757-467142d38099"
      },
      "outputs": [
        {
          "data": {
            "application/vnd.google.colaboratory.intrinsic+json": {
              "type": "string"
            },
            "text/plain": [
              "'S u n n y   B h a v e e n   C h a n d r a'"
            ]
          },
          "execution_count": 109,
          "metadata": {},
          "output_type": "execute_result"
        }
      ],
      "source": [
        "name = \"Sunny Bhaveen Chandra\"\n",
        "\n",
        "\" \".join(name)"
      ]
    },
    {
      "cell_type": "code",
      "execution_count": null,
      "metadata": {
        "colab": {
          "base_uri": "https://localhost:8080/",
          "height": 36
        },
        "id": "4OEBVoegaj-v",
        "outputId": "afe97ef7-6c65-44dc-d21e-b73841971262"
      },
      "outputs": [
        {
          "data": {
            "application/vnd.google.colaboratory.intrinsic+json": {
              "type": "string"
            },
            "text/plain": [
              "'Sunny|Bhaveen|Chandra'"
            ]
          },
          "execution_count": 110,
          "metadata": {},
          "output_type": "execute_result"
        }
      ],
      "source": [
        "name = \"Sunny Bhaveen Chandra\"\n",
        "\n",
        "name.replace(\" \", \"|\")"
      ]
    },
    {
      "cell_type": "code",
      "execution_count": null,
      "metadata": {
        "colab": {
          "base_uri": "https://localhost:8080/",
          "height": 36
        },
        "id": "QGLLSzggaIBF",
        "outputId": "385e8a68-2e36-4846-bfb4-ccd6b05d3c3b"
      },
      "outputs": [
        {
          "data": {
            "application/vnd.google.colaboratory.intrinsic+json": {
              "type": "string"
            },
            "text/plain": [
              "'ardnahC neevahB ynnuS'"
            ]
          },
          "execution_count": 107,
          "metadata": {},
          "output_type": "execute_result"
        }
      ],
      "source": [
        "\"\".join(reversed(name))"
      ]
    },
    {
      "cell_type": "code",
      "execution_count": null,
      "metadata": {
        "colab": {
          "base_uri": "https://localhost:8080/",
          "height": 36
        },
        "id": "vMokNHERaM3c",
        "outputId": "5490e46a-3980-489a-f9c1-1329df349377"
      },
      "outputs": [
        {
          "data": {
            "application/vnd.google.colaboratory.intrinsic+json": {
              "type": "string"
            },
            "text/plain": [
              "'ardnahC neevahB ynnuS'"
            ]
          },
          "execution_count": 108,
          "metadata": {},
          "output_type": "execute_result"
        }
      ],
      "source": [
        "name[::-1]"
      ]
    },
    {
      "cell_type": "markdown",
      "metadata": {
        "id": "ZMAa2C47a2KH"
      },
      "source": [
        "### remove extra spaces front and back of the string"
      ]
    },
    {
      "cell_type": "code",
      "execution_count": null,
      "metadata": {
        "colab": {
          "base_uri": "https://localhost:8080/",
          "height": 36
        },
        "id": "NCcHrL5_aT2L",
        "outputId": "6ae39196-7e0a-4f29-9306-21dedc91a736"
      },
      "outputs": [
        {
          "data": {
            "application/vnd.google.colaboratory.intrinsic+json": {
              "type": "string"
            },
            "text/plain": [
              "'Sunny'"
            ]
          },
          "execution_count": 111,
          "metadata": {},
          "output_type": "execute_result"
        }
      ],
      "source": [
        "name = \"  Sunny   \"\n",
        "\n",
        "name.strip(\" \")"
      ]
    },
    {
      "cell_type": "code",
      "execution_count": null,
      "metadata": {
        "colab": {
          "base_uri": "https://localhost:8080/",
          "height": 36
        },
        "id": "D7K3FdO2bFis",
        "outputId": "7411facb-b56f-4422-d5da-49d7a3f9dfc8"
      },
      "outputs": [
        {
          "data": {
            "application/vnd.google.colaboratory.intrinsic+json": {
              "type": "string"
            },
            "text/plain": [
              "'Sunny   '"
            ]
          },
          "execution_count": 114,
          "metadata": {},
          "output_type": "execute_result"
        }
      ],
      "source": [
        "name = \"  Sunny   \"\n",
        "\n",
        "name.lstrip(\" \")"
      ]
    },
    {
      "cell_type": "code",
      "execution_count": null,
      "metadata": {
        "colab": {
          "base_uri": "https://localhost:8080/",
          "height": 36
        },
        "id": "G9Bv3dgWbRfb",
        "outputId": "6614d9b3-14a9-4b5c-e6e4-66d34db962ff"
      },
      "outputs": [
        {
          "data": {
            "application/vnd.google.colaboratory.intrinsic+json": {
              "type": "string"
            },
            "text/plain": [
              "'  Sunny'"
            ]
          },
          "execution_count": 115,
          "metadata": {},
          "output_type": "execute_result"
        }
      ],
      "source": [
        "name = \"  Sunny   \"\n",
        "\n",
        "name.rstrip(\" \")"
      ]
    },
    {
      "cell_type": "code",
      "execution_count": null,
      "metadata": {
        "colab": {
          "base_uri": "https://localhost:8080/",
          "height": 36
        },
        "id": "LzyZajbsbUYE",
        "outputId": "6539f7b8-cf01-48ae-9ba0-52b832a84a10"
      },
      "outputs": [
        {
          "data": {
            "application/vnd.google.colaboratory.intrinsic+json": {
              "type": "string"
            },
            "text/plain": [
              "'Sunny Bhaveen Chandra'"
            ]
          },
          "execution_count": 116,
          "metadata": {},
          "output_type": "execute_result"
        }
      ],
      "source": [
        "name = \"  Sunny Bhaveen Chandra  \"\n",
        "\n",
        "name.strip(\" \")"
      ]
    },
    {
      "cell_type": "code",
      "execution_count": null,
      "metadata": {
        "colab": {
          "base_uri": "https://localhost:8080/",
          "height": 36
        },
        "id": "cbVxwtScbh9a",
        "outputId": "b98a4a6f-0758-4c9f-b2b5-08432595fd53"
      },
      "outputs": [
        {
          "data": {
            "application/vnd.google.colaboratory.intrinsic+json": {
              "type": "string"
            },
            "text/plain": [
              "'Sunny Bhaveen Chandra'"
            ]
          },
          "execution_count": 118,
          "metadata": {},
          "output_type": "execute_result"
        }
      ],
      "source": [
        "name = \"==Sunny Bhaveen Chandra====\"\n",
        "\n",
        "name.strip(\"=\")"
      ]
    },
    {
      "cell_type": "code",
      "execution_count": null,
      "metadata": {
        "colab": {
          "base_uri": "https://localhost:8080/",
          "height": 36
        },
        "id": "dayyF8KDbY5r",
        "outputId": "7952a049-deaf-433b-8efa-a75f3cfbf92f"
      },
      "outputs": [
        {
          "data": {
            "application/vnd.google.colaboratory.intrinsic+json": {
              "type": "string"
            },
            "text/plain": [
              "'SunnyBhaveenChandra'"
            ]
          },
          "execution_count": 117,
          "metadata": {},
          "output_type": "execute_result"
        }
      ],
      "source": [
        "name = \"  Sunny Bhaveen Chandra  \"\n",
        "\n",
        "name.replace(\" \", \"\")"
      ]
    },
    {
      "cell_type": "markdown",
      "metadata": {
        "id": "Dkh-fEX9b4jd"
      },
      "source": [
        "### Fromatting"
      ]
    },
    {
      "cell_type": "code",
      "execution_count": null,
      "metadata": {
        "colab": {
          "base_uri": "https://localhost:8080/",
          "height": 36
        },
        "id": "5nVfRD49beeT",
        "outputId": "8367aa00-2efe-493f-f723-915e1d1a7d35"
      },
      "outputs": [
        {
          "data": {
            "application/vnd.google.colaboratory.intrinsic+json": {
              "type": "string"
            },
            "text/plain": [
              "'#######Sunny########'"
            ]
          },
          "execution_count": 119,
          "metadata": {},
          "output_type": "execute_result"
        }
      ],
      "source": [
        "name = \"Sunny\"\n",
        "\n",
        "name.center(20, \"#\")"
      ]
    },
    {
      "cell_type": "code",
      "execution_count": null,
      "metadata": {
        "colab": {
          "base_uri": "https://localhost:8080/",
          "height": 36
        },
        "id": "PCyzTB6QcC5E",
        "outputId": "24fab1b5-fb21-444e-8e46-11ac18af5535"
      },
      "outputs": [
        {
          "data": {
            "application/vnd.google.colaboratory.intrinsic+json": {
              "type": "string"
            },
            "text/plain": [
              "'##Sunny###'"
            ]
          },
          "execution_count": 120,
          "metadata": {},
          "output_type": "execute_result"
        }
      ],
      "source": [
        "name = \"Sunny\"\n",
        "\n",
        "name.center(10, \"#\")"
      ]
    },
    {
      "cell_type": "code",
      "execution_count": null,
      "metadata": {
        "colab": {
          "base_uri": "https://localhost:8080/",
          "height": 36
        },
        "id": "miAnTKjBcGpD",
        "outputId": "358bee16-c112-44a6-d35f-d46806305536"
      },
      "outputs": [
        {
          "data": {
            "application/vnd.google.colaboratory.intrinsic+json": {
              "type": "string"
            },
            "text/plain": [
              "'Sunny'"
            ]
          },
          "execution_count": 121,
          "metadata": {},
          "output_type": "execute_result"
        }
      ],
      "source": [
        "name = \"Sunny\"\n",
        "\n",
        "name.center(2, \"#\")"
      ]
    },
    {
      "cell_type": "code",
      "execution_count": null,
      "metadata": {
        "colab": {
          "base_uri": "https://localhost:8080/",
          "height": 36
        },
        "id": "XdEe_f3acZeK",
        "outputId": "f71c4d55-7fd2-4ffe-e5ee-33b4b382d891"
      },
      "outputs": [
        {
          "data": {
            "application/vnd.google.colaboratory.intrinsic+json": {
              "type": "string"
            },
            "text/plain": [
              "'******sangeeta******'"
            ]
          },
          "execution_count": 125,
          "metadata": {},
          "output_type": "execute_result"
        }
      ],
      "source": [
        "name = \"sangeeta\"\n",
        "\n",
        "name.center(20, \"*\")"
      ]
    },
    {
      "cell_type": "markdown",
      "metadata": {
        "id": "JcaikFaUcV4M"
      },
      "source": [
        "### Checking string cases [imp]"
      ]
    },
    {
      "cell_type": "code",
      "execution_count": null,
      "metadata": {
        "colab": {
          "base_uri": "https://localhost:8080/"
        },
        "id": "Uve8nu7scQo7",
        "outputId": "5d397034-53dc-4244-8a27-f28f6de96639"
      },
      "outputs": [
        {
          "data": {
            "text/plain": [
              "True"
            ]
          },
          "execution_count": 126,
          "metadata": {},
          "output_type": "execute_result"
        }
      ],
      "source": [
        "name = \"SUNNY\"\n",
        "\n",
        "name.isupper()"
      ]
    },
    {
      "cell_type": "code",
      "execution_count": null,
      "metadata": {
        "colab": {
          "base_uri": "https://localhost:8080/"
        },
        "id": "uPdQJUkPc1ii",
        "outputId": "3fef8242-73ee-4bf7-c47b-3b73985c9818"
      },
      "outputs": [
        {
          "data": {
            "text/plain": [
              "False"
            ]
          },
          "execution_count": 127,
          "metadata": {},
          "output_type": "execute_result"
        }
      ],
      "source": [
        "name = \"Sunny\"\n",
        "\n",
        "name.isupper()"
      ]
    },
    {
      "cell_type": "code",
      "execution_count": null,
      "metadata": {
        "colab": {
          "base_uri": "https://localhost:8080/"
        },
        "id": "ZqKdvrbDc3yK",
        "outputId": "f4f3171f-e70f-4716-f094-2b75ec41ba28"
      },
      "outputs": [
        {
          "data": {
            "text/plain": [
              "True"
            ]
          },
          "execution_count": 128,
          "metadata": {},
          "output_type": "execute_result"
        }
      ],
      "source": [
        "name = \"sunny\"\n",
        "\n",
        "name.islower()"
      ]
    },
    {
      "cell_type": "code",
      "execution_count": null,
      "metadata": {
        "colab": {
          "base_uri": "https://localhost:8080/"
        },
        "id": "MLZCrKeYc-h7",
        "outputId": "4cc975d8-0af9-47af-f5d9-5794ac1e58a5"
      },
      "outputs": [
        {
          "data": {
            "text/plain": [
              "False"
            ]
          },
          "execution_count": 129,
          "metadata": {},
          "output_type": "execute_result"
        }
      ],
      "source": [
        "name = \"Sunny\"\n",
        "\n",
        "name.islower()"
      ]
    },
    {
      "cell_type": "code",
      "execution_count": null,
      "metadata": {
        "colab": {
          "base_uri": "https://localhost:8080/"
        },
        "id": "7Ur9pEqpdAgT",
        "outputId": "0f104622-ec3d-42e7-9c86-06be2514c26b"
      },
      "outputs": [
        {
          "data": {
            "text/plain": [
              "False"
            ]
          },
          "execution_count": 130,
          "metadata": {},
          "output_type": "execute_result"
        }
      ],
      "source": [
        "name = \"Sunny\"\n",
        "\n",
        "name.isspace()"
      ]
    },
    {
      "cell_type": "code",
      "execution_count": null,
      "metadata": {
        "colab": {
          "base_uri": "https://localhost:8080/"
        },
        "id": "RL13bdXXdLj0",
        "outputId": "67d3ae4f-79f6-498c-d26a-abf9b333b558"
      },
      "outputs": [
        {
          "data": {
            "text/plain": [
              "True"
            ]
          },
          "execution_count": 133,
          "metadata": {},
          "output_type": "execute_result"
        }
      ],
      "source": [
        "name = \"Sunny\"\n",
        "\n",
        "name.istitle()"
      ]
    },
    {
      "cell_type": "code",
      "execution_count": null,
      "metadata": {
        "colab": {
          "base_uri": "https://localhost:8080/"
        },
        "id": "ODMWl0PYdDjD",
        "outputId": "305a1c96-5112-4b51-bdf9-e3309dc39c62"
      },
      "outputs": [
        {
          "data": {
            "text/plain": [
              "False"
            ]
          },
          "execution_count": 131,
          "metadata": {},
          "output_type": "execute_result"
        }
      ],
      "source": [
        "name = \"Sunny \"\n",
        "\n",
        "name.isspace()"
      ]
    },
    {
      "cell_type": "code",
      "execution_count": null,
      "metadata": {
        "colab": {
          "base_uri": "https://localhost:8080/"
        },
        "id": "Q5D5RZyhdFsJ",
        "outputId": "12fb443c-330d-462c-8d42-907e72640d1d"
      },
      "outputs": [
        {
          "data": {
            "text/plain": [
              "True"
            ]
          },
          "execution_count": 132,
          "metadata": {},
          "output_type": "execute_result"
        }
      ],
      "source": [
        "name = \"   \"\n",
        "\n",
        "name.isspace()"
      ]
    },
    {
      "cell_type": "code",
      "execution_count": null,
      "metadata": {
        "colab": {
          "base_uri": "https://localhost:8080/"
        },
        "id": "NoqcRYjZdHzB",
        "outputId": "d97651a7-cbf1-442a-c9e1-1ef3035b9986"
      },
      "outputs": [
        {
          "name": "stdout",
          "output_type": "stream",
          "text": [
            "Enter your name:          \n",
            "user input:          \n",
            "Wrong input please try again!!\n"
          ]
        }
      ],
      "source": [
        "name = input(\"Enter your name: \")\n",
        "\n",
        "print(f\"user input: {name}\")\n",
        "\n",
        "if name.istitle():\n",
        "  print(f\"user has given correct input\")\n",
        "elif name.isspace():\n",
        "  print(f\"Wrong input please try again!!\")\n",
        "else:\n",
        "  print(f\"wrong input we need to autocorrect it\")\n",
        "  name = name.title()\n",
        "  print(f\"Correct output: {name}\")"
      ]
    },
    {
      "cell_type": "code",
      "execution_count": null,
      "metadata": {
        "colab": {
          "base_uri": "https://localhost:8080/"
        },
        "id": "V3AFbwQHdvZk",
        "outputId": "e020425c-9484-47b5-b825-5dbe6088f16d"
      },
      "outputs": [
        {
          "name": "stdout",
          "output_type": "stream",
          "text": [
            "Enter your name: sunny chandra\n",
            "user input: sunny chandra\n",
            "wrong input we need to autocorrect it\n",
            "Correct output: Sunny Chandra\n"
          ]
        }
      ],
      "source": [
        "name = input(\"Enter your name: \")\n",
        "\n",
        "print(f\"user input: {name}\")\n",
        "\n",
        "if name.istitle():\n",
        "  print(f\"user has given correct input\")\n",
        "elif name.isspace():\n",
        "  print(f\"Wrong input please try again!!\")\n",
        "else:\n",
        "  print(f\"wrong input we need to autocorrect it\")\n",
        "  name = name.title()\n",
        "  print(f\"Correct output: {name}\")"
      ]
    },
    {
      "cell_type": "code",
      "execution_count": null,
      "metadata": {
        "colab": {
          "base_uri": "https://localhost:8080/"
        },
        "id": "2vWLpeTNemBT",
        "outputId": "0f55f4a1-38cd-4125-8a27-c0802d9c4a36"
      },
      "outputs": [
        {
          "name": "stdout",
          "output_type": "stream",
          "text": [
            "Enter your name: Sunny Chandra\n",
            "user input: Sunny Chandra\n",
            "user has given correct input\n"
          ]
        }
      ],
      "source": [
        "name = input(\"Enter your name: \")\n",
        "\n",
        "print(f\"user input: {name}\")\n",
        "\n",
        "if name.istitle():\n",
        "  print(f\"user has given correct input\")\n",
        "elif name.isspace():\n",
        "  print(f\"Wrong input please try again!!\")\n",
        "else:\n",
        "  print(f\"wrong input we need to autocorrect it\")\n",
        "  name = name.title()\n",
        "  print(f\"Correct output: {name}\")"
      ]
    },
    {
      "cell_type": "code",
      "execution_count": null,
      "metadata": {
        "colab": {
          "base_uri": "https://localhost:8080/"
        },
        "id": "wiclbGv9esW2",
        "outputId": "cf9ed77a-1dad-4f9c-d96e-4545346a0203"
      },
      "outputs": [
        {
          "name": "stdout",
          "output_type": "stream",
          "text": [
            "Enter your name: SunNY CHAndra\n",
            "user input: SunNY CHAndra\n",
            "wrong input we need to autocorrect it\n",
            "Correct output: Sunny Chandra\n"
          ]
        }
      ],
      "source": [
        "name = input(\"Enter your name: \")\n",
        "\n",
        "print(f\"user input: {name}\")\n",
        "\n",
        "if name.istitle():\n",
        "  print(f\"user has given correct input\")\n",
        "elif name.isspace():\n",
        "  print(f\"Wrong input please try again!!\")\n",
        "else:\n",
        "  print(f\"wrong input we need to autocorrect it\")\n",
        "  name = name.title()\n",
        "  print(f\"Correct output: {name}\")"
      ]
    },
    {
      "cell_type": "code",
      "execution_count": null,
      "metadata": {
        "colab": {
          "base_uri": "https://localhost:8080/"
        },
        "id": "QaHW6RbYe0Ng",
        "outputId": "25d80cff-41bd-4b9c-c406-ecb5b4a0ed78"
      },
      "outputs": [
        {
          "data": {
            "text/plain": [
              "True"
            ]
          },
          "execution_count": 141,
          "metadata": {},
          "output_type": "execute_result"
        }
      ],
      "source": [
        "phone_number = \"1308580135\"\n",
        "phone_number.isdigit()"
      ]
    },
    {
      "cell_type": "code",
      "execution_count": null,
      "metadata": {
        "colab": {
          "base_uri": "https://localhost:8080/"
        },
        "id": "PoH7tFzefMrY",
        "outputId": "bb69fadc-e724-4bb3-bab0-285db556cc7b"
      },
      "outputs": [
        {
          "data": {
            "text/plain": [
              "False"
            ]
          },
          "execution_count": 142,
          "metadata": {},
          "output_type": "execute_result"
        }
      ],
      "source": [
        "phone_number = \"1308580135ggg\"\n",
        "phone_number.isdigit()"
      ]
    },
    {
      "cell_type": "code",
      "execution_count": null,
      "metadata": {
        "colab": {
          "base_uri": "https://localhost:8080/"
        },
        "id": "HklxSr-PfRA4",
        "outputId": "84ddb0c0-416e-4e91-f7c6-53518a76b90a"
      },
      "outputs": [
        {
          "name": "stdout",
          "output_type": "stream",
          "text": [
            "Enter your phone no: 7894561230\n",
            "user input is correct\n"
          ]
        }
      ],
      "source": [
        "phone_number = input(\"Enter your phone no: \")\n",
        "\n",
        "if phone_number.isdigit() and len(phone_number) == 10:\n",
        "  print(f\"user input is correct\")\n",
        "else:\n",
        "  print(\"invalid input\")"
      ]
    },
    {
      "cell_type": "code",
      "execution_count": null,
      "metadata": {
        "colab": {
          "base_uri": "https://localhost:8080/"
        },
        "id": "TAJ1T4tLfsMg",
        "outputId": "685c503a-5ce1-487d-d1a5-722c699b9983"
      },
      "outputs": [
        {
          "name": "stdout",
          "output_type": "stream",
          "text": [
            "Enter your phone no: 789456 123\n",
            "invalid input\n"
          ]
        }
      ],
      "source": [
        "phone_number = input(\"Enter your phone no: \")\n",
        "\n",
        "if phone_number.isdigit() and len(phone_number) == 10:\n",
        "  print(f\"user input is correct\")\n",
        "else:\n",
        "  print(\"invalid input\")"
      ]
    },
    {
      "cell_type": "code",
      "execution_count": null,
      "metadata": {
        "colab": {
          "base_uri": "https://localhost:8080/"
        },
        "id": "x0-QydyjfwYh",
        "outputId": "41481b9d-874a-4f76-dbb2-845c3309e415"
      },
      "outputs": [
        {
          "name": "stdout",
          "output_type": "stream",
          "text": [
            "Enter your phone no: 789456123000\n",
            "invalid input\n"
          ]
        }
      ],
      "source": [
        "phone_number = input(\"Enter your phone no: \")\n",
        "\n",
        "if phone_number.isdigit() and len(phone_number) == 10:\n",
        "  print(f\"user input is correct\")\n",
        "else:\n",
        "  print(\"invalid input\")\n"
      ]
    },
    {
      "cell_type": "code",
      "execution_count": null,
      "metadata": {
        "colab": {
          "base_uri": "https://localhost:8080/"
        },
        "id": "hJNIXynNf4PY",
        "outputId": "db365292-8d68-474e-e82b-54734ab96d9e"
      },
      "outputs": [
        {
          "name": "stdout",
          "output_type": "stream",
          "text": [
            "Enter your phone no: 0000000000\n",
            "invalid input\n"
          ]
        }
      ],
      "source": [
        "phone_number = input(\"Enter your phone no: \")\n",
        "\n",
        "if phone_number.isdigit() and len(phone_number) == 10 and phone_number != \"0000000000\":\n",
        "  print(f\"user input is correct\")\n",
        "else:\n",
        "  print(\"invalid input\")"
      ]
    },
    {
      "cell_type": "code",
      "execution_count": null,
      "metadata": {
        "colab": {
          "base_uri": "https://localhost:8080/"
        },
        "id": "7bBYwBenf9AQ",
        "outputId": "93bf6f5b-b14d-4753-c872-e724860acfa5"
      },
      "outputs": [
        {
          "data": {
            "text/plain": [
              "True"
            ]
          },
          "execution_count": 148,
          "metadata": {},
          "output_type": "execute_result"
        }
      ],
      "source": [
        "phone_number.startswith(\"0\")"
      ]
    },
    {
      "cell_type": "code",
      "execution_count": null,
      "metadata": {
        "colab": {
          "base_uri": "https://localhost:8080/"
        },
        "id": "0BMc-F9rgbLY",
        "outputId": "2467c019-1aa5-4ef5-c023-6a30776cfc10"
      },
      "outputs": [
        {
          "data": {
            "text/plain": [
              "True"
            ]
          },
          "execution_count": 149,
          "metadata": {},
          "output_type": "execute_result"
        }
      ],
      "source": [
        "phone_number.endswith(\"0\")"
      ]
    },
    {
      "cell_type": "code",
      "execution_count": null,
      "metadata": {
        "colab": {
          "base_uri": "https://localhost:8080/"
        },
        "id": "86lgbxW-g2eA",
        "outputId": "361b6fcb-b9e9-439d-fd5a-1a9bae842d07"
      },
      "outputs": [
        {
          "data": {
            "text/plain": [
              "True"
            ]
          },
          "execution_count": 151,
          "metadata": {},
          "output_type": "execute_result"
        }
      ],
      "source": [
        "phone_number = \"+917894561230\"\n",
        "\n",
        "phone_number.startswith(\"+91\")"
      ]
    },
    {
      "cell_type": "code",
      "execution_count": null,
      "metadata": {
        "colab": {
          "base_uri": "https://localhost:8080/",
          "height": 36
        },
        "id": "qrk41X7Dj-QF",
        "outputId": "fcfa332d-9c65-4a03-c451-32801e50afd4"
      },
      "outputs": [
        {
          "data": {
            "application/vnd.google.colaboratory.intrinsic+json": {
              "type": "string"
            },
            "text/plain": [
              "'910000000000'"
            ]
          },
          "execution_count": 166,
          "metadata": {},
          "output_type": "execute_result"
        }
      ],
      "source": [
        "phone_number[1:]"
      ]
    },
    {
      "cell_type": "code",
      "execution_count": null,
      "metadata": {
        "colab": {
          "base_uri": "https://localhost:8080/"
        },
        "id": "GWyN9ml5g-Ow",
        "outputId": "047e1d40-4676-413a-ce87-7afc368cd70f"
      },
      "outputs": [
        {
          "data": {
            "text/plain": [
              "True"
            ]
          },
          "execution_count": 153,
          "metadata": {},
          "output_type": "execute_result"
        }
      ],
      "source": [
        "phone_number[1:].isdigit()"
      ]
    },
    {
      "cell_type": "code",
      "execution_count": null,
      "metadata": {
        "colab": {
          "base_uri": "https://localhost:8080/"
        },
        "id": "9AkdocOmhI5X",
        "outputId": "26a664b8-71cd-492a-9da2-376602969c63"
      },
      "outputs": [
        {
          "data": {
            "text/plain": [
              "True"
            ]
          },
          "execution_count": 154,
          "metadata": {},
          "output_type": "execute_result"
        }
      ],
      "source": [
        "len(phone_number)==13"
      ]
    },
    {
      "cell_type": "code",
      "execution_count": null,
      "metadata": {
        "colab": {
          "base_uri": "https://localhost:8080/"
        },
        "id": "FXwZjFt0h8EH",
        "outputId": "eff129e2-6533-4289-8d05-9255df63034d"
      },
      "outputs": [
        {
          "data": {
            "text/plain": [
              "10"
            ]
          },
          "execution_count": 159,
          "metadata": {},
          "output_type": "execute_result"
        }
      ],
      "source": [
        "phone_number = \"+910000000000\"\n",
        "\n",
        "phone_number.count(\"0\")"
      ]
    },
    {
      "cell_type": "code",
      "execution_count": null,
      "metadata": {
        "colab": {
          "base_uri": "https://localhost:8080/"
        },
        "id": "dt__A48bgeFo",
        "outputId": "34f6c8af-494d-4f1f-a04e-94b61a414a5d"
      },
      "outputs": [
        {
          "name": "stdout",
          "output_type": "stream",
          "text": [
            "Enter your Indian phone no: +917894561230\n",
            "user input is correct\n"
          ]
        }
      ],
      "source": [
        "phone_number = input(\"Enter your Indian phone no: \")\n",
        "\n",
        "if phone_number.startswith(\"+91\") and phone_number[1:].isdigit() and len(phone_number)==13:\n",
        "  print(f\"user input is correct\")\n",
        "else:\n",
        "  print(\"invalid input\")"
      ]
    },
    {
      "cell_type": "code",
      "execution_count": null,
      "metadata": {
        "colab": {
          "base_uri": "https://localhost:8080/"
        },
        "id": "4O5Fj_PZgwWw",
        "outputId": "f5c1d951-4cee-493b-f83d-072e41504cda"
      },
      "outputs": [
        {
          "name": "stdout",
          "output_type": "stream",
          "text": [
            "Enter your Indian phone no: +937894561230\n",
            "invalid input\n"
          ]
        }
      ],
      "source": [
        "phone_number = input(\"Enter your Indian phone no: \")\n",
        "\n",
        "if phone_number.startswith(\"+91\") and phone_number[1:].isdigit() and len(phone_number)==13:\n",
        "  print(f\"user input is correct\")\n",
        "else:\n",
        "  print(\"invalid input\")"
      ]
    },
    {
      "cell_type": "code",
      "execution_count": null,
      "metadata": {
        "colab": {
          "base_uri": "https://localhost:8080/"
        },
        "id": "BbXZ5z6ZhfBu",
        "outputId": "8006c813-22b2-45d3-a172-89bcef119201"
      },
      "outputs": [
        {
          "name": "stdout",
          "output_type": "stream",
          "text": [
            "Enter your Indian phone no: 917894561230\n",
            "invalid input\n"
          ]
        }
      ],
      "source": [
        "phone_number = input(\"Enter your Indian phone no: \")\n",
        "\n",
        "if phone_number.startswith(\"+91\") and phone_number[1:].isdigit() and len(phone_number)==13:\n",
        "  print(f\"user input is correct\")\n",
        "else:\n",
        "  print(\"invalid input\")\n"
      ]
    },
    {
      "cell_type": "code",
      "execution_count": null,
      "metadata": {
        "colab": {
          "base_uri": "https://localhost:8080/"
        },
        "id": "-9WAb8WwhnB-",
        "outputId": "fb191216-6b5a-45e5-a524-7263d7016882"
      },
      "outputs": [
        {
          "data": {
            "text/plain": [
              "True"
            ]
          },
          "execution_count": 160,
          "metadata": {},
          "output_type": "execute_result"
        }
      ],
      "source": [
        "PAN_NUMBERS = \"AYEPC5656X\"\n",
        "PAN_NUMBERS.isalnum() # Check for alpha numeric case"
      ]
    },
    {
      "cell_type": "code",
      "execution_count": null,
      "metadata": {
        "colab": {
          "base_uri": "https://localhost:8080/"
        },
        "id": "vs6KKmkHit4u",
        "outputId": "9abfeb3f-6734-4919-d595-c6d0ecb8bfdb"
      },
      "outputs": [
        {
          "data": {
            "text/plain": [
              "True"
            ]
          },
          "execution_count": 162,
          "metadata": {},
          "output_type": "execute_result"
        }
      ],
      "source": [
        "PAN_NUMBERS = \"789789789\"\n",
        "PAN_NUMBERS.isalnum() # Check for alphabets or numeric case"
      ]
    },
    {
      "cell_type": "code",
      "execution_count": null,
      "metadata": {
        "colab": {
          "base_uri": "https://localhost:8080/"
        },
        "id": "O9IZJNl2i0S9",
        "outputId": "1a266768-9abd-40d2-cd5a-debf5a8c7165"
      },
      "outputs": [
        {
          "data": {
            "text/plain": [
              "True"
            ]
          },
          "execution_count": 163,
          "metadata": {},
          "output_type": "execute_result"
        }
      ],
      "source": [
        "PAN_NUMBERS = \"SUNNY\"\n",
        "PAN_NUMBERS.isalnum() # Check for alphabets or numeric case"
      ]
    },
    {
      "cell_type": "code",
      "execution_count": null,
      "metadata": {
        "colab": {
          "base_uri": "https://localhost:8080/"
        },
        "id": "zr0NPOtci-p1",
        "outputId": "065d2116-1c27-4f78-ee69-a7c2ad72bef6"
      },
      "outputs": [
        {
          "data": {
            "text/plain": [
              "False"
            ]
          },
          "execution_count": 164,
          "metadata": {},
          "output_type": "execute_result"
        }
      ],
      "source": [
        "PAN_NUMBERS = \"SUNNY  CHANDRA\" # BECAUSE IT CONTAINS SPACES WHICH IS NOT ALPHBET\n",
        "PAN_NUMBERS.isalnum() # Check for alphabets or numeric case"
      ]
    },
    {
      "cell_type": "code",
      "execution_count": null,
      "metadata": {
        "colab": {
          "base_uri": "https://localhost:8080/"
        },
        "id": "FP_W9X1ljXhV",
        "outputId": "d3be75b8-f9b5-4c49-f615-b2ffa985c123"
      },
      "outputs": [
        {
          "data": {
            "text/plain": [
              "False"
            ]
          },
          "execution_count": 165,
          "metadata": {},
          "output_type": "execute_result"
        }
      ],
      "source": [
        "PAN_NUMBERS = \"SUNNY**CHANDRA\"\n",
        "PAN_NUMBERS.isalnum() # Check for alphabets or numeric case"
      ]
    },
    {
      "cell_type": "code",
      "execution_count": null,
      "metadata": {
        "id": "RmPLcCvDja5N"
      },
      "outputs": [],
      "source": []
    }
  ],
  "metadata": {
    "colab": {
      "provenance": []
    },
    "kernelspec": {
      "display_name": "Python 3",
      "name": "python3"
    },
    "language_info": {
      "name": "python"
    }
  },
  "nbformat": 4,
  "nbformat_minor": 0
}
